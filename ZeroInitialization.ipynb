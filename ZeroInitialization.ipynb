{
 "cells": [
  {
   "cell_type": "markdown",
   "source": [
    "\n",
    "# Zero Initialization - Bias Initialization"
   ],
   "metadata": {
    "collapsed": false
   }
  },
  {
   "cell_type": "code",
   "source": [
    "import math\n",
    "import os\n",
    "import random\n",
    "\n",
    "import joblib\n",
    "import numpy as np\n",
    "import optuna\n",
    "import torch\n",
    "from torch.optim import Adam, RMSprop, SGD\n",
    "from torch.utils.tensorboard import SummaryWriter\n",
    "\n",
    "from config import ExperimentConfig\n",
    "from data import get_mnist_loader, get_cifar10_loader\n",
    "from models import FNN, CNN, CIFARCNN, ResNet50\n",
    "from train import run_experiments, Trainer\n",
    "\n",
    "ELU_SCALE_NORMAL = math.sqrt(1.615)\n",
    "ELU_SCALE_UNIFORM = math.sqrt(1.574)\n",
    "RELU_SCALE = math.sqrt(2)\n",
    "R_SEED = 1777"
   ],
   "metadata": {
    "collapsed": false,
    "ExecuteTime": {
     "end_time": "2024-04-05T08:41:42.901256Z",
     "start_time": "2024-04-05T08:41:40.413597Z"
    }
   },
   "outputs": [],
   "execution_count": 1
  },
  {
   "cell_type": "markdown",
   "source": [
    "## 1 MNIST - FNN"
   ],
   "metadata": {
    "collapsed": false
   }
  },
  {
   "cell_type": "markdown",
   "source": [
    "### 1.1 Normal Distribution"
   ],
   "metadata": {
    "collapsed": false
   }
  },
  {
   "cell_type": "code",
   "execution_count": null,
   "outputs": [],
   "source": [
    "train_loader, val_loader = get_mnist_loader(train=True, batch_size=32)\n",
    "test_loader = get_mnist_loader(train=False, batch_size=32)"
   ],
   "metadata": {
    "collapsed": false
   }
  },
  {
   "cell_type": "markdown",
   "source": [
    "#### 1.1.1 Pytorch Default Initialization"
   ],
   "metadata": {
    "collapsed": false
   }
  },
  {
   "cell_type": "code",
   "execution_count": null,
   "outputs": [],
   "source": [
    "model = FNN(\n",
    "    [\n",
    "        {\"in_features\": 28 * 28, \"out_features\": 500},\n",
    "        {\"in_features\": 500, \"out_features\": 10},\n",
    "    ]\n",
    ")\n",
    "\n",
    "config = ExperimentConfig(\n",
    "    model_name=\"MNIST_FNN\",\n",
    "    train_loader=train_loader,\n",
    "    val_loader=val_loader,\n",
    "    test_loader=test_loader,\n",
    "    epochs=20\n",
    ")\n",
    "\n",
    "run_experiments(model, config)"
   ],
   "metadata": {
    "collapsed": false
   }
  },
  {
   "cell_type": "markdown",
   "source": [
    "#### 1.1.2 Standard Normal Distribution"
   ],
   "metadata": {
    "collapsed": false
   }
  },
  {
   "cell_type": "code",
   "execution_count": null,
   "outputs": [],
   "source": [
    "model = FNN(\n",
    "    [\n",
    "        {\"in_features\": 28 * 28, \"out_features\": 500},\n",
    "        {\"in_features\": 500, \"out_features\": 10},\n",
    "    ]\n",
    ")\n",
    "model.initialize(mode=\"normal\")\n",
    "\n",
    "config = ExperimentConfig(\n",
    "    model_name=\"MNIST_FNN_NORMAL\",\n",
    "    train_loader=train_loader,\n",
    "    val_loader=val_loader,\n",
    "    test_loader=test_loader,\n",
    "    epochs=20\n",
    ")\n",
    "\n",
    "run_experiments(model, config)"
   ],
   "metadata": {
    "collapsed": false
   }
  },
  {
   "cell_type": "markdown",
   "source": [
    "#### 1.1.3 Negative Mean Shift"
   ],
   "metadata": {
    "collapsed": false
   }
  },
  {
   "cell_type": "code",
   "execution_count": null,
   "outputs": [],
   "source": [
    "model = FNN(\n",
    "    [\n",
    "        {\"in_features\": 28 * 28, \"out_features\": 500},\n",
    "        {\"in_features\": 500, \"out_features\": 10},\n",
    "    ]\n",
    ")\n",
    "model.initialize(mode=\"normal\", mean=-1.0)\n",
    "\n",
    "config = ExperimentConfig(\n",
    "    model_name=\"MNIST_FNN_NORMAL_MEAN_NEG\",\n",
    "    train_loader=train_loader,\n",
    "    val_loader=val_loader,\n",
    "    test_loader=test_loader,\n",
    "    epochs=20\n",
    ")\n",
    "\n",
    "run_experiments(model, config)"
   ],
   "metadata": {
    "collapsed": false
   }
  },
  {
   "cell_type": "markdown",
   "source": [
    "#### 1.1.4 Positive Mean Shift"
   ],
   "metadata": {
    "collapsed": false
   }
  },
  {
   "cell_type": "code",
   "execution_count": null,
   "outputs": [],
   "source": [
    "model = FNN(\n",
    "    [\n",
    "        {\"in_features\": 28 * 28, \"out_features\": 500},\n",
    "        {\"in_features\": 500, \"out_features\": 10},\n",
    "    ]\n",
    ")\n",
    "model.initialize(mode=\"normal\", mean=1.0)\n",
    "\n",
    "config = ExperimentConfig(\n",
    "    model_name=\"MNIST_FNN_NORMAL_MEAN_POS\",\n",
    "    train_loader=train_loader,\n",
    "    val_loader=val_loader,\n",
    "    test_loader=test_loader,\n",
    "    epochs=20\n",
    ")\n",
    "\n",
    "run_experiments(model, config)"
   ],
   "metadata": {
    "collapsed": false
   }
  },
  {
   "cell_type": "markdown",
   "source": [
    "#### 1.1.5 Negative Mean Shift High"
   ],
   "metadata": {
    "collapsed": false
   }
  },
  {
   "cell_type": "code",
   "execution_count": null,
   "outputs": [],
   "source": [
    "torch.manual_seed(R_SEED)\n",
    "random.seed(R_SEED)\n",
    "np.random.seed(R_SEED)\n",
    "\n",
    "model = FNN(\n",
    "    [\n",
    "        {\"in_features\": 28 * 28, \"out_features\": 500},\n",
    "        {\"in_features\": 500, \"out_features\": 10},\n",
    "    ]\n",
    ")\n",
    "model.initialize(mode=\"normal\", mean=-5.0)\n",
    "\n",
    "config = ExperimentConfig(\n",
    "    model_name=\"MNIST_FNN_NORMAL_NEG_HIGH\",\n",
    "    train_loader=train_loader,\n",
    "    val_loader=val_loader,\n",
    "    test_loader=test_loader,\n",
    "    epochs=20\n",
    ")\n",
    "\n",
    "run_experiments(model, config)"
   ],
   "metadata": {
    "collapsed": false
   }
  },
  {
   "cell_type": "markdown",
   "source": [
    "#### 1.1.6 Positive Mean Shift High"
   ],
   "metadata": {
    "collapsed": false
   }
  },
  {
   "cell_type": "code",
   "execution_count": null,
   "outputs": [],
   "source": [
    "model = FNN(\n",
    "    [\n",
    "        {\"in_features\": 28 * 28, \"out_features\": 500},\n",
    "        {\"in_features\": 500, \"out_features\": 10},\n",
    "    ]\n",
    ")\n",
    "model.initialize(mode=\"normal\", mean=5.0)\n",
    "\n",
    "config = ExperimentConfig(\n",
    "    model_name=\"MNIST_FNN_NORMAL_MEAN_POS_HIGH\",\n",
    "    train_loader=train_loader,\n",
    "    val_loader=val_loader,\n",
    "    test_loader=test_loader,\n",
    "    epochs=20\n",
    ")\n",
    "\n",
    "run_experiments(model, config)"
   ],
   "metadata": {
    "collapsed": false
   }
  },
  {
   "cell_type": "markdown",
   "source": [
    "#### 1.1.7 Negative Mean Shift very High"
   ],
   "metadata": {
    "collapsed": false
   }
  },
  {
   "cell_type": "code",
   "execution_count": null,
   "outputs": [],
   "source": [
    "model = FNN(\n",
    "    [\n",
    "        {\"in_features\": 28 * 28, \"out_features\": 500},\n",
    "        {\"in_features\": 500, \"out_features\": 10},\n",
    "    ]\n",
    ")\n",
    "model.initialize(mode=\"normal\", mean=-50.0)\n",
    "\n",
    "config = ExperimentConfig(\n",
    "    model_name=\"MNIST_FNN_NORMAL_MEAN_NEG_OVER\",\n",
    "    train_loader=train_loader,\n",
    "    val_loader=val_loader,\n",
    "    test_loader=test_loader,\n",
    "    epochs=20\n",
    ")\n",
    "\n",
    "run_experiments(model, config)"
   ],
   "metadata": {
    "collapsed": false
   }
  },
  {
   "cell_type": "markdown",
   "source": [
    "#### 1.1.8 Positive Mean Shift very High"
   ],
   "metadata": {
    "collapsed": false
   }
  },
  {
   "cell_type": "code",
   "execution_count": null,
   "outputs": [],
   "source": [
    "model = FNN(\n",
    "    [\n",
    "        {\"in_features\": 28 * 28, \"out_features\": 500},\n",
    "        {\"in_features\": 500, \"out_features\": 10},\n",
    "    ]\n",
    ")\n",
    "model.initialize(mode=\"normal\", mean=50.0)\n",
    "\n",
    "config = ExperimentConfig(\n",
    "    model_name=\"MNIST_FNN_NORMAL_MEAN_POS_OVER\",\n",
    "    train_loader=train_loader,\n",
    "    val_loader=val_loader,\n",
    "    test_loader=test_loader,\n",
    "    epochs=20\n",
    ")\n",
    "\n",
    "run_experiments(model, config)"
   ],
   "metadata": {
    "collapsed": false
   }
  },
  {
   "cell_type": "code",
   "execution_count": null,
   "outputs": [],
   "source": [
    "model = FNN(\n",
    "    [\n",
    "        {\"in_features\": 28 * 28, \"out_features\": 500},\n",
    "        {\"in_features\": 500, \"out_features\": 10},\n",
    "    ]\n",
    ")\n",
    "model.initialize(mode=\"normal\", softmax_init=True)\n",
    "\n",
    "config = ExperimentConfig(\n",
    "    model_name=\"MNIST_FNN_NORMAL_LAST_LAYER\",\n",
    "    train_loader=train_loader,\n",
    "    val_loader=val_loader,\n",
    "    test_loader=test_loader,\n",
    "    epochs=20\n",
    ")\n",
    "\n",
    "run_experiments(model, config)"
   ],
   "metadata": {
    "collapsed": false
   }
  },
  {
   "cell_type": "code",
   "execution_count": null,
   "outputs": [],
   "source": [
    "model = FNN(\n",
    "    [\n",
    "        {\"in_features\": 28 * 28, \"out_features\": 500},\n",
    "        {\"in_features\": 500, \"out_features\": 10},\n",
    "    ]\n",
    ")\n",
    "model.initialize(mode=\"normal\", scale_factor=ELU_SCALE_NORMAL)\n",
    "\n",
    "config = ExperimentConfig(\n",
    "    model_name=\"MNIST_FNN_NORMAL_ELU_SCALE\",\n",
    "    train_loader=train_loader,\n",
    "    val_loader=val_loader,\n",
    "    test_loader=test_loader,\n",
    "    epochs=20\n",
    ")\n",
    "\n",
    "run_experiments(model, config)"
   ],
   "metadata": {
    "collapsed": false
   }
  },
  {
   "cell_type": "code",
   "execution_count": null,
   "outputs": [],
   "source": [
    "model = FNN(\n",
    "    [\n",
    "        {\"in_features\": 28 * 28, \"out_features\": 500},\n",
    "        {\"in_features\": 500, \"out_features\": 10},\n",
    "    ]\n",
    ")\n",
    "model.initialize(mode=\"normal\", scale_factor=0.1)\n",
    "\n",
    "config = ExperimentConfig(\n",
    "    model_name=\"MNIST_FNN_NORMAL_0.1_STD\",\n",
    "    train_loader=train_loader,\n",
    "    val_loader=val_loader,\n",
    "    test_loader=test_loader,\n",
    "    epochs=20\n",
    ")\n",
    "\n",
    "run_experiments(model, config)"
   ],
   "metadata": {
    "collapsed": false
   }
  },
  {
   "cell_type": "code",
   "execution_count": null,
   "outputs": [],
   "source": [
    "model = FNN(\n",
    "    [\n",
    "        {\"in_features\": 28 * 28, \"out_features\": 500},\n",
    "        {\"in_features\": 500, \"out_features\": 10},\n",
    "    ]\n",
    ")\n",
    "model.initialize(mode=\"normal\", scale_factor=0.5)\n",
    "\n",
    "config = ExperimentConfig(\n",
    "    model_name=\"MNIST_FNN_NORMAL_0.5_STD\",\n",
    "    train_loader=train_loader,\n",
    "    val_loader=val_loader,\n",
    "    test_loader=test_loader,\n",
    "    epochs=20\n",
    ")\n",
    "\n",
    "run_experiments(model, config)"
   ],
   "metadata": {
    "collapsed": false
   }
  },
  {
   "cell_type": "code",
   "execution_count": null,
   "outputs": [],
   "source": [
    "model = FNN(\n",
    "    [\n",
    "        {\"in_features\": 28 * 28, \"out_features\": 500},\n",
    "        {\"in_features\": 500, \"out_features\": 10},\n",
    "    ]\n",
    ")\n",
    "model.initialize(mode=\"normal\", scale_factor=2)\n",
    "\n",
    "config = ExperimentConfig(\n",
    "    model_name=\"MNIST_FNN_NORMAL_2.0_STD\",\n",
    "    train_loader=train_loader,\n",
    "    val_loader=val_loader,\n",
    "    test_loader=test_loader,\n",
    "    epochs=20\n",
    ")\n",
    "\n",
    "run_experiments(model, config)"
   ],
   "metadata": {
    "collapsed": false
   }
  },
  {
   "cell_type": "code",
   "execution_count": null,
   "outputs": [],
   "source": [
    "model = FNN(\n",
    "    [\n",
    "        {\"in_features\": 28 * 28, \"out_features\": 500},\n",
    "        {\"in_features\": 500, \"out_features\": 10},\n",
    "    ]\n",
    ")\n",
    "model.initialize(mode=\"normal_in_features\")\n",
    "\n",
    "config = ExperimentConfig(\n",
    "    model_name=\"MNIST_FNN_NORMAL_IN_FEATURES\",\n",
    "    train_loader=train_loader,\n",
    "    val_loader=val_loader,\n",
    "    test_loader=test_loader,\n",
    "    epochs=20\n",
    ")\n",
    "\n",
    "run_experiments(model, config)"
   ],
   "metadata": {
    "collapsed": false
   }
  },
  {
   "cell_type": "code",
   "execution_count": null,
   "outputs": [],
   "source": [
    "model = FNN(\n",
    "    [\n",
    "        {\"in_features\": 28 * 28, \"out_features\": 500},\n",
    "        {\"in_features\": 500, \"out_features\": 10},\n",
    "    ]\n",
    ")\n",
    "model.initialize(mode=\"normal_in_features\", softmax_init=True)\n",
    "\n",
    "config = ExperimentConfig(\n",
    "    model_name=\"MNIST_FNN_NORMAL_IN_FEATURES_LAST_LAYER\",\n",
    "    train_loader=train_loader,\n",
    "    val_loader=val_loader,\n",
    "    test_loader=test_loader,\n",
    "    epochs=20\n",
    ")\n",
    "\n",
    "run_experiments(model, config)"
   ],
   "metadata": {
    "collapsed": false
   }
  },
  {
   "cell_type": "markdown",
   "source": [
    "#### 1.1.1 Finding The Point Of Break"
   ],
   "metadata": {
    "collapsed": false
   }
  },
  {
   "cell_type": "code",
   "execution_count": null,
   "outputs": [],
   "source": [
    "train_loader, val_loader = get_mnist_loader(train=True, batch_size=32)\n",
    "test_loader = get_mnist_loader(train=False, batch_size=32)"
   ],
   "metadata": {
    "collapsed": false
   }
  },
  {
   "cell_type": "code",
   "execution_count": null,
   "outputs": [],
   "source": [
    "factor_range = range(10, 301, 10)\n",
    "\n",
    "for factor in factor_range:\n",
    "    torch.manual_seed(R_SEED)\n",
    "    random.seed(R_SEED)\n",
    "    np.random.seed(R_SEED)\n",
    "\n",
    "    model = FNN(\n",
    "        [\n",
    "            {\"in_features\": 28 * 28, \"out_features\": 500},\n",
    "            {\"in_features\": 500, \"out_features\": 10},\n",
    "        ]\n",
    "    )\n",
    "    model.initialize(mode=\"normal\", scale_factor=factor)\n",
    "    writer = SummaryWriter(f\"./results/MNIST_FNN_NORMAL_1_{factor}\")\n",
    "    trainer = Trainer(model=model, lr=0.001, writer=writer)\n",
    "\n",
    "    trainer.train(train_loader=train_loader, test_loader=test_loader, num_epochs=30, train_summary=False)"
   ],
   "metadata": {
    "collapsed": false
   }
  },
  {
   "cell_type": "code",
   "execution_count": null,
   "outputs": [],
   "source": [
    "factors = [10, 100, 1000, 10_000, 100_000, 1_000_000]\n",
    "\n",
    "for factor in factors:\n",
    "    torch.manual_seed(R_SEED)\n",
    "    random.seed(R_SEED)\n",
    "    np.random.seed(R_SEED)\n",
    "\n",
    "    factor = 1 / factor\n",
    "\n",
    "    model = FNN(\n",
    "        [\n",
    "            {\"in_features\": 28 * 28, \"out_features\": 500},\n",
    "            {\"in_features\": 500, \"out_features\": 10},\n",
    "        ]\n",
    "    )\n",
    "    model.initialize(mode=\"normal\", scale_factor=factor)\n",
    "    writer = SummaryWriter(f\"./results/MNIST_FNN_NORMAL_1_DOWN_{factor}\")\n",
    "    trainer = Trainer(model=model, lr=0.001, writer=writer)\n",
    "\n",
    "    trainer.train(train_loader=train_loader, test_loader=test_loader, num_epochs=30, train_summary=False)"
   ],
   "metadata": {
    "collapsed": false
   }
  },
  {
   "cell_type": "code",
   "execution_count": null,
   "outputs": [],
   "source": [
    "factor_range = range(10, 301, 10)\n",
    "\n",
    "for factor in factor_range:\n",
    "    torch.manual_seed(R_SEED)\n",
    "    random.seed(R_SEED)\n",
    "    np.random.seed(R_SEED)\n",
    "\n",
    "    model = FNN(\n",
    "        [\n",
    "            {\"in_features\": 28 * 28, \"out_features\": 400},\n",
    "            {\"in_features\": 400, \"out_features\": 300},\n",
    "            {\"in_features\": 300, \"out_features\": 150},\n",
    "            {\"in_features\": 150, \"out_features\": 10},\n",
    "        ]\n",
    "    )\n",
    "    model.initialize(mode=\"normal\", scale_factor=factor)\n",
    "    writer = SummaryWriter(f\"./results/MNIST_FNN_NORMAL_2_{factor}\")\n",
    "    trainer = Trainer(model=model, lr=0.001, writer=writer)\n",
    "\n",
    "    trainer.train(train_loader=train_loader, test_loader=test_loader, num_epochs=30, train_summary=False)"
   ],
   "metadata": {
    "collapsed": false
   }
  },
  {
   "cell_type": "code",
   "execution_count": null,
   "outputs": [],
   "source": [
    "factors = [10, 100, 1000, 10_000, 100_000, 1_000_000]\n",
    "\n",
    "for factor in factors:\n",
    "    torch.manual_seed(R_SEED)\n",
    "    random.seed(R_SEED)\n",
    "    np.random.seed(R_SEED)\n",
    "\n",
    "    factor = 1 / factor\n",
    "\n",
    "    model = FNN(\n",
    "        [\n",
    "            {\"in_features\": 28 * 28, \"out_features\": 400},\n",
    "            {\"in_features\": 400, \"out_features\": 300},\n",
    "            {\"in_features\": 300, \"out_features\": 150},\n",
    "            {\"in_features\": 150, \"out_features\": 10},\n",
    "        ]\n",
    "    )\n",
    "    model.initialize(mode=\"normal\", scale_factor=factor)\n",
    "    writer = SummaryWriter(f\"./results/MNIST_FNN_NORMAL_2_DOWN_{factor}\")\n",
    "    trainer = Trainer(model=model, lr=0.001, writer=writer)\n",
    "\n",
    "    trainer.train(train_loader=train_loader, test_loader=test_loader, num_epochs=30, train_summary=False)"
   ],
   "metadata": {
    "collapsed": false
   }
  },
  {
   "cell_type": "code",
   "execution_count": null,
   "outputs": [],
   "source": [
    "train_loader, val_loader = get_mnist_loader(train=True, batch_size=8)\n",
    "test_loader = get_mnist_loader(train=False, batch_size=8)"
   ],
   "metadata": {
    "collapsed": false
   }
  },
  {
   "cell_type": "code",
   "execution_count": null,
   "outputs": [],
   "source": [
    "factor_range = range(10, 301, 10)\n",
    "\n",
    "for factor in factor_range:\n",
    "    torch.manual_seed(R_SEED)\n",
    "    random.seed(R_SEED)\n",
    "    np.random.seed(R_SEED)\n",
    "\n",
    "    model = FNN(\n",
    "        [\n",
    "            {\"in_features\": 28 * 28, \"out_features\": 500},\n",
    "            {\"in_features\": 500, \"out_features\": 10},\n",
    "        ]\n",
    "    )\n",
    "    model.initialize(mode=\"normal\", scale_factor=factor)\n",
    "    writer = SummaryWriter(f\"./results/MNIST_FNN_NORMAL_3_{factor}\")\n",
    "    trainer = Trainer(model=model, lr=0.001, writer=writer)\n",
    "\n",
    "    trainer.train(train_loader=train_loader, test_loader=test_loader, num_epochs=30, train_summary=False)"
   ],
   "metadata": {
    "collapsed": false
   }
  },
  {
   "cell_type": "code",
   "execution_count": null,
   "outputs": [],
   "source": [
    "factor_range = range(120, 221, 10)\n",
    "\n",
    "for factor in factor_range:\n",
    "    torch.manual_seed(R_SEED)\n",
    "    random.seed(R_SEED)\n",
    "    np.random.seed(R_SEED)\n",
    "\n",
    "    model = FNN(\n",
    "        [\n",
    "            {\"in_features\": 28 * 28, \"out_features\": 400},\n",
    "            {\"in_features\": 400, \"out_features\": 300},\n",
    "            {\"in_features\": 300, \"out_features\": 150},\n",
    "            {\"in_features\": 150, \"out_features\": 10},\n",
    "        ]\n",
    "    )\n",
    "    model.initialize(mode=\"normal\", scale_factor=factor)\n",
    "    writer = SummaryWriter(f\"./results/MNIST_FNN_NORMAL_4_{factor}\")\n",
    "    trainer = Trainer(model=model, lr=0.001, writer=writer)\n",
    "\n",
    "    trainer.train(train_loader=train_loader, test_loader=test_loader, num_epochs=30, train_summary=False)"
   ],
   "metadata": {
    "collapsed": false
   }
  },
  {
   "cell_type": "markdown",
   "source": [
    "### 1.2 Uniform Distribution"
   ],
   "metadata": {
    "collapsed": false
   }
  },
  {
   "cell_type": "code",
   "execution_count": null,
   "outputs": [],
   "source": [
    "train_loader, val_loader = get_mnist_loader(train=True, batch_size=32)\n",
    "test_loader = get_mnist_loader(train=False, batch_size=32)"
   ],
   "metadata": {
    "collapsed": false
   }
  },
  {
   "cell_type": "markdown",
   "source": [
    "#### 1.2.1 Zero To One Pre-Activations"
   ],
   "metadata": {
    "collapsed": false
   }
  },
  {
   "cell_type": "code",
   "execution_count": null,
   "outputs": [],
   "source": [
    "model = FNN(\n",
    "    [\n",
    "        {\"in_features\": 28 * 28, \"out_features\": 500},\n",
    "        {\"in_features\": 500, \"out_features\": 10},\n",
    "    ]\n",
    ")\n",
    "model.initialize(mode=\"uniform\", a=0, b=1)\n",
    "\n",
    "config = ExperimentConfig(\n",
    "    model_name=\"MNIST_FNN_UNIFORM_0-1\",\n",
    "    train_loader=train_loader,\n",
    "    val_loader=val_loader,\n",
    "    test_loader=test_loader,\n",
    "    epochs=20\n",
    ")\n",
    "\n",
    "run_experiments(model, config)"
   ],
   "metadata": {
    "collapsed": false
   }
  },
  {
   "cell_type": "markdown",
   "source": [
    "#### 1.2.2 Unit Variance And Zero Mean Pre-Activations"
   ],
   "metadata": {
    "collapsed": false
   }
  },
  {
   "cell_type": "code",
   "execution_count": null,
   "outputs": [],
   "source": [
    "model = FNN(\n",
    "    [\n",
    "        {\"in_features\": 28 * 28, \"out_features\": 500},\n",
    "        {\"in_features\": 500, \"out_features\": 10},\n",
    "    ]\n",
    ")\n",
    "model.initialize(mode=\"uniform\", a=-math.sqrt(3), b=math.sqrt(3))\n",
    "\n",
    "config = ExperimentConfig(\n",
    "    model_name=\"MNIST_FNN_UNIFORM_PRE_ACT\",\n",
    "    train_loader=train_loader,\n",
    "    val_loader=val_loader,\n",
    "    test_loader=test_loader,\n",
    "    epochs=20\n",
    ")\n",
    "\n",
    "run_experiments(model, config)"
   ],
   "metadata": {
    "collapsed": false
   }
  },
  {
   "cell_type": "code",
   "execution_count": null,
   "outputs": [],
   "source": [
    "model = FNN(\n",
    "    [\n",
    "        {\"in_features\": 28 * 28, \"out_features\": 500},\n",
    "        {\"in_features\": 500, \"out_features\": 10},\n",
    "    ]\n",
    ")\n",
    "model.initialize(mode=\"deterministic\", a=-1.73, b=1.73)\n",
    "\n",
    "config = ExperimentConfig(\n",
    "    model_name=\"MNIST_FNN_UNIFORM_PRE_ACT_DET\",\n",
    "    train_loader=train_loader,\n",
    "    val_loader=val_loader,\n",
    "    test_loader=test_loader,\n",
    "    epochs=20\n",
    ")\n",
    "\n",
    "run_experiments(model, config)"
   ],
   "metadata": {
    "collapsed": false
   }
  },
  {
   "cell_type": "markdown",
   "source": [
    "#### 1.2.3 Unit Variance and Zero Mean Activations"
   ],
   "metadata": {
    "collapsed": false
   }
  },
  {
   "cell_type": "code",
   "execution_count": null,
   "outputs": [],
   "source": [
    "model = FNN(\n",
    "    [\n",
    "        {\"in_features\": 28 * 28, \"out_features\": 500},\n",
    "        {\"in_features\": 500, \"out_features\": 10},\n",
    "    ]\n",
    ")\n",
    "model.initialize(mode=\"uniform\", a=-3.437, b=2.222)\n",
    "\n",
    "config = ExperimentConfig(\n",
    "    model_name=\"MNIST_FNN_UNIFORM_UNIT_VAR_ZERO_MEAN\",\n",
    "    train_loader=train_loader,\n",
    "    val_loader=val_loader,\n",
    "    test_loader=test_loader,\n",
    "    epochs=20\n",
    ")\n",
    "\n",
    "run_experiments(model, config)"
   ],
   "metadata": {
    "collapsed": false
   }
  },
  {
   "cell_type": "code",
   "execution_count": null,
   "outputs": [],
   "source": [
    "model = FNN(\n",
    "    [\n",
    "        {\"in_features\": 28 * 28, \"out_features\": 500},\n",
    "        {\"in_features\": 500, \"out_features\": 10},\n",
    "    ]\n",
    ")\n",
    "model.initialize(mode=\"deterministic\", a=-3.437, b=2.222)\n",
    "\n",
    "config = ExperimentConfig(\n",
    "    model_name=\"MNIST_FNN_UNIFORM_UNIT_VAR_ZERO_MEAN_DET\",\n",
    "    train_loader=train_loader,\n",
    "    val_loader=val_loader,\n",
    "    test_loader=test_loader,\n",
    "    epochs=20\n",
    ")\n",
    "\n",
    "run_experiments(model, config)"
   ],
   "metadata": {
    "collapsed": false
   }
  },
  {
   "cell_type": "markdown",
   "source": [
    "#### 1.2.5 Comparison"
   ],
   "metadata": {
    "collapsed": false
   }
  },
  {
   "cell_type": "markdown",
   "source": [
    "### 1.3 Compare Our Approach To Others"
   ],
   "metadata": {
    "collapsed": false
   }
  },
  {
   "cell_type": "code",
   "execution_count": null,
   "outputs": [],
   "source": [
    "def objective(trial):\n",
    "    torch.manual_seed(R_SEED)\n",
    "    random.seed(R_SEED)\n",
    "    np.random.seed(R_SEED)\n",
    "\n",
    "    params = {\n",
    "        \"learning_rate\": trial.suggest_float(\"learning_rate\", 1e-5, 1e-1, log=True),\n",
    "        \"optimizer\": trial.suggest_categorical(\"optimizer\", [Adam, RMSprop, SGD]),\n",
    "        \"batch_size\": trial.suggest_int(\"batch_size\", 4, 64, 2),\n",
    "\n",
    "    }\n",
    "\n",
    "    train_loader, val_loader = get_mnist_loader(train=True, batch_size=params[\"batch_size\"])\n",
    "    test_loader = get_mnist_loader(train=False, batch_size=params[\"batch_size\"])\n",
    "\n",
    "    model = FNN(\n",
    "        [\n",
    "            {\"in_features\": 28 * 28, \"out_features\": 500},\n",
    "            {\"in_features\": 500, \"out_features\": 10},\n",
    "        ]\n",
    "    )\n",
    "\n",
    "    writer = SummaryWriter(\"./results/MNIST_FNN_TRIAL\")\n",
    "    trainer = Trainer(model=model, lr=params[\"learning_rate\"], optimizer=params[\"optimizer\"], writer=writer)\n",
    "    accuracy = trainer.train(train_loader=train_loader, test_loader=test_loader, num_epochs=15, trial=trial,\n",
    "                             train_summary=False)\n",
    "\n",
    "    return accuracy\n",
    "\n",
    "\n",
    "study = optuna.create_study(direction=\"maximize\", sampler=optuna.samplers.TPESampler())\n",
    "study.optimize(objective, n_trials=28)\n",
    "\n",
    "joblib.dump(study, os.path.join(\"results\", \"optuna\", \"mnist_fnn.pkl\"))"
   ],
   "metadata": {
    "collapsed": false
   }
  },
  {
   "cell_type": "code",
   "source": [
    "study = joblib.load(os.path.join(\"results\", \"optuna\", \"mnist_fnn.pkl\"), 'r')\n",
    "\n",
    "for key, value in study.best_trial.params.items():\n",
    "    print(\"{}: {}\".format(key, value))\n",
    "print(f\"final accuracy: {study.best_trial.value}\")\n",
    "\n",
    "optuna.visualization.plot_parallel_coordinate(study)"
   ],
   "metadata": {
    "collapsed": false,
    "ExecuteTime": {
     "end_time": "2024-04-05T08:42:15.693432Z",
     "start_time": "2024-04-05T08:42:15.358213Z"
    }
   },
   "outputs": [
    {
     "ename": "FileNotFoundError",
     "evalue": "[Errno 2] No such file or directory: 'results/optuna/mnist_fnn.pkl'",
     "output_type": "error",
     "traceback": [
      "\u001B[0;31m---------------------------------------------------------------------------\u001B[0m",
      "\u001B[0;31mFileNotFoundError\u001B[0m                         Traceback (most recent call last)",
      "Cell \u001B[0;32mIn[2], line 1\u001B[0m\n\u001B[0;32m----> 1\u001B[0m study \u001B[38;5;241m=\u001B[39m \u001B[43mjoblib\u001B[49m\u001B[38;5;241;43m.\u001B[39;49m\u001B[43mload\u001B[49m\u001B[43m(\u001B[49m\u001B[43mos\u001B[49m\u001B[38;5;241;43m.\u001B[39;49m\u001B[43mpath\u001B[49m\u001B[38;5;241;43m.\u001B[39;49m\u001B[43mjoin\u001B[49m\u001B[43m(\u001B[49m\u001B[38;5;124;43m\"\u001B[39;49m\u001B[38;5;124;43mresults\u001B[39;49m\u001B[38;5;124;43m\"\u001B[39;49m\u001B[43m,\u001B[49m\u001B[43m \u001B[49m\u001B[38;5;124;43m\"\u001B[39;49m\u001B[38;5;124;43moptuna\u001B[39;49m\u001B[38;5;124;43m\"\u001B[39;49m\u001B[43m,\u001B[49m\u001B[43m \u001B[49m\u001B[38;5;124;43m\"\u001B[39;49m\u001B[38;5;124;43mmnist_fnn.pkl\u001B[39;49m\u001B[38;5;124;43m\"\u001B[39;49m\u001B[43m)\u001B[49m\u001B[43m,\u001B[49m\u001B[43m \u001B[49m\u001B[38;5;124;43m'\u001B[39;49m\u001B[38;5;124;43mr\u001B[39;49m\u001B[38;5;124;43m'\u001B[39;49m\u001B[43m)\u001B[49m\n\u001B[1;32m      3\u001B[0m \u001B[38;5;28;01mfor\u001B[39;00m key, value \u001B[38;5;129;01min\u001B[39;00m study\u001B[38;5;241m.\u001B[39mbest_trial\u001B[38;5;241m.\u001B[39mparams\u001B[38;5;241m.\u001B[39mitems():\n\u001B[1;32m      4\u001B[0m     \u001B[38;5;28mprint\u001B[39m(\u001B[38;5;124m\"\u001B[39m\u001B[38;5;132;01m{}\u001B[39;00m\u001B[38;5;124m: \u001B[39m\u001B[38;5;132;01m{}\u001B[39;00m\u001B[38;5;124m\"\u001B[39m\u001B[38;5;241m.\u001B[39mformat(key, value))\n",
      "File \u001B[0;32m~/.virtualenvs/ZeroInitializationLearningDynamics/lib/python3.9/site-packages/joblib/numpy_pickle.py:650\u001B[0m, in \u001B[0;36mload\u001B[0;34m(filename, mmap_mode)\u001B[0m\n\u001B[1;32m    648\u001B[0m         obj \u001B[38;5;241m=\u001B[39m _unpickle(fobj)\n\u001B[1;32m    649\u001B[0m \u001B[38;5;28;01melse\u001B[39;00m:\n\u001B[0;32m--> 650\u001B[0m     \u001B[38;5;28;01mwith\u001B[39;00m \u001B[38;5;28;43mopen\u001B[39;49m\u001B[43m(\u001B[49m\u001B[43mfilename\u001B[49m\u001B[43m,\u001B[49m\u001B[43m \u001B[49m\u001B[38;5;124;43m'\u001B[39;49m\u001B[38;5;124;43mrb\u001B[39;49m\u001B[38;5;124;43m'\u001B[39;49m\u001B[43m)\u001B[49m \u001B[38;5;28;01mas\u001B[39;00m f:\n\u001B[1;32m    651\u001B[0m         \u001B[38;5;28;01mwith\u001B[39;00m _read_fileobject(f, filename, mmap_mode) \u001B[38;5;28;01mas\u001B[39;00m fobj:\n\u001B[1;32m    652\u001B[0m             \u001B[38;5;28;01mif\u001B[39;00m \u001B[38;5;28misinstance\u001B[39m(fobj, \u001B[38;5;28mstr\u001B[39m):\n\u001B[1;32m    653\u001B[0m                 \u001B[38;5;66;03m# if the returned file object is a string, this means we\u001B[39;00m\n\u001B[1;32m    654\u001B[0m                 \u001B[38;5;66;03m# try to load a pickle file generated with an version of\u001B[39;00m\n\u001B[1;32m    655\u001B[0m                 \u001B[38;5;66;03m# Joblib so we load it with joblib compatibility function.\u001B[39;00m\n",
      "\u001B[0;31mFileNotFoundError\u001B[0m: [Errno 2] No such file or directory: 'results/optuna/mnist_fnn.pkl'"
     ]
    }
   ],
   "execution_count": 2
  },
  {
   "cell_type": "code",
   "execution_count": null,
   "outputs": [],
   "source": [
    "def objective(trial):\n",
    "    torch.manual_seed(R_SEED)\n",
    "    random.seed(R_SEED)\n",
    "    np.random.seed(R_SEED)\n",
    "\n",
    "    params = {\n",
    "        \"learning_rate\": trial.suggest_float(\"learning_rate\", 1e-5, 1e-1, log=True),\n",
    "        \"optimizer\": trial.suggest_categorical(\"optimizer\", [Adam, RMSprop, SGD]),\n",
    "        \"batch_size\": trial.suggest_int(\"batch_size\", 4, 64, 2),\n",
    "\n",
    "    }\n",
    "\n",
    "    train_loader, val_loader = get_mnist_loader(train=True, batch_size=params[\"batch_size\"])\n",
    "    test_loader = get_mnist_loader(train=False, batch_size=params[\"batch_size\"])\n",
    "\n",
    "    model = FNN(\n",
    "        [\n",
    "            {\"in_features\": 28 * 28, \"out_features\": 500},\n",
    "            {\"in_features\": 500, \"out_features\": 10},\n",
    "        ]\n",
    "    )\n",
    "    model.initialize(\"normal\")\n",
    "\n",
    "    writer = SummaryWriter(\"./results/MNIST_FNN_TRIAL_NORMAL\")\n",
    "    trainer = Trainer(model=model, lr=params[\"learning_rate\"], optimizer=params[\"optimizer\"], writer=writer)\n",
    "    accuracy = trainer.train(train_loader=train_loader, test_loader=test_loader, num_epochs=15, trial=trial,\n",
    "                             train_summary=False)\n",
    "\n",
    "    return accuracy\n",
    "\n",
    "\n",
    "study = optuna.create_study(direction=\"maximize\", sampler=optuna.samplers.TPESampler())\n",
    "study.optimize(objective, n_trials=28)\n",
    "\n",
    "joblib.dump(study, os.path.join(\"results\", \"optuna\", \"mnist_fnn_normal.pkl\"))"
   ],
   "metadata": {
    "collapsed": false
   }
  },
  {
   "cell_type": "code",
   "execution_count": null,
   "outputs": [],
   "source": [
    "study = joblib.load(os.path.join(\"results\", \"optuna\", \"mnist_fnn_normal.pkl\"), 'r')\n",
    "\n",
    "for key, value in study.best_trial.params.items():\n",
    "    print(\"{}: {}\".format(key, value))\n",
    "print(f\"final accuracy: {study.best_trial.value}\")\n",
    "\n",
    "optuna.visualization.plot_parallel_coordinate(study)"
   ],
   "metadata": {
    "collapsed": false
   }
  },
  {
   "cell_type": "code",
   "execution_count": null,
   "outputs": [],
   "source": [
    "def objective(trial):\n",
    "    torch.manual_seed(R_SEED)\n",
    "    random.seed(R_SEED)\n",
    "    np.random.seed(R_SEED)\n",
    "\n",
    "    params = {\n",
    "        \"learning_rate\": trial.suggest_float(\"learning_rate\", 1e-5, 1e-1, log=True),\n",
    "        \"optimizer\": trial.suggest_categorical(\"optimizer\", [Adam, RMSprop, SGD]),\n",
    "        \"batch_size\": trial.suggest_int(\"batch_size\", 4, 64, 2),\n",
    "\n",
    "    }\n",
    "\n",
    "    train_loader, val_loader = get_mnist_loader(train=True, batch_size=params[\"batch_size\"])\n",
    "    test_loader = get_mnist_loader(train=False, batch_size=params[\"batch_size\"])\n",
    "\n",
    "    model = FNN(\n",
    "        [\n",
    "            {\"in_features\": 28 * 28, \"out_features\": 500},\n",
    "            {\"in_features\": 500, \"out_features\": 10},\n",
    "        ]\n",
    "    )\n",
    "    model.initialize(mode=\"normal_in_features\", softmax_init=True)\n",
    "\n",
    "    writer = SummaryWriter(\"./results/MNIST_FNN_TRIAL_NORMAL\")\n",
    "    trainer = Trainer(model=model, lr=params[\"learning_rate\"], optimizer=params[\"optimizer\"], writer=writer)\n",
    "    accuracy = trainer.train(train_loader=train_loader, test_loader=test_loader, num_epochs=15, trial=trial,\n",
    "                             train_summary=False)\n",
    "\n",
    "    return accuracy\n",
    "\n",
    "\n",
    "study = optuna.create_study(direction=\"maximize\", sampler=optuna.samplers.TPESampler())\n",
    "study.optimize(objective, n_trials=28)\n",
    "\n",
    "joblib.dump(study, os.path.join(\"results\", \"optuna\", \"mnist_fnn_normal_in_last.pkl\"))"
   ],
   "metadata": {
    "collapsed": false
   }
  },
  {
   "cell_type": "code",
   "execution_count": null,
   "outputs": [],
   "source": [
    "study = joblib.load(os.path.join(\"results\", \"optuna\", \"mnist_fnn_normal_in_last.pkl\"), 'r')\n",
    "\n",
    "for key, value in study.best_trial.params.items():\n",
    "    print(\"{}: {}\".format(key, value))\n",
    "print(f\"final accuracy: {study.best_trial.value}\")\n",
    "\n",
    "optuna.visualization.plot_parallel_coordinate(study)"
   ],
   "metadata": {
    "collapsed": false
   }
  },
  {
   "cell_type": "code",
   "execution_count": null,
   "outputs": [],
   "source": [
    "def objective(trial):\n",
    "    torch.manual_seed(R_SEED)\n",
    "    random.seed(R_SEED)\n",
    "    np.random.seed(R_SEED)\n",
    "\n",
    "    params = {\n",
    "        \"learning_rate\": trial.suggest_float(\"learning_rate\", 1e-5, 1e-1, log=True),\n",
    "        \"optimizer\": trial.suggest_categorical(\"optimizer\", [Adam, RMSprop, SGD]),\n",
    "        \"batch_size\": trial.suggest_int(\"batch_size\", 4, 64, 2),\n",
    "\n",
    "    }\n",
    "\n",
    "    train_loader, val_loader = get_mnist_loader(train=True, batch_size=params[\"batch_size\"])\n",
    "    test_loader = get_mnist_loader(train=False, batch_size=params[\"batch_size\"])\n",
    "\n",
    "    model = FNN(\n",
    "        [\n",
    "            {\"in_features\": 28 * 28, \"out_features\": 500},\n",
    "            {\"in_features\": 500, \"out_features\": 10},\n",
    "        ]\n",
    "    )\n",
    "    model.initialize(\"uniform\", a=0, b=1)\n",
    "\n",
    "    writer = SummaryWriter(\"./results/MNIST_FNN_TRIAL_UNIFORM\")\n",
    "    trainer = Trainer(model=model, lr=params[\"learning_rate\"], optimizer=params[\"optimizer\"], writer=writer)\n",
    "    accuracy = trainer.train(train_loader=train_loader, test_loader=test_loader, num_epochs=15, trial=trial,\n",
    "                             train_summary=False)\n",
    "\n",
    "    return accuracy\n",
    "\n",
    "\n",
    "study = optuna.create_study(direction=\"maximize\", sampler=optuna.samplers.TPESampler())\n",
    "study.optimize(objective, n_trials=28)\n",
    "\n",
    "joblib.dump(study, os.path.join(\"results\", \"optuna\", \"mnist_fnn_uniform.pkl\"))"
   ],
   "metadata": {
    "collapsed": false
   }
  },
  {
   "cell_type": "code",
   "execution_count": null,
   "outputs": [],
   "source": [
    "study = joblib.load(os.path.join(\"results\", \"optuna\", \"mnist_fnn_uniform.pkl\"), 'r')\n",
    "\n",
    "for key, value in study.best_trial.params.items():\n",
    "    print(\"{}: {}\".format(key, value))\n",
    "print(f\"final accuracy: {study.best_trial.value}\")\n",
    "\n",
    "optuna.visualization.plot_parallel_coordinate(study)"
   ],
   "metadata": {
    "collapsed": false
   }
  },
  {
   "cell_type": "code",
   "execution_count": null,
   "outputs": [],
   "source": [
    "def objective(trial):\n",
    "    torch.manual_seed(R_SEED)\n",
    "    random.seed(R_SEED)\n",
    "    np.random.seed(R_SEED)\n",
    "\n",
    "    params = {\n",
    "        \"learning_rate\": trial.suggest_float(\"learning_rate\", 1e-5, 1e-1, log=True),\n",
    "        \"optimizer\": trial.suggest_categorical(\"optimizer\", [Adam, RMSprop, SGD]),\n",
    "        \"batch_size\": trial.suggest_int(\"batch_size\", 4, 64, 2),\n",
    "\n",
    "    }\n",
    "\n",
    "    train_loader, val_loader = get_mnist_loader(train=True, batch_size=params[\"batch_size\"])\n",
    "    test_loader = get_mnist_loader(train=False, batch_size=params[\"batch_size\"])\n",
    "\n",
    "    model = FNN(\n",
    "        [\n",
    "            {\"in_features\": 28 * 28, \"out_features\": 500},\n",
    "            {\"in_features\": 500, \"out_features\": 10},\n",
    "        ]\n",
    "    )\n",
    "    model.initialize(mode=\"uniform\", a=-1.29, b=2.5)\n",
    "\n",
    "    writer = SummaryWriter(\"./results/MNIST_FNN_TRIAL_UNIFORM\")\n",
    "    trainer = Trainer(model=model, lr=params[\"learning_rate\"], optimizer=params[\"optimizer\"], writer=writer)\n",
    "    accuracy = trainer.train(train_loader=train_loader, test_loader=test_loader, num_epochs=15, trial=trial,\n",
    "                             train_summary=False)\n",
    "\n",
    "    return accuracy\n",
    "\n",
    "\n",
    "study = optuna.create_study(direction=\"maximize\", sampler=optuna.samplers.TPESampler())\n",
    "study.optimize(objective, n_trials=28)\n",
    "\n",
    "joblib.dump(study, os.path.join(\"results\", \"optuna\", \"mnist_fnn_uniform_unit_var.pkl\"))"
   ],
   "metadata": {
    "collapsed": false
   }
  },
  {
   "cell_type": "code",
   "execution_count": null,
   "outputs": [],
   "source": [
    "study = joblib.load(os.path.join(\"results\", \"optuna\", \"mnist_fnn_uniform_unit_var.pkl\"), 'r')\n",
    "\n",
    "for key, value in study.best_trial.params.items():\n",
    "    print(\"{}: {}\".format(key, value))\n",
    "print(f\"final accuracy: {study.best_trial.value}\")\n",
    "\n",
    "optuna.visualization.plot_parallel_coordinate(study)"
   ],
   "metadata": {
    "collapsed": false
   }
  },
  {
   "cell_type": "markdown",
   "source": [
    "## 2 MNIST - CNN"
   ],
   "metadata": {
    "collapsed": false
   }
  },
  {
   "cell_type": "markdown",
   "source": [
    "### 2.1 Normal Distribution"
   ],
   "metadata": {
    "collapsed": false
   }
  },
  {
   "cell_type": "code",
   "execution_count": null,
   "outputs": [],
   "source": [
    "train_loader, val_loader = get_mnist_loader(train=True, batch_size=32, flatten=False)\n",
    "test_loader = get_mnist_loader(train=False, batch_size=32, flatten=False)"
   ],
   "metadata": {
    "collapsed": false
   }
  },
  {
   "cell_type": "code",
   "execution_count": null,
   "outputs": [],
   "source": [
    "model = CNN(\n",
    "    [\n",
    "        {\"in_channels\": 1, \"out_channels\": 16, \"kernel_size\": 5, \"stride\": 1, \"padding\": 2},\n",
    "        {\"in_channels\": 16, \"out_channels\": 32, \"kernel_size\": 5, \"stride\": 1, \"padding\": 2}\n",
    "\n",
    "    ],\n",
    "    [\n",
    "        {\"in_features\": 32 * 28 * 28, \"out_features\": 10}\n",
    "    ]\n",
    ")\n",
    "\n",
    "config = ExperimentConfig(\n",
    "    model_name=\"MNIST_CNN\",\n",
    "    train_loader=train_loader,\n",
    "    val_loader=val_loader,\n",
    "    test_loader=test_loader,\n",
    "    epochs=20\n",
    ")\n",
    "\n",
    "run_experiments(model, config)"
   ],
   "metadata": {
    "collapsed": false
   }
  },
  {
   "cell_type": "code",
   "execution_count": null,
   "outputs": [],
   "source": [
    "model = CNN(\n",
    "    [\n",
    "        {\"in_channels\": 1, \"out_channels\": 16, \"kernel_size\": 5, \"stride\": 1, \"padding\": 2},\n",
    "        {\"in_channels\": 16, \"out_channels\": 32, \"kernel_size\": 5, \"stride\": 1, \"padding\": 2}\n",
    "\n",
    "    ],\n",
    "    [\n",
    "        {\"in_features\": 32 * 28 * 28, \"out_features\": 10}\n",
    "    ]\n",
    ")\n",
    "\n",
    "model.initialize(\"normal\")\n",
    "\n",
    "config = ExperimentConfig(\n",
    "    model_name=\"MNIST_CNN_NORMAL\",\n",
    "    train_loader=train_loader,\n",
    "    val_loader=val_loader,\n",
    "    test_loader=test_loader,\n",
    "    epochs=20\n",
    ")\n",
    "\n",
    "run_experiments(model, config)"
   ],
   "metadata": {
    "collapsed": false
   }
  },
  {
   "cell_type": "code",
   "execution_count": null,
   "outputs": [],
   "source": [
    "model = CNN(\n",
    "    [\n",
    "        {\"in_channels\": 1, \"out_channels\": 16, \"kernel_size\": 5, \"stride\": 1, \"padding\": 2},\n",
    "        {\"in_channels\": 16, \"out_channels\": 32, \"kernel_size\": 5, \"stride\": 1, \"padding\": 2}\n",
    "\n",
    "    ],\n",
    "    [\n",
    "        {\"in_features\": 32 * 28 * 28, \"out_features\": 10}\n",
    "    ]\n",
    ")\n",
    "\n",
    "model.initialize(\"normal\", mean=-1.0)\n",
    "\n",
    "config = ExperimentConfig(\n",
    "    model_name=\"MNIST_CNN_NORMAL_MEAN_NEG\",\n",
    "    train_loader=train_loader,\n",
    "    val_loader=val_loader,\n",
    "    test_loader=test_loader,\n",
    "    epochs=20\n",
    ")\n",
    "\n",
    "run_experiments(model, config)"
   ],
   "metadata": {
    "collapsed": false
   }
  },
  {
   "cell_type": "code",
   "execution_count": null,
   "outputs": [],
   "source": [
    "model = CNN(\n",
    "    [\n",
    "        {\"in_channels\": 1, \"out_channels\": 16, \"kernel_size\": 5, \"stride\": 1, \"padding\": 2},\n",
    "        {\"in_channels\": 16, \"out_channels\": 32, \"kernel_size\": 5, \"stride\": 1, \"padding\": 2}\n",
    "\n",
    "    ],\n",
    "    [\n",
    "        {\"in_features\": 32 * 28 * 28, \"out_features\": 10}\n",
    "    ]\n",
    ")\n",
    "\n",
    "model.initialize(\"normal\", mean=1.0)\n",
    "\n",
    "config = ExperimentConfig(\n",
    "    model_name=\"MNIST_CNN_NORMAL_MEAN_POS\",\n",
    "    train_loader=train_loader,\n",
    "    val_loader=val_loader,\n",
    "    test_loader=test_loader,\n",
    "    epochs=20\n",
    ")\n",
    "\n",
    "run_experiments(model, config)"
   ],
   "metadata": {
    "collapsed": false
   }
  },
  {
   "cell_type": "code",
   "execution_count": null,
   "outputs": [],
   "source": [
    "model = CNN(\n",
    "    [\n",
    "        {\"in_channels\": 1, \"out_channels\": 16, \"kernel_size\": 5, \"stride\": 1, \"padding\": 2},\n",
    "        {\"in_channels\": 16, \"out_channels\": 32, \"kernel_size\": 5, \"stride\": 1, \"padding\": 2}\n",
    "\n",
    "    ],\n",
    "    [\n",
    "        {\"in_features\": 32 * 28 * 28, \"out_features\": 10}\n",
    "    ]\n",
    ")\n",
    "\n",
    "model.initialize(\"normal\", mean=-5.0)\n",
    "\n",
    "config = ExperimentConfig(\n",
    "    model_name=\"MNIST_CNN_NORMAL_MEAN_NEG_HIGH\",\n",
    "    train_loader=train_loader,\n",
    "    val_loader=val_loader,\n",
    "    test_loader=test_loader,\n",
    "    epochs=20\n",
    ")\n",
    "\n",
    "run_experiments(model, config)"
   ],
   "metadata": {
    "collapsed": false
   }
  },
  {
   "cell_type": "code",
   "execution_count": null,
   "outputs": [],
   "source": [
    "model = CNN(\n",
    "    [\n",
    "        {\"in_channels\": 1, \"out_channels\": 16, \"kernel_size\": 5, \"stride\": 1, \"padding\": 2},\n",
    "        {\"in_channels\": 16, \"out_channels\": 32, \"kernel_size\": 5, \"stride\": 1, \"padding\": 2}\n",
    "\n",
    "    ],\n",
    "    [\n",
    "        {\"in_features\": 32 * 28 * 28, \"out_features\": 10}\n",
    "    ]\n",
    ")\n",
    "\n",
    "model.initialize(\"normal\", mean=5.0)\n",
    "\n",
    "config = ExperimentConfig(\n",
    "    model_name=\"MNIST_CNN_NORMAL_MEAN_POS_HIGH\",\n",
    "    train_loader=train_loader,\n",
    "    val_loader=val_loader,\n",
    "    test_loader=test_loader,\n",
    "    epochs=20\n",
    ")\n",
    "\n",
    "run_experiments(model, config)"
   ],
   "metadata": {
    "collapsed": false
   }
  },
  {
   "cell_type": "code",
   "execution_count": null,
   "outputs": [],
   "source": [
    "model = CNN(\n",
    "    [\n",
    "        {\"in_channels\": 1, \"out_channels\": 16, \"kernel_size\": 5, \"stride\": 1, \"padding\": 2},\n",
    "        {\"in_channels\": 16, \"out_channels\": 32, \"kernel_size\": 5, \"stride\": 1, \"padding\": 2}\n",
    "\n",
    "    ],\n",
    "    [\n",
    "        {\"in_features\": 32 * 28 * 28, \"out_features\": 10}\n",
    "    ]\n",
    ")\n",
    "\n",
    "model.initialize(\"normal\", mean=-50.0)\n",
    "\n",
    "config = ExperimentConfig(\n",
    "    model_name=\"MNIST_CNN_NORMAL_MEAN_NEG_OVER\",\n",
    "    train_loader=train_loader,\n",
    "    val_loader=val_loader,\n",
    "    test_loader=test_loader,\n",
    "    epochs=20\n",
    ")\n",
    "\n",
    "run_experiments(model, config)"
   ],
   "metadata": {
    "collapsed": false
   }
  },
  {
   "cell_type": "code",
   "execution_count": null,
   "outputs": [],
   "source": [
    "model = CNN(\n",
    "    [\n",
    "        {\"in_channels\": 1, \"out_channels\": 16, \"kernel_size\": 5, \"stride\": 1, \"padding\": 2},\n",
    "        {\"in_channels\": 16, \"out_channels\": 32, \"kernel_size\": 5, \"stride\": 1, \"padding\": 2}\n",
    "\n",
    "    ],\n",
    "    [\n",
    "        {\"in_features\": 32 * 28 * 28, \"out_features\": 10}\n",
    "    ]\n",
    ")\n",
    "\n",
    "model.initialize(\"normal\", mean=50.0)\n",
    "\n",
    "config = ExperimentConfig(\n",
    "    model_name=\"MNIST_CNN_NORMAL_MEAN_POS_OVER\",\n",
    "    train_loader=train_loader,\n",
    "    val_loader=val_loader,\n",
    "    test_loader=test_loader,\n",
    "    epochs=20\n",
    ")\n",
    "\n",
    "run_experiments(model, config)"
   ],
   "metadata": {
    "collapsed": false
   }
  },
  {
   "cell_type": "code",
   "execution_count": null,
   "outputs": [],
   "source": [
    "model = CNN(\n",
    "    [\n",
    "        {\"in_channels\": 1, \"out_channels\": 16, \"kernel_size\": 5, \"stride\": 1, \"padding\": 2},\n",
    "        {\"in_channels\": 16, \"out_channels\": 32, \"kernel_size\": 5, \"stride\": 1, \"padding\": 2}\n",
    "\n",
    "    ],\n",
    "    [\n",
    "        {\"in_features\": 32 * 28 * 28, \"out_features\": 10}\n",
    "    ]\n",
    ")\n",
    "\n",
    "model.initialize(\"normal_in_features\")\n",
    "\n",
    "config = ExperimentConfig(\n",
    "    model_name=\"MNIST_CNN_NORMAL_IN_FEATURES\",\n",
    "    train_loader=train_loader,\n",
    "    val_loader=val_loader,\n",
    "    test_loader=test_loader,\n",
    "    epochs=20\n",
    ")\n",
    "\n",
    "run_experiments(model, config)"
   ],
   "metadata": {
    "collapsed": false
   }
  },
  {
   "cell_type": "code",
   "execution_count": null,
   "outputs": [],
   "source": [
    "model = CNN(\n",
    "    [\n",
    "        {\"in_channels\": 1, \"out_channels\": 16, \"kernel_size\": 5, \"stride\": 1, \"padding\": 2},\n",
    "        {\"in_channels\": 16, \"out_channels\": 32, \"kernel_size\": 5, \"stride\": 1, \"padding\": 2}\n",
    "\n",
    "    ],\n",
    "    [\n",
    "        {\"in_features\": 32 * 28 * 28, \"out_features\": 10}\n",
    "    ]\n",
    ")\n",
    "\n",
    "model.initialize(\"normal\", scale_factor=ELU_SCALE_NORMAL)\n",
    "\n",
    "config = ExperimentConfig(\n",
    "    model_name=\"MNIST_CNN_NORMAL_ELU_SCALE\",\n",
    "    train_loader=train_loader,\n",
    "    val_loader=val_loader,\n",
    "    test_loader=test_loader,\n",
    "    epochs=20\n",
    ")\n",
    "\n",
    "run_experiments(model, config)"
   ],
   "metadata": {
    "collapsed": false
   }
  },
  {
   "cell_type": "code",
   "execution_count": null,
   "outputs": [],
   "source": [
    "model = CNN(\n",
    "    [\n",
    "        {\"in_channels\": 1, \"out_channels\": 16, \"kernel_size\": 5, \"stride\": 1, \"padding\": 2},\n",
    "        {\"in_channels\": 16, \"out_channels\": 32, \"kernel_size\": 5, \"stride\": 1, \"padding\": 2}\n",
    "\n",
    "    ],\n",
    "    [\n",
    "        {\"in_features\": 32 * 28 * 28, \"out_features\": 10}\n",
    "    ]\n",
    ")\n",
    "\n",
    "model.initialize(\"normal\", softmax_init=True)\n",
    "\n",
    "config = ExperimentConfig(\n",
    "    model_name=\"MNIST_CNN_NORMAL_LAST_LAYER\",\n",
    "    train_loader=train_loader,\n",
    "    val_loader=val_loader,\n",
    "    test_loader=test_loader,\n",
    "    epochs=20\n",
    ")\n",
    "\n",
    "run_experiments(model, config)"
   ],
   "metadata": {
    "collapsed": false
   }
  },
  {
   "cell_type": "code",
   "execution_count": null,
   "outputs": [],
   "source": [
    "model = CNN(\n",
    "    [\n",
    "        {\"in_channels\": 1, \"out_channels\": 16, \"kernel_size\": 5, \"stride\": 1, \"padding\": 2},\n",
    "        {\"in_channels\": 16, \"out_channels\": 32, \"kernel_size\": 5, \"stride\": 1, \"padding\": 2}\n",
    "\n",
    "    ],\n",
    "    [\n",
    "        {\"in_features\": 32 * 28 * 28, \"out_features\": 10}\n",
    "    ]\n",
    ")\n",
    "\n",
    "model.initialize(\"normal_in_features\", softmax_init=True)\n",
    "\n",
    "config = ExperimentConfig(\n",
    "    model_name=\"MNIST_CNN_NORMAL_IN_FEATURES_LAST_LAYER\",\n",
    "    train_loader=train_loader,\n",
    "    val_loader=val_loader,\n",
    "    test_loader=test_loader,\n",
    "    epochs=20\n",
    ")\n",
    "\n",
    "run_experiments(model, config)"
   ],
   "metadata": {
    "collapsed": false
   }
  },
  {
   "cell_type": "code",
   "outputs": [],
   "source": [
    "model = CNN(\n",
    "    [\n",
    "        {\"in_channels\": 1, \"out_channels\": 16, \"kernel_size\": 5, \"stride\": 1, \"padding\": 2},\n",
    "        {\"in_channels\": 16, \"out_channels\": 32, \"kernel_size\": 5, \"stride\": 1, \"padding\": 2}\n",
    "\n",
    "    ],\n",
    "    [\n",
    "        {\"in_features\": 32 * 28 * 28, \"out_features\": 10}\n",
    "    ]\n",
    ")\n",
    "model.initialize(\"normal\", scale_factor=0.1)\n",
    "\n",
    "config = ExperimentConfig(\n",
    "    model_name=\"MNIST_CNN_NORMAL_0.1_STD\",\n",
    "    train_loader=train_loader,\n",
    "    val_loader=val_loader,\n",
    "    test_loader=test_loader,\n",
    "    epochs=20\n",
    ")\n",
    "\n",
    "run_experiments(model, config)"
   ],
   "metadata": {
    "collapsed": false
   },
   "execution_count": null
  },
  {
   "cell_type": "code",
   "outputs": [],
   "source": [
    "model = CNN(\n",
    "    [\n",
    "        {\"in_channels\": 1, \"out_channels\": 16, \"kernel_size\": 5, \"stride\": 1, \"padding\": 2},\n",
    "        {\"in_channels\": 16, \"out_channels\": 32, \"kernel_size\": 5, \"stride\": 1, \"padding\": 2}\n",
    "\n",
    "    ],\n",
    "    [\n",
    "        {\"in_features\": 32 * 28 * 28, \"out_features\": 10}\n",
    "    ]\n",
    ")\n",
    "model.initialize(\"normal\", scale_factor=0.5)\n",
    "\n",
    "config = ExperimentConfig(\n",
    "    model_name=\"MNIST_CNN_NORMAL_0.5_STD\",\n",
    "    train_loader=train_loader,\n",
    "    val_loader=val_loader,\n",
    "    test_loader=test_loader,\n",
    "    epochs=20\n",
    ")\n",
    "\n",
    "run_experiments(model, config)"
   ],
   "metadata": {
    "collapsed": false
   },
   "execution_count": null
  },
  {
   "cell_type": "code",
   "outputs": [],
   "source": [
    "model = CNN(\n",
    "    [\n",
    "        {\"in_channels\": 1, \"out_channels\": 16, \"kernel_size\": 5, \"stride\": 1, \"padding\": 2},\n",
    "        {\"in_channels\": 16, \"out_channels\": 32, \"kernel_size\": 5, \"stride\": 1, \"padding\": 2}\n",
    "\n",
    "    ],\n",
    "    [\n",
    "        {\"in_features\": 32 * 28 * 28, \"out_features\": 10}\n",
    "    ]\n",
    ")\n",
    "model.initialize(\"normal\", scale_factor=2.0)\n",
    "\n",
    "config = ExperimentConfig(\n",
    "    model_name=\"MNIST_CNN_NORMAL_2.0_STD\",\n",
    "    train_loader=train_loader,\n",
    "    val_loader=val_loader,\n",
    "    test_loader=test_loader,\n",
    "    epochs=20\n",
    ")\n",
    "\n",
    "run_experiments(model, config)"
   ],
   "metadata": {
    "collapsed": false
   },
   "execution_count": null
  },
  {
   "cell_type": "markdown",
   "source": [
    "#### 2.1.1 Finding The Point Of Break"
   ],
   "metadata": {
    "collapsed": false
   }
  },
  {
   "cell_type": "code",
   "execution_count": null,
   "outputs": [],
   "source": [
    "factor_range = range(10, 31, 2)\n",
    "\n",
    "for factor in factor_range:\n",
    "    torch.manual_seed(R_SEED)\n",
    "    random.seed(R_SEED)\n",
    "    np.random.seed(R_SEED)\n",
    "\n",
    "    model = CNN(\n",
    "        [\n",
    "            {\"in_channels\": 1, \"out_channels\": 16, \"kernel_size\": 5, \"stride\": 1, \"padding\": 2},\n",
    "            {\"in_channels\": 16, \"out_channels\": 32, \"kernel_size\": 5, \"stride\": 1, \"padding\": 2}\n",
    "\n",
    "        ],\n",
    "        [\n",
    "            {\"in_features\": 32 * 28 * 28, \"out_features\": 10}\n",
    "        ]\n",
    "    )\n",
    "    model.initialize(mode=\"normal\", scale_factor=factor)\n",
    "    writer = SummaryWriter(f\"./results/MNIST_CNN_NORMAL_1_{factor}\")\n",
    "    trainer = Trainer(model=model, lr=0.001, writer=writer)\n",
    "\n",
    "    trainer.train(train_loader=train_loader, test_loader=test_loader, num_epochs=15, train_summary=False)"
   ],
   "metadata": {
    "collapsed": false
   }
  },
  {
   "cell_type": "code",
   "execution_count": null,
   "outputs": [],
   "source": [
    "factor_range = range(10, 31, 2)\n",
    "\n",
    "for factor in factor_range:\n",
    "    torch.manual_seed(R_SEED)\n",
    "    random.seed(R_SEED)\n",
    "    np.random.seed(R_SEED)\n",
    "\n",
    "    model = CNN(\n",
    "        [\n",
    "            {\"in_channels\": 1, \"out_channels\": 8, \"kernel_size\": 5, \"stride\": 1, \"padding\": 2},\n",
    "            {\"in_channels\": 8, \"out_channels\": 16, \"kernel_size\": 5, \"stride\": 1, \"padding\": 2}\n",
    "        ],\n",
    "        [\n",
    "            {\"in_features\": 16 * 28 * 28, \"out_features\": 10}\n",
    "        ]\n",
    "    )\n",
    "    model.initialize(mode=\"normal\", scale_factor=factor)\n",
    "    writer = SummaryWriter(f\"./results/MNIST_CNN_NORMAL_2_{factor}\")\n",
    "    trainer = Trainer(model=model, lr=0.001, writer=writer)\n",
    "\n",
    "    trainer.train(train_loader=train_loader, test_loader=test_loader, num_epochs=15, train_summary=False)"
   ],
   "metadata": {
    "collapsed": false
   }
  },
  {
   "cell_type": "code",
   "execution_count": null,
   "outputs": [],
   "source": [
    "factor_range = range(10, 31, 2)\n",
    "\n",
    "for factor in factor_range:\n",
    "    torch.manual_seed(R_SEED)\n",
    "    random.seed(R_SEED)\n",
    "    np.random.seed(R_SEED)\n",
    "\n",
    "    model = CNN(\n",
    "        [\n",
    "            {\"in_channels\": 1, \"out_channels\": 16, \"kernel_size\": 5, \"stride\": 1, \"padding\": 2},\n",
    "            {\"in_channels\": 16, \"out_channels\": 16, \"kernel_size\": 5, \"stride\": 1, \"padding\": 2},\n",
    "            {\"in_channels\": 16, \"out_channels\": 32, \"kernel_size\": 5, \"stride\": 1, \"padding\": 2}\n",
    "\n",
    "        ],\n",
    "        [\n",
    "            {\"in_features\": 32 * 28 * 28, \"out_features\": 10}\n",
    "        ]\n",
    "    )\n",
    "    model.initialize(mode=\"normal\", scale_factor=factor)\n",
    "    writer = SummaryWriter(f\"./results/MNIST_CNN_NORMAL_3_{factor}\")\n",
    "    trainer = Trainer(model=model, lr=0.001, writer=writer)\n",
    "\n",
    "    trainer.train(train_loader=train_loader, test_loader=test_loader, num_epochs=15, train_summary=False)"
   ],
   "metadata": {
    "collapsed": false
   }
  },
  {
   "cell_type": "code",
   "execution_count": null,
   "outputs": [],
   "source": [
    "factor_range = range(10, 31, 2)\n",
    "\n",
    "for factor in factor_range:\n",
    "    torch.manual_seed(R_SEED)\n",
    "    random.seed(R_SEED)\n",
    "    np.random.seed(R_SEED)\n",
    "\n",
    "    model = CNN(\n",
    "        [\n",
    "            {\"in_channels\": 1, \"out_channels\": 16, \"kernel_size\": 5, \"stride\": 1, \"padding\": 2},\n",
    "            {\"in_channels\": 16, \"out_channels\": 32, \"kernel_size\": 5, \"stride\": 1, \"padding\": 2}\n",
    "\n",
    "        ],\n",
    "        [\n",
    "            {\"in_features\": 32 * 28 * 28, \"out_features\": 100},\n",
    "            {\"in_features\": 100, \"out_features\": 10}\n",
    "        ]\n",
    "    )\n",
    "    model.initialize(mode=\"normal\", scale_factor=factor)\n",
    "    writer = SummaryWriter(f\"./results/MNIST_CNN_NORMAL_4_{factor}\")\n",
    "    trainer = Trainer(model=model, lr=0.001, writer=writer)\n",
    "\n",
    "    trainer.train(train_loader=train_loader, test_loader=test_loader, num_epochs=15, train_summary=False)"
   ],
   "metadata": {
    "collapsed": false
   }
  },
  {
   "cell_type": "code",
   "execution_count": null,
   "outputs": [],
   "source": [
    "factors = [10, 100, 1000, 10_000, 100_000, 1_000_000]\n",
    "\n",
    "for factor in factors:\n",
    "    torch.manual_seed(R_SEED)\n",
    "    random.seed(R_SEED)\n",
    "    np.random.seed(R_SEED)\n",
    "\n",
    "    factor = 1 / factor\n",
    "\n",
    "    model = CNN(\n",
    "        [\n",
    "            {\"in_channels\": 1, \"out_channels\": 16, \"kernel_size\": 5, \"stride\": 1, \"padding\": 2},\n",
    "            {\"in_channels\": 16, \"out_channels\": 32, \"kernel_size\": 5, \"stride\": 1, \"padding\": 2}\n",
    "\n",
    "        ],\n",
    "        [\n",
    "            {\"in_features\": 32 * 28 * 28, \"out_features\": 10}\n",
    "        ]\n",
    "    )\n",
    "    model.initialize(mode=\"normal\", scale_factor=factor)\n",
    "    writer = SummaryWriter(f\"./results/MNIST_CNN_NORMAL_DOWN_{factor}\")\n",
    "    trainer = Trainer(model=model, lr=0.001, writer=writer)\n",
    "\n",
    "    trainer.train(train_loader=train_loader, test_loader=test_loader, num_epochs=15, train_summary=False)"
   ],
   "metadata": {
    "collapsed": false
   }
  },
  {
   "cell_type": "markdown",
   "source": [
    "### 2.2 Uniform Distribution"
   ],
   "metadata": {
    "collapsed": false
   }
  },
  {
   "cell_type": "code",
   "execution_count": null,
   "outputs": [],
   "source": [
    "train_loader, val_loader = get_mnist_loader(train=True, batch_size=32, flatten=False)\n",
    "test_loader = get_mnist_loader(train=False, batch_size=32, flatten=False)"
   ],
   "metadata": {
    "collapsed": false
   }
  },
  {
   "cell_type": "markdown",
   "source": [
    "#### 2.2.1 Zero To One Pre-Activations"
   ],
   "metadata": {
    "collapsed": false
   }
  },
  {
   "cell_type": "code",
   "execution_count": null,
   "outputs": [],
   "source": [
    "model = CNN(\n",
    "    [\n",
    "        {\"in_channels\": 1, \"out_channels\": 16, \"kernel_size\": 5, \"stride\": 1, \"padding\": 2},\n",
    "        {\"in_channels\": 16, \"out_channels\": 32, \"kernel_size\": 5, \"stride\": 1, \"padding\": 2}\n",
    "\n",
    "    ],\n",
    "    [\n",
    "        {\"in_features\": 32 * 28 * 28, \"out_features\": 10}\n",
    "    ]\n",
    ")\n",
    "\n",
    "model.initialize(\"uniform\", a=0, b=1)\n",
    "\n",
    "config = ExperimentConfig(\n",
    "    model_name=\"MNIST_CNN_UNIFORM_0-1\",\n",
    "    train_loader=train_loader,\n",
    "    val_loader=val_loader,\n",
    "    test_loader=test_loader,\n",
    "    epochs=20\n",
    ")\n",
    "\n",
    "run_experiments(model, config)"
   ],
   "metadata": {
    "collapsed": false
   }
  },
  {
   "cell_type": "markdown",
   "source": [
    "#### 2.2.2 Unit Variance And Zero Mean Pre-Activations"
   ],
   "metadata": {
    "collapsed": false
   }
  },
  {
   "cell_type": "code",
   "execution_count": null,
   "outputs": [],
   "source": [
    "model = CNN(\n",
    "    [\n",
    "        {\"in_channels\": 1, \"out_channels\": 16, \"kernel_size\": 5, \"stride\": 1, \"padding\": 2},\n",
    "        {\"in_channels\": 16, \"out_channels\": 32, \"kernel_size\": 5, \"stride\": 1, \"padding\": 2}\n",
    "\n",
    "    ],\n",
    "    [\n",
    "        {\"in_features\": 32 * 28 * 28, \"out_features\": 10}\n",
    "    ]\n",
    ")\n",
    "\n",
    "model.initialize(mode=\"uniform\", a=-math.sqrt(3), b=math.sqrt(3))\n",
    "\n",
    "config = ExperimentConfig(\n",
    "    model_name=\"MNIST_CNN_UNIFORM_PRE_ACT\",\n",
    "    train_loader=train_loader,\n",
    "    val_loader=val_loader,\n",
    "    test_loader=test_loader,\n",
    "    epochs=20\n",
    ")\n",
    "\n",
    "run_experiments(model, config)"
   ],
   "metadata": {
    "collapsed": false
   }
  },
  {
   "cell_type": "code",
   "execution_count": null,
   "outputs": [],
   "source": [
    "model = CNN(\n",
    "    [\n",
    "        {\"in_channels\": 1, \"out_channels\": 16, \"kernel_size\": 5, \"stride\": 1, \"padding\": 2},\n",
    "        {\"in_channels\": 16, \"out_channels\": 32, \"kernel_size\": 5, \"stride\": 1, \"padding\": 2}\n",
    "\n",
    "    ],\n",
    "    [\n",
    "        {\"in_features\": 32 * 28 * 28, \"out_features\": 10}\n",
    "    ]\n",
    ")\n",
    "\n",
    "model.initialize(mode=\"deterministic\", a=-math.sqrt(3), b=math.sqrt(3))\n",
    "\n",
    "config = ExperimentConfig(\n",
    "    model_name=\"MNIST_CNN_UNIFORM_PRE_ACT_DET\",\n",
    "    train_loader=train_loader,\n",
    "    val_loader=val_loader,\n",
    "    test_loader=test_loader,\n",
    "    epochs=20\n",
    ")\n",
    "\n",
    "run_experiments(model, config)"
   ],
   "metadata": {
    "collapsed": false
   }
  },
  {
   "cell_type": "markdown",
   "source": [
    "#### 2.2.3 Unit Variance and Zero Mean Activation"
   ],
   "metadata": {
    "collapsed": false
   }
  },
  {
   "cell_type": "code",
   "execution_count": null,
   "outputs": [],
   "source": [
    "model = CNN(\n",
    "    [\n",
    "        {\"in_channels\": 1, \"out_channels\": 16, \"kernel_size\": 5, \"stride\": 1, \"padding\": 2},\n",
    "        {\"in_channels\": 16, \"out_channels\": 32, \"kernel_size\": 5, \"stride\": 1, \"padding\": 2}\n",
    "\n",
    "    ],\n",
    "    [\n",
    "        {\"in_features\": 32 * 28 * 28, \"out_features\": 10}\n",
    "    ]\n",
    ")\n",
    "\n",
    "model.initialize(mode=\"uniform\", a=-3.437, b=2.222)\n",
    "\n",
    "config = ExperimentConfig(\n",
    "    model_name=\"MNIST_CNN_UNIFORM_UNIT_VAR_ZERO_MEAN\",\n",
    "    train_loader=train_loader,\n",
    "    val_loader=val_loader,\n",
    "    test_loader=test_loader,\n",
    "    epochs=20\n",
    ")\n",
    "\n",
    "run_experiments(model, config)"
   ],
   "metadata": {
    "collapsed": false
   }
  },
  {
   "cell_type": "code",
   "execution_count": null,
   "outputs": [],
   "source": [
    "model = CNN(\n",
    "    [\n",
    "        {\"in_channels\": 1, \"out_channels\": 16, \"kernel_size\": 5, \"stride\": 1, \"padding\": 2},\n",
    "        {\"in_channels\": 16, \"out_channels\": 32, \"kernel_size\": 5, \"stride\": 1, \"padding\": 2}\n",
    "\n",
    "    ],\n",
    "    [\n",
    "        {\"in_features\": 32 * 28 * 28, \"out_features\": 10}\n",
    "    ]\n",
    ")\n",
    "\n",
    "model.initialize(mode=\"deterministic\", a=-3.437, b=2.222)\n",
    "\n",
    "config = ExperimentConfig(\n",
    "    model_name=\"MNIST_CNN_UNIFORM_UNIT_VAR_ZERO_MEAN_DET\",\n",
    "    train_loader=train_loader,\n",
    "    val_loader=val_loader,\n",
    "    test_loader=test_loader,\n",
    "    epochs=20\n",
    ")\n",
    "\n",
    "run_experiments(model, config)"
   ],
   "metadata": {
    "collapsed": false
   }
  },
  {
   "cell_type": "markdown",
   "source": [
    "#### 2.2.5 Comparison"
   ],
   "metadata": {
    "collapsed": false
   }
  },
  {
   "cell_type": "code",
   "execution_count": null,
   "outputs": [],
   "source": [
    "# TODO do several runs"
   ],
   "metadata": {
    "collapsed": false
   }
  },
  {
   "cell_type": "markdown",
   "source": [
    "### 2.3 Compare Our Approach To Others"
   ],
   "metadata": {
    "collapsed": false
   }
  },
  {
   "cell_type": "code",
   "execution_count": null,
   "outputs": [],
   "source": [
    "def objective(trial):\n",
    "    torch.manual_seed(R_SEED)\n",
    "    random.seed(R_SEED)\n",
    "    np.random.seed(R_SEED)\n",
    "\n",
    "    params = {\n",
    "        \"learning_rate\": trial.suggest_float(\"learning_rate\", 1e-5, 1e-1, log=True),\n",
    "        \"optimizer\": trial.suggest_categorical(\"optimizer\", [Adam, RMSprop, SGD]),\n",
    "        \"batch_size\": trial.suggest_int(\"batch_size\", 4, 64, 2),\n",
    "\n",
    "    }\n",
    "\n",
    "    train_loader, val_loader = get_mnist_loader(train=True, batch_size=params[\"batch_size\"], flatten=False)\n",
    "    test_loader = get_mnist_loader(train=False, batch_size=params[\"batch_size\"], flatten=False)\n",
    "\n",
    "    model = CNN(\n",
    "        [\n",
    "            {\"in_channels\": 1, \"out_channels\": 16, \"kernel_size\": 5, \"stride\": 1, \"padding\": 2},\n",
    "            {\"in_channels\": 16, \"out_channels\": 32, \"kernel_size\": 5, \"stride\": 1, \"padding\": 2}\n",
    "\n",
    "        ],\n",
    "        [\n",
    "            {\"in_features\": 32 * 28 * 28, \"out_features\": 10}\n",
    "        ]\n",
    "    )\n",
    "\n",
    "    writer = SummaryWriter(\"./results/MNIST_CNN_TRIAL\")\n",
    "    trainer = Trainer(model=model, lr=params[\"learning_rate\"], optimizer=params[\"optimizer\"], writer=writer)\n",
    "    accuracy = trainer.train(train_loader=train_loader, test_loader=test_loader, num_epochs=15, trial=trial,\n",
    "                             train_summary=False)\n",
    "\n",
    "    return accuracy\n",
    "\n",
    "\n",
    "study = optuna.create_study(direction=\"maximize\", sampler=optuna.samplers.TPESampler())\n",
    "study.optimize(objective, n_trials=28)\n",
    "\n",
    "joblib.dump(study, os.path.join(\"results\", \"optuna\", \"mnist_cnn.pkl\"))"
   ],
   "metadata": {
    "collapsed": false
   }
  },
  {
   "cell_type": "code",
   "execution_count": null,
   "outputs": [],
   "source": [
    "study = joblib.load(os.path.join(\"results\", \"optuna\", \"mnist_cnn.pkl\"), 'r')\n",
    "\n",
    "for key, value in study.best_trial.params.items():\n",
    "    print(\"{}: {}\".format(key, value))\n",
    "print(f\"final accuracy: {study.best_trial.value}\")\n",
    "\n",
    "optuna.visualization.plot_parallel_coordinate(study)"
   ],
   "metadata": {
    "collapsed": false
   }
  },
  {
   "cell_type": "code",
   "execution_count": null,
   "outputs": [],
   "source": [
    "def objective(trial):\n",
    "    torch.manual_seed(R_SEED)\n",
    "    random.seed(R_SEED)\n",
    "    np.random.seed(R_SEED)\n",
    "\n",
    "    params = {\n",
    "        \"learning_rate\": trial.suggest_float(\"learning_rate\", 1e-5, 1e-1, log=True),\n",
    "        \"optimizer\": trial.suggest_categorical(\"optimizer\", [Adam, RMSprop, SGD]),\n",
    "        \"batch_size\": trial.suggest_int(\"batch_size\", 4, 64, 2),\n",
    "\n",
    "    }\n",
    "\n",
    "    train_loader, val_loader = get_mnist_loader(train=True, batch_size=params[\"batch_size\"], flatten=False)\n",
    "    test_loader = get_mnist_loader(train=False, batch_size=params[\"batch_size\"], flatten=False)\n",
    "\n",
    "    model = CNN(\n",
    "        [\n",
    "            {\"in_channels\": 1, \"out_channels\": 16, \"kernel_size\": 5, \"stride\": 1, \"padding\": 2},\n",
    "            {\"in_channels\": 16, \"out_channels\": 32, \"kernel_size\": 5, \"stride\": 1, \"padding\": 2}\n",
    "\n",
    "        ],\n",
    "        [\n",
    "            {\"in_features\": 32 * 28 * 28, \"out_features\": 10}\n",
    "        ]\n",
    "    )\n",
    "    model.initialize(\"normal\")\n",
    "\n",
    "    writer = SummaryWriter(\"./results/MNIST_CNN_TRIAL_NORMAL\")\n",
    "    trainer = Trainer(model=model, lr=params[\"learning_rate\"], optimizer=params[\"optimizer\"], writer=writer)\n",
    "    accuracy = trainer.train(train_loader=train_loader, test_loader=test_loader, num_epochs=15, trial=trial,\n",
    "                             train_summary=False)\n",
    "\n",
    "    return accuracy\n",
    "\n",
    "\n",
    "study = optuna.create_study(direction=\"maximize\", sampler=optuna.samplers.TPESampler())\n",
    "study.optimize(objective, n_trials=28)\n",
    "\n",
    "joblib.dump(study, os.path.join(\"results\", \"optuna\", \"mnist_cnn_normal.pkl\"))"
   ],
   "metadata": {
    "collapsed": false
   }
  },
  {
   "cell_type": "code",
   "execution_count": null,
   "outputs": [],
   "source": [
    "study = joblib.load(os.path.join(\"results\", \"optuna\", \"mnist_cnn_normal.pkl\"), 'r')\n",
    "\n",
    "for key, value in study.best_trial.params.items():\n",
    "    print(\"{}: {}\".format(key, value))\n",
    "print(f\"final accuracy: {study.best_trial.value}\")\n",
    "\n",
    "optuna.visualization.plot_parallel_coordinate(study)"
   ],
   "metadata": {
    "collapsed": false
   }
  },
  {
   "cell_type": "code",
   "execution_count": null,
   "outputs": [],
   "source": [
    "def objective(trial):\n",
    "    torch.manual_seed(R_SEED)\n",
    "    random.seed(R_SEED)\n",
    "    np.random.seed(R_SEED)\n",
    "\n",
    "    params = {\n",
    "        \"learning_rate\": trial.suggest_float(\"learning_rate\", 1e-5, 1e-1, log=True),\n",
    "        \"optimizer\": trial.suggest_categorical(\"optimizer\", [Adam, RMSprop, SGD]),\n",
    "        \"batch_size\": trial.suggest_int(\"batch_size\", 4, 64, 2),\n",
    "\n",
    "    }\n",
    "\n",
    "    train_loader, val_loader = get_mnist_loader(train=True, batch_size=params[\"batch_size\"], flatten=False)\n",
    "    test_loader = get_mnist_loader(train=False, batch_size=params[\"batch_size\"], flatten=False)\n",
    "\n",
    "    model = CNN(\n",
    "        [\n",
    "            {\"in_channels\": 1, \"out_channels\": 16, \"kernel_size\": 5, \"stride\": 1, \"padding\": 2},\n",
    "            {\"in_channels\": 16, \"out_channels\": 32, \"kernel_size\": 5, \"stride\": 1, \"padding\": 2}\n",
    "\n",
    "        ],\n",
    "        [\n",
    "            {\"in_features\": 32 * 28 * 28, \"out_features\": 10}\n",
    "        ]\n",
    "    )\n",
    "    model.initialize(\"normal\", scale_factor=ELU_SCALE_NORMAL)\n",
    "\n",
    "    writer = SummaryWriter(\"./results/MNIST_CNN_TRIAL_NORMAL\")\n",
    "    trainer = Trainer(model=model, lr=params[\"learning_rate\"], optimizer=params[\"optimizer\"], writer=writer)\n",
    "    accuracy = trainer.train(train_loader=train_loader, test_loader=test_loader, num_epochs=15, trial=trial,\n",
    "                             train_summary=False)\n",
    "\n",
    "    return accuracy\n",
    "\n",
    "\n",
    "study = optuna.create_study(direction=\"maximize\", sampler=optuna.samplers.TPESampler())\n",
    "study.optimize(objective, n_trials=28)\n",
    "\n",
    "joblib.dump(study, os.path.join(\"results\", \"optuna\", \"mnist_cnn_normal_elu.pkl\"))\n",
    "study = joblib.load(os.path.join(\"results\", \"optuna\", \"mnist_cnn_normal_elu.pkl\"), 'r')\n",
    "\n",
    "for key, value in study.best_trial.params.items():\n",
    "    print(\"{}: {}\".format(key, value))\n",
    "print(f\"final accuracy: {study.best_trial.value}\")\n",
    "\n",
    "optuna.visualization.plot_parallel_coordinate(study)"
   ],
   "metadata": {
    "collapsed": false
   }
  },
  {
   "cell_type": "code",
   "execution_count": null,
   "outputs": [],
   "source": [
    "def objective(trial):\n",
    "    torch.manual_seed(R_SEED)\n",
    "    random.seed(R_SEED)\n",
    "    np.random.seed(R_SEED)\n",
    "\n",
    "    params = {\n",
    "        \"learning_rate\": trial.suggest_float(\"learning_rate\", 1e-5, 1e-1, log=True),\n",
    "        \"optimizer\": trial.suggest_categorical(\"optimizer\", [Adam, RMSprop, SGD]),\n",
    "        \"batch_size\": trial.suggest_int(\"batch_size\", 4, 64, 2),\n",
    "\n",
    "    }\n",
    "\n",
    "    train_loader, val_loader = get_mnist_loader(train=True, batch_size=params[\"batch_size\"], flatten=False)\n",
    "    test_loader = get_mnist_loader(train=False, batch_size=params[\"batch_size\"], flatten=False)\n",
    "\n",
    "    model = CNN(\n",
    "        [\n",
    "            {\"in_channels\": 1, \"out_channels\": 16, \"kernel_size\": 5, \"stride\": 1, \"padding\": 2},\n",
    "            {\"in_channels\": 16, \"out_channels\": 32, \"kernel_size\": 5, \"stride\": 1, \"padding\": 2}\n",
    "\n",
    "        ],\n",
    "        [\n",
    "            {\"in_features\": 32 * 28 * 28, \"out_features\": 10}\n",
    "        ]\n",
    "    )\n",
    "    model.initialize(\"uniform\", a=0, b=1)\n",
    "\n",
    "    writer = SummaryWriter(\"./results/MNIST_CNN_TRIAL_UNIFORM\")\n",
    "    trainer = Trainer(model=model, lr=params[\"learning_rate\"], optimizer=params[\"optimizer\"], writer=writer)\n",
    "    accuracy = trainer.train(train_loader=train_loader, test_loader=test_loader, num_epochs=15, trial=trial,\n",
    "                             train_summary=False)\n",
    "\n",
    "    return accuracy\n",
    "\n",
    "\n",
    "study = optuna.create_study(direction=\"maximize\", sampler=optuna.samplers.TPESampler())\n",
    "study.optimize(objective, n_trials=28)\n",
    "\n",
    "joblib.dump(study, os.path.join(\"results\", \"optuna\", \"mnist_cnn_uniform.pkl\"))"
   ],
   "metadata": {
    "collapsed": false
   }
  },
  {
   "cell_type": "code",
   "execution_count": null,
   "outputs": [],
   "source": [
    "study = joblib.load(os.path.join(\"results\", \"optuna\", \"mnist_cnn_uniform.pkl\"), 'r')\n",
    "\n",
    "for key, value in study.best_trial.params.items():\n",
    "    print(\"{}: {}\".format(key, value))\n",
    "print(f\"final accuracy: {study.best_trial.value}\")\n",
    "\n",
    "optuna.visualization.plot_parallel_coordinate(study)"
   ],
   "metadata": {
    "collapsed": false
   }
  },
  {
   "cell_type": "code",
   "execution_count": null,
   "outputs": [],
   "source": [
    "def objective(trial):\n",
    "    torch.manual_seed(R_SEED)\n",
    "    random.seed(R_SEED)\n",
    "    np.random.seed(R_SEED)\n",
    "\n",
    "    params = {\n",
    "        \"learning_rate\": trial.suggest_float(\"learning_rate\", 1e-5, 1e-1, log=True),\n",
    "        \"optimizer\": trial.suggest_categorical(\"optimizer\", [Adam, RMSprop, SGD]),\n",
    "        \"batch_size\": trial.suggest_int(\"batch_size\", 4, 64, 2),\n",
    "\n",
    "    }\n",
    "\n",
    "    train_loader, val_loader = get_mnist_loader(train=True, batch_size=params[\"batch_size\"], flatten=False)\n",
    "    test_loader = get_mnist_loader(train=False, batch_size=params[\"batch_size\"], flatten=False)\n",
    "\n",
    "    model = CNN(\n",
    "        [\n",
    "            {\"in_channels\": 1, \"out_channels\": 16, \"kernel_size\": 5, \"stride\": 1, \"padding\": 2},\n",
    "            {\"in_channels\": 16, \"out_channels\": 32, \"kernel_size\": 5, \"stride\": 1, \"padding\": 2}\n",
    "\n",
    "        ],\n",
    "        [\n",
    "            {\"in_features\": 32 * 28 * 28, \"out_features\": 10}\n",
    "        ]\n",
    "    )\n",
    "    model.initialize(mode=\"uniform\", a=-1.29, b=2.5)\n",
    "\n",
    "    writer = SummaryWriter(\"./results/MNIST_CNN_TRIAL_UNIFORM\")\n",
    "    trainer = Trainer(model=model, lr=params[\"learning_rate\"], optimizer=params[\"optimizer\"], writer=writer)\n",
    "    accuracy = trainer.train(train_loader=train_loader, test_loader=test_loader, num_epochs=15, trial=trial,\n",
    "                             train_summary=False)\n",
    "\n",
    "    return accuracy\n",
    "\n",
    "\n",
    "study = optuna.create_study(direction=\"maximize\", sampler=optuna.samplers.TPESampler())\n",
    "study.optimize(objective, n_trials=28)\n",
    "\n",
    "joblib.dump(study, os.path.join(\"results\", \"optuna\", \"mnist_cnn_uniform_unit_var.pkl\"))"
   ],
   "metadata": {
    "collapsed": false
   }
  },
  {
   "cell_type": "code",
   "execution_count": null,
   "outputs": [],
   "source": [
    "study = joblib.load(os.path.join(\"results\", \"optuna\", \"mnist_cnn_uniform_unit_var.pkl\"), 'r')\n",
    "\n",
    "for key, value in study.best_trial.params.items():\n",
    "    print(\"{}: {}\".format(key, value))\n",
    "print(f\"final accuracy: {study.best_trial.value}\")\n",
    "\n",
    "optuna.visualization.plot_parallel_coordinate(study)"
   ],
   "metadata": {
    "collapsed": false
   }
  },
  {
   "cell_type": "markdown",
   "source": [
    "## 3 CIFAR-10 - FNN"
   ],
   "metadata": {
    "collapsed": false
   }
  },
  {
   "cell_type": "markdown",
   "source": [
    "### 3.1 Normal Distribution"
   ],
   "metadata": {
    "collapsed": false
   }
  },
  {
   "cell_type": "code",
   "execution_count": 2,
   "outputs": [
    {
     "name": "stdout",
     "output_type": "stream",
     "text": [
      "Files already downloaded and verified\n",
      "Files already downloaded and verified\n"
     ]
    }
   ],
   "source": [
    "train_loader, val_loader = get_cifar10_loader(train=True, batch_size=32)\n",
    "test_loader = get_cifar10_loader(train=False, batch_size=32)"
   ],
   "metadata": {
    "collapsed": false,
    "ExecuteTime": {
     "end_time": "2024-02-22T15:57:31.499441002Z",
     "start_time": "2024-02-22T15:57:30.142894826Z"
    }
   }
  },
  {
   "cell_type": "code",
   "execution_count": 3,
   "outputs": [
    {
     "name": "stdout",
     "output_type": "stream",
     "text": [
      "### Running experiment CIFAR-10_FNN ###\n",
      "### 1. Run ###\n"
     ]
    },
    {
     "name": "stderr",
     "output_type": "stream",
     "text": [
      "Epoch 1/30: 100%|████████████████████████████████████| 1313/1313 [00:08<00:00, 160.26it/s]\n",
      "Epoch 2/30: 100%|████████████████████████████████████| 1313/1313 [00:07<00:00, 180.75it/s]\n",
      "Epoch 3/30: 100%|████████████████████████████████████| 1313/1313 [00:07<00:00, 183.31it/s]\n",
      "Epoch 4/30: 100%|████████████████████████████████████| 1313/1313 [00:07<00:00, 182.81it/s]\n",
      "Epoch 5/30: 100%|████████████████████████████████████| 1313/1313 [00:07<00:00, 182.89it/s]\n",
      "Epoch 6/30: 100%|████████████████████████████████████| 1313/1313 [00:07<00:00, 180.25it/s]\n",
      "Epoch 7/30: 100%|████████████████████████████████████| 1313/1313 [00:07<00:00, 169.94it/s]\n",
      "Epoch 8/30: 100%|████████████████████████████████████| 1313/1313 [00:08<00:00, 146.35it/s]\n",
      "Epoch 9/30: 100%|████████████████████████████████████| 1313/1313 [00:07<00:00, 169.41it/s]\n",
      "Epoch 10/30: 100%|███████████████████████████████████| 1313/1313 [00:07<00:00, 178.59it/s]\n",
      "Epoch 11/30: 100%|███████████████████████████████████| 1313/1313 [00:07<00:00, 171.14it/s]\n",
      "Epoch 12/30: 100%|███████████████████████████████████| 1313/1313 [00:07<00:00, 181.98it/s]\n",
      "Epoch 13/30: 100%|███████████████████████████████████| 1313/1313 [00:07<00:00, 181.98it/s]\n",
      "Epoch 14/30: 100%|███████████████████████████████████| 1313/1313 [00:07<00:00, 174.66it/s]\n",
      "Epoch 15/30: 100%|███████████████████████████████████| 1313/1313 [00:07<00:00, 175.10it/s]\n",
      "Epoch 16/30: 100%|███████████████████████████████████| 1313/1313 [00:07<00:00, 178.29it/s]\n",
      "Epoch 17/30: 100%|███████████████████████████████████| 1313/1313 [00:07<00:00, 177.58it/s]\n",
      "Epoch 18/30: 100%|███████████████████████████████████| 1313/1313 [00:07<00:00, 177.87it/s]\n",
      "Epoch 19/30: 100%|███████████████████████████████████| 1313/1313 [00:07<00:00, 179.97it/s]\n",
      "Epoch 20/30: 100%|███████████████████████████████████| 1313/1313 [00:07<00:00, 183.30it/s]\n",
      "Epoch 21/30: 100%|███████████████████████████████████| 1313/1313 [00:07<00:00, 181.75it/s]\n",
      "Epoch 22/30: 100%|███████████████████████████████████| 1313/1313 [00:07<00:00, 178.75it/s]\n",
      "Epoch 23/30: 100%|███████████████████████████████████| 1313/1313 [00:07<00:00, 181.48it/s]\n",
      "Epoch 24/30: 100%|███████████████████████████████████| 1313/1313 [00:06<00:00, 189.66it/s]\n",
      "Epoch 25/30: 100%|███████████████████████████████████| 1313/1313 [00:07<00:00, 178.86it/s]\n",
      "Epoch 26/30: 100%|███████████████████████████████████| 1313/1313 [00:07<00:00, 179.15it/s]\n",
      "Epoch 27/30: 100%|███████████████████████████████████| 1313/1313 [00:07<00:00, 173.10it/s]\n",
      "Epoch 28/30: 100%|███████████████████████████████████| 1313/1313 [00:07<00:00, 172.84it/s]\n",
      "Epoch 29/30: 100%|███████████████████████████████████| 1313/1313 [00:07<00:00, 179.90it/s]\n",
      "Epoch 30/30: 100%|███████████████████████████████████| 1313/1313 [00:07<00:00, 183.70it/s]\n"
     ]
    },
    {
     "name": "stdout",
     "output_type": "stream",
     "text": [
      "### 2. Run ###\n"
     ]
    },
    {
     "name": "stderr",
     "output_type": "stream",
     "text": [
      "Epoch 1/30: 100%|████████████████████████████████████| 1313/1313 [00:07<00:00, 182.65it/s]\n",
      "Epoch 2/30: 100%|████████████████████████████████████| 1313/1313 [00:07<00:00, 185.58it/s]\n",
      "Epoch 3/30: 100%|████████████████████████████████████| 1313/1313 [00:07<00:00, 179.73it/s]\n",
      "Epoch 4/30: 100%|████████████████████████████████████| 1313/1313 [00:07<00:00, 187.40it/s]\n",
      "Epoch 5/30: 100%|████████████████████████████████████| 1313/1313 [00:07<00:00, 167.82it/s]\n",
      "Epoch 6/30: 100%|████████████████████████████████████| 1313/1313 [00:07<00:00, 172.13it/s]\n",
      "Epoch 7/30: 100%|████████████████████████████████████| 1313/1313 [00:07<00:00, 171.06it/s]\n",
      "Epoch 8/30: 100%|████████████████████████████████████| 1313/1313 [00:07<00:00, 171.51it/s]\n",
      "Epoch 9/30: 100%|████████████████████████████████████| 1313/1313 [00:07<00:00, 175.05it/s]\n",
      "Epoch 10/30: 100%|███████████████████████████████████| 1313/1313 [00:07<00:00, 185.66it/s]\n",
      "Epoch 11/30: 100%|███████████████████████████████████| 1313/1313 [00:07<00:00, 180.26it/s]\n",
      "Epoch 12/30: 100%|███████████████████████████████████| 1313/1313 [00:07<00:00, 176.67it/s]\n",
      "Epoch 13/30: 100%|███████████████████████████████████| 1313/1313 [00:07<00:00, 176.82it/s]\n",
      "Epoch 14/30: 100%|███████████████████████████████████| 1313/1313 [00:07<00:00, 179.83it/s]\n",
      "Epoch 15/30: 100%|███████████████████████████████████| 1313/1313 [00:07<00:00, 179.09it/s]\n",
      "Epoch 16/30: 100%|███████████████████████████████████| 1313/1313 [00:07<00:00, 181.89it/s]\n",
      "Epoch 17/30: 100%|███████████████████████████████████| 1313/1313 [00:07<00:00, 180.96it/s]\n",
      "Epoch 18/30: 100%|███████████████████████████████████| 1313/1313 [00:07<00:00, 180.28it/s]\n",
      "Epoch 19/30: 100%|███████████████████████████████████| 1313/1313 [00:07<00:00, 181.06it/s]\n",
      "Epoch 20/30: 100%|███████████████████████████████████| 1313/1313 [00:07<00:00, 186.14it/s]\n",
      "Epoch 21/30: 100%|███████████████████████████████████| 1313/1313 [00:07<00:00, 174.94it/s]\n",
      "Epoch 22/30: 100%|███████████████████████████████████| 1313/1313 [00:07<00:00, 176.56it/s]\n",
      "Epoch 23/30: 100%|███████████████████████████████████| 1313/1313 [00:07<00:00, 169.46it/s]\n",
      "Epoch 24/30: 100%|███████████████████████████████████| 1313/1313 [00:07<00:00, 179.32it/s]\n",
      "Epoch 25/30: 100%|███████████████████████████████████| 1313/1313 [00:07<00:00, 175.02it/s]\n",
      "Epoch 26/30: 100%|███████████████████████████████████| 1313/1313 [00:07<00:00, 182.81it/s]\n",
      "Epoch 27/30: 100%|███████████████████████████████████| 1313/1313 [00:07<00:00, 176.20it/s]\n",
      "Epoch 28/30: 100%|███████████████████████████████████| 1313/1313 [00:07<00:00, 175.94it/s]\n",
      "Epoch 29/30: 100%|███████████████████████████████████| 1313/1313 [00:07<00:00, 178.84it/s]\n",
      "Epoch 30/30: 100%|███████████████████████████████████| 1313/1313 [00:07<00:00, 174.85it/s]\n"
     ]
    },
    {
     "name": "stdout",
     "output_type": "stream",
     "text": [
      "### 3. Run ###\n"
     ]
    },
    {
     "name": "stderr",
     "output_type": "stream",
     "text": [
      "Epoch 1/30: 100%|████████████████████████████████████| 1313/1313 [00:07<00:00, 167.15it/s]\n",
      "Epoch 2/30: 100%|████████████████████████████████████| 1313/1313 [00:07<00:00, 185.30it/s]\n",
      "Epoch 3/30: 100%|████████████████████████████████████| 1313/1313 [00:07<00:00, 180.87it/s]\n",
      "Epoch 4/30: 100%|████████████████████████████████████| 1313/1313 [00:07<00:00, 172.22it/s]\n",
      "Epoch 5/30: 100%|████████████████████████████████████| 1313/1313 [00:07<00:00, 176.44it/s]\n",
      "Epoch 6/30: 100%|████████████████████████████████████| 1313/1313 [00:07<00:00, 177.72it/s]\n",
      "Epoch 7/30: 100%|████████████████████████████████████| 1313/1313 [00:07<00:00, 180.43it/s]\n",
      "Epoch 8/30: 100%|████████████████████████████████████| 1313/1313 [00:07<00:00, 183.47it/s]\n",
      "Epoch 9/30: 100%|████████████████████████████████████| 1313/1313 [00:07<00:00, 184.86it/s]\n",
      "Epoch 10/30: 100%|███████████████████████████████████| 1313/1313 [00:07<00:00, 181.65it/s]\n",
      "Epoch 11/30: 100%|███████████████████████████████████| 1313/1313 [00:07<00:00, 179.59it/s]\n",
      "Epoch 12/30: 100%|███████████████████████████████████| 1313/1313 [00:07<00:00, 175.80it/s]\n",
      "Epoch 13/30: 100%|███████████████████████████████████| 1313/1313 [00:07<00:00, 176.09it/s]\n",
      "Epoch 14/30: 100%|███████████████████████████████████| 1313/1313 [00:07<00:00, 185.63it/s]\n",
      "Epoch 15/30: 100%|███████████████████████████████████| 1313/1313 [00:07<00:00, 187.22it/s]\n",
      "Epoch 16/30: 100%|███████████████████████████████████| 1313/1313 [00:07<00:00, 178.77it/s]\n",
      "Epoch 17/30: 100%|███████████████████████████████████| 1313/1313 [00:07<00:00, 182.31it/s]\n",
      "Epoch 18/30: 100%|███████████████████████████████████| 1313/1313 [00:07<00:00, 182.10it/s]\n",
      "Epoch 19/30: 100%|███████████████████████████████████| 1313/1313 [00:07<00:00, 178.26it/s]\n",
      "Epoch 20/30: 100%|███████████████████████████████████| 1313/1313 [00:07<00:00, 183.00it/s]\n",
      "Epoch 21/30: 100%|███████████████████████████████████| 1313/1313 [00:07<00:00, 185.86it/s]\n",
      "Epoch 22/30: 100%|███████████████████████████████████| 1313/1313 [00:07<00:00, 184.52it/s]\n",
      "Epoch 23/30: 100%|███████████████████████████████████| 1313/1313 [00:07<00:00, 180.32it/s]\n",
      "Epoch 24/30: 100%|███████████████████████████████████| 1313/1313 [00:07<00:00, 176.51it/s]\n",
      "Epoch 25/30: 100%|███████████████████████████████████| 1313/1313 [00:07<00:00, 183.53it/s]\n",
      "Epoch 26/30: 100%|███████████████████████████████████| 1313/1313 [00:07<00:00, 180.33it/s]\n",
      "Epoch 27/30: 100%|███████████████████████████████████| 1313/1313 [00:07<00:00, 184.92it/s]\n",
      "Epoch 28/30: 100%|███████████████████████████████████| 1313/1313 [00:07<00:00, 185.22it/s]\n",
      "Epoch 29/30: 100%|███████████████████████████████████| 1313/1313 [00:07<00:00, 172.52it/s]\n",
      "Epoch 30/30: 100%|███████████████████████████████████| 1313/1313 [00:07<00:00, 184.21it/s]\n"
     ]
    },
    {
     "name": "stdout",
     "output_type": "stream",
     "text": [
      "### 4. Run ###\n"
     ]
    },
    {
     "name": "stderr",
     "output_type": "stream",
     "text": [
      "Epoch 1/30: 100%|████████████████████████████████████| 1313/1313 [00:07<00:00, 183.56it/s]\n",
      "Epoch 2/30: 100%|████████████████████████████████████| 1313/1313 [00:07<00:00, 183.49it/s]\n",
      "Epoch 3/30: 100%|████████████████████████████████████| 1313/1313 [00:07<00:00, 185.62it/s]\n",
      "Epoch 4/30: 100%|████████████████████████████████████| 1313/1313 [00:07<00:00, 184.05it/s]\n",
      "Epoch 5/30: 100%|████████████████████████████████████| 1313/1313 [00:07<00:00, 182.51it/s]\n",
      "Epoch 6/30: 100%|████████████████████████████████████| 1313/1313 [00:07<00:00, 182.36it/s]\n",
      "Epoch 7/30: 100%|████████████████████████████████████| 1313/1313 [00:07<00:00, 181.63it/s]\n",
      "Epoch 8/30: 100%|████████████████████████████████████| 1313/1313 [00:07<00:00, 183.59it/s]\n",
      "Epoch 9/30: 100%|████████████████████████████████████| 1313/1313 [00:07<00:00, 183.24it/s]\n",
      "Epoch 10/30: 100%|███████████████████████████████████| 1313/1313 [00:07<00:00, 185.66it/s]\n",
      "Epoch 11/30: 100%|███████████████████████████████████| 1313/1313 [00:07<00:00, 185.17it/s]\n",
      "Epoch 12/30: 100%|███████████████████████████████████| 1313/1313 [00:07<00:00, 184.05it/s]\n",
      "Epoch 13/30: 100%|███████████████████████████████████| 1313/1313 [00:07<00:00, 177.27it/s]\n",
      "Epoch 14/30: 100%|███████████████████████████████████| 1313/1313 [00:07<00:00, 186.00it/s]\n",
      "Epoch 15/30: 100%|███████████████████████████████████| 1313/1313 [00:07<00:00, 183.92it/s]\n",
      "Epoch 16/30: 100%|███████████████████████████████████| 1313/1313 [00:06<00:00, 188.63it/s]\n",
      "Epoch 17/30: 100%|███████████████████████████████████| 1313/1313 [00:06<00:00, 188.41it/s]\n",
      "Epoch 18/30: 100%|███████████████████████████████████| 1313/1313 [00:07<00:00, 185.20it/s]\n",
      "Epoch 19/30: 100%|███████████████████████████████████| 1313/1313 [00:07<00:00, 184.35it/s]\n",
      "Epoch 20/30: 100%|███████████████████████████████████| 1313/1313 [00:07<00:00, 184.96it/s]\n",
      "Epoch 21/30: 100%|███████████████████████████████████| 1313/1313 [00:07<00:00, 184.63it/s]\n",
      "Epoch 22/30: 100%|███████████████████████████████████| 1313/1313 [00:07<00:00, 176.63it/s]\n",
      "Epoch 23/30: 100%|███████████████████████████████████| 1313/1313 [00:07<00:00, 186.89it/s]\n",
      "Epoch 24/30: 100%|███████████████████████████████████| 1313/1313 [00:07<00:00, 186.05it/s]\n",
      "Epoch 25/30: 100%|███████████████████████████████████| 1313/1313 [00:07<00:00, 181.44it/s]\n",
      "Epoch 26/30: 100%|███████████████████████████████████| 1313/1313 [00:07<00:00, 186.84it/s]\n",
      "Epoch 27/30: 100%|███████████████████████████████████| 1313/1313 [00:07<00:00, 184.09it/s]\n",
      "Epoch 28/30: 100%|███████████████████████████████████| 1313/1313 [00:07<00:00, 184.74it/s]\n",
      "Epoch 29/30: 100%|███████████████████████████████████| 1313/1313 [00:07<00:00, 182.04it/s]\n",
      "Epoch 30/30: 100%|███████████████████████████████████| 1313/1313 [00:07<00:00, 184.03it/s]\n"
     ]
    },
    {
     "name": "stdout",
     "output_type": "stream",
     "text": [
      "### 5. Run ###\n"
     ]
    },
    {
     "name": "stderr",
     "output_type": "stream",
     "text": [
      "Epoch 1/30: 100%|████████████████████████████████████| 1313/1313 [00:07<00:00, 182.75it/s]\n",
      "Epoch 2/30: 100%|████████████████████████████████████| 1313/1313 [00:07<00:00, 182.61it/s]\n",
      "Epoch 3/30: 100%|████████████████████████████████████| 1313/1313 [00:07<00:00, 180.39it/s]\n",
      "Epoch 4/30: 100%|████████████████████████████████████| 1313/1313 [00:07<00:00, 185.84it/s]\n",
      "Epoch 5/30: 100%|████████████████████████████████████| 1313/1313 [00:07<00:00, 179.34it/s]\n",
      "Epoch 6/30: 100%|████████████████████████████████████| 1313/1313 [00:07<00:00, 176.61it/s]\n",
      "Epoch 7/30: 100%|████████████████████████████████████| 1313/1313 [00:07<00:00, 184.15it/s]\n",
      "Epoch 8/30: 100%|████████████████████████████████████| 1313/1313 [00:07<00:00, 177.46it/s]\n",
      "Epoch 9/30: 100%|████████████████████████████████████| 1313/1313 [00:07<00:00, 174.22it/s]\n",
      "Epoch 10/30: 100%|███████████████████████████████████| 1313/1313 [00:07<00:00, 181.02it/s]\n",
      "Epoch 11/30: 100%|███████████████████████████████████| 1313/1313 [00:07<00:00, 179.60it/s]\n",
      "Epoch 12/30: 100%|███████████████████████████████████| 1313/1313 [00:07<00:00, 183.94it/s]\n",
      "Epoch 13/30: 100%|███████████████████████████████████| 1313/1313 [00:07<00:00, 186.03it/s]\n",
      "Epoch 14/30: 100%|███████████████████████████████████| 1313/1313 [00:07<00:00, 182.45it/s]\n",
      "Epoch 15/30: 100%|███████████████████████████████████| 1313/1313 [00:07<00:00, 184.97it/s]\n",
      "Epoch 16/30: 100%|███████████████████████████████████| 1313/1313 [00:06<00:00, 188.10it/s]\n",
      "Epoch 17/30: 100%|███████████████████████████████████| 1313/1313 [00:07<00:00, 177.56it/s]\n",
      "Epoch 18/30: 100%|███████████████████████████████████| 1313/1313 [00:07<00:00, 184.41it/s]\n",
      "Epoch 19/30: 100%|███████████████████████████████████| 1313/1313 [00:07<00:00, 183.81it/s]\n",
      "Epoch 20/30: 100%|███████████████████████████████████| 1313/1313 [00:07<00:00, 180.39it/s]\n",
      "Epoch 21/30: 100%|███████████████████████████████████| 1313/1313 [00:07<00:00, 179.88it/s]\n",
      "Epoch 22/30: 100%|███████████████████████████████████| 1313/1313 [00:07<00:00, 183.58it/s]\n",
      "Epoch 23/30: 100%|███████████████████████████████████| 1313/1313 [00:07<00:00, 186.73it/s]\n",
      "Epoch 24/30: 100%|███████████████████████████████████| 1313/1313 [00:06<00:00, 189.37it/s]\n",
      "Epoch 25/30: 100%|███████████████████████████████████| 1313/1313 [00:07<00:00, 186.29it/s]\n",
      "Epoch 26/30: 100%|███████████████████████████████████| 1313/1313 [00:07<00:00, 179.35it/s]\n",
      "Epoch 27/30: 100%|███████████████████████████████████| 1313/1313 [00:07<00:00, 178.69it/s]\n",
      "Epoch 28/30: 100%|███████████████████████████████████| 1313/1313 [00:07<00:00, 187.50it/s]\n",
      "Epoch 29/30: 100%|███████████████████████████████████| 1313/1313 [00:07<00:00, 182.63it/s]\n",
      "Epoch 30/30: 100%|███████████████████████████████████| 1313/1313 [00:07<00:00, 186.79it/s]\n"
     ]
    },
    {
     "data": {
      "text/plain": "<Figure size 640x480 with 1 Axes>",
      "image/png": "[encoded data removed]"
     },
     "metadata": {},
     "output_type": "display_data"
    }
   ],
   "source": [
    "model = FNN(\n",
    "    [\n",
    "        {\"in_features\": 32 * 32 * 3, \"out_features\": 512},\n",
    "        {\"in_features\": 512, \"out_features\": 256},\n",
    "        {\"in_features\": 256, \"out_features\": 128},\n",
    "        {\"in_features\": 128, \"out_features\": 10},\n",
    "    ]\n",
    ")\n",
    "\n",
    "config = ExperimentConfig(\n",
    "    model_name=\"CIFAR-10_FNN\",\n",
    "    train_loader=train_loader,\n",
    "    val_loader=val_loader,\n",
    "    test_loader=test_loader,\n",
    "    epochs=30\n",
    ")\n",
    "\n",
    "run_experiments(model, config)"
   ],
   "metadata": {
    "collapsed": false,
    "ExecuteTime": {
     "end_time": "2024-02-22T16:20:24.518651674Z",
     "start_time": "2024-02-22T15:57:38.594707593Z"
    }
   }
  },
  {
   "cell_type": "code",
   "execution_count": 4,
   "outputs": [
    {
     "name": "stdout",
     "output_type": "stream",
     "text": [
      "### Running experiment CIFAR-10_FNN_NORMAL ###\n",
      "### 1. Run ###\n"
     ]
    },
    {
     "name": "stderr",
     "output_type": "stream",
     "text": [
      "Epoch 1/30: 100%|████████████████████████████████████| 1313/1313 [00:07<00:00, 186.98it/s]\n",
      "Epoch 2/30: 100%|████████████████████████████████████| 1313/1313 [00:07<00:00, 182.53it/s]\n",
      "Epoch 3/30: 100%|████████████████████████████████████| 1313/1313 [00:07<00:00, 182.14it/s]\n",
      "Epoch 4/30: 100%|████████████████████████████████████| 1313/1313 [00:07<00:00, 183.16it/s]\n",
      "Epoch 5/30: 100%|████████████████████████████████████| 1313/1313 [00:07<00:00, 184.56it/s]\n",
      "Epoch 6/30: 100%|████████████████████████████████████| 1313/1313 [00:07<00:00, 184.02it/s]\n",
      "Epoch 7/30: 100%|████████████████████████████████████| 1313/1313 [00:07<00:00, 184.28it/s]\n",
      "Epoch 8/30: 100%|████████████████████████████████████| 1313/1313 [00:07<00:00, 185.55it/s]\n",
      "Epoch 9/30: 100%|████████████████████████████████████| 1313/1313 [00:07<00:00, 182.71it/s]\n",
      "Epoch 10/30: 100%|███████████████████████████████████| 1313/1313 [00:07<00:00, 181.32it/s]\n",
      "Epoch 11/30: 100%|███████████████████████████████████| 1313/1313 [00:07<00:00, 179.97it/s]\n",
      "Epoch 12/30: 100%|███████████████████████████████████| 1313/1313 [00:07<00:00, 180.54it/s]\n",
      "Epoch 13/30: 100%|███████████████████████████████████| 1313/1313 [00:07<00:00, 184.53it/s]\n",
      "Epoch 14/30: 100%|███████████████████████████████████| 1313/1313 [00:07<00:00, 179.82it/s]\n",
      "Epoch 15/30: 100%|███████████████████████████████████| 1313/1313 [00:07<00:00, 185.33it/s]\n",
      "Epoch 16/30: 100%|███████████████████████████████████| 1313/1313 [00:07<00:00, 180.03it/s]\n",
      "Epoch 17/30: 100%|███████████████████████████████████| 1313/1313 [00:07<00:00, 177.34it/s]\n",
      "Epoch 18/30: 100%|███████████████████████████████████| 1313/1313 [00:07<00:00, 184.06it/s]\n",
      "Epoch 19/30: 100%|███████████████████████████████████| 1313/1313 [00:07<00:00, 178.71it/s]\n",
      "Epoch 20/30: 100%|███████████████████████████████████| 1313/1313 [00:07<00:00, 186.70it/s]\n",
      "Epoch 21/30: 100%|███████████████████████████████████| 1313/1313 [00:07<00:00, 186.21it/s]\n",
      "Epoch 22/30: 100%|███████████████████████████████████| 1313/1313 [00:07<00:00, 183.74it/s]\n",
      "Epoch 23/30: 100%|███████████████████████████████████| 1313/1313 [00:06<00:00, 188.27it/s]\n",
      "Epoch 24/30: 100%|███████████████████████████████████| 1313/1313 [00:07<00:00, 177.29it/s]\n",
      "Epoch 25/30: 100%|███████████████████████████████████| 1313/1313 [00:07<00:00, 178.80it/s]\n",
      "Epoch 26/30: 100%|███████████████████████████████████| 1313/1313 [00:06<00:00, 190.98it/s]\n",
      "Epoch 27/30: 100%|███████████████████████████████████| 1313/1313 [00:06<00:00, 187.81it/s]\n",
      "Epoch 28/30: 100%|███████████████████████████████████| 1313/1313 [00:06<00:00, 188.33it/s]\n",
      "Epoch 29/30: 100%|███████████████████████████████████| 1313/1313 [00:07<00:00, 183.11it/s]\n",
      "Epoch 30/30: 100%|███████████████████████████████████| 1313/1313 [00:07<00:00, 186.36it/s]\n"
     ]
    },
    {
     "name": "stdout",
     "output_type": "stream",
     "text": [
      "### 2. Run ###\n"
     ]
    },
    {
     "name": "stderr",
     "output_type": "stream",
     "text": [
      "Epoch 1/30: 100%|████████████████████████████████████| 1313/1313 [00:07<00:00, 186.35it/s]\n",
      "Epoch 2/30: 100%|████████████████████████████████████| 1313/1313 [00:07<00:00, 186.63it/s]\n",
      "Epoch 3/30: 100%|████████████████████████████████████| 1313/1313 [00:07<00:00, 184.00it/s]\n",
      "Epoch 4/30: 100%|████████████████████████████████████| 1313/1313 [00:07<00:00, 174.56it/s]\n",
      "Epoch 5/30: 100%|████████████████████████████████████| 1313/1313 [00:07<00:00, 177.92it/s]\n",
      "Epoch 6/30: 100%|████████████████████████████████████| 1313/1313 [00:07<00:00, 176.97it/s]\n",
      "Epoch 7/30: 100%|████████████████████████████████████| 1313/1313 [00:07<00:00, 179.83it/s]\n",
      "Epoch 8/30: 100%|████████████████████████████████████| 1313/1313 [00:06<00:00, 188.32it/s]\n",
      "Epoch 9/30: 100%|████████████████████████████████████| 1313/1313 [00:07<00:00, 184.46it/s]\n",
      "Epoch 10/30: 100%|███████████████████████████████████| 1313/1313 [00:07<00:00, 183.59it/s]\n",
      "Epoch 11/30: 100%|███████████████████████████████████| 1313/1313 [00:07<00:00, 184.52it/s]\n",
      "Epoch 12/30: 100%|███████████████████████████████████| 1313/1313 [00:07<00:00, 186.41it/s]\n",
      "Epoch 13/30: 100%|███████████████████████████████████| 1313/1313 [00:06<00:00, 188.02it/s]\n",
      "Epoch 14/30: 100%|███████████████████████████████████| 1313/1313 [00:06<00:00, 189.97it/s]\n",
      "Epoch 15/30: 100%|███████████████████████████████████| 1313/1313 [00:06<00:00, 190.74it/s]\n",
      "Epoch 16/30: 100%|███████████████████████████████████| 1313/1313 [00:06<00:00, 188.81it/s]\n",
      "Epoch 17/30: 100%|███████████████████████████████████| 1313/1313 [00:06<00:00, 189.56it/s]\n",
      "Epoch 18/30: 100%|███████████████████████████████████| 1313/1313 [00:07<00:00, 182.12it/s]\n",
      "Epoch 19/30: 100%|███████████████████████████████████| 1313/1313 [00:07<00:00, 179.39it/s]\n",
      "Epoch 20/30: 100%|███████████████████████████████████| 1313/1313 [00:07<00:00, 186.88it/s]\n",
      "Epoch 21/30: 100%|███████████████████████████████████| 1313/1313 [00:07<00:00, 187.09it/s]\n",
      "Epoch 22/30: 100%|███████████████████████████████████| 1313/1313 [00:07<00:00, 183.83it/s]\n",
      "Epoch 23/30: 100%|███████████████████████████████████| 1313/1313 [00:07<00:00, 186.97it/s]\n",
      "Epoch 24/30: 100%|███████████████████████████████████| 1313/1313 [00:07<00:00, 185.29it/s]\n",
      "Epoch 25/30: 100%|███████████████████████████████████| 1313/1313 [00:06<00:00, 193.44it/s]\n",
      "Epoch 26/30: 100%|███████████████████████████████████| 1313/1313 [00:07<00:00, 183.83it/s]\n",
      "Epoch 27/30: 100%|███████████████████████████████████| 1313/1313 [00:07<00:00, 185.94it/s]\n",
      "Epoch 28/30: 100%|███████████████████████████████████| 1313/1313 [00:07<00:00, 187.27it/s]\n",
      "Epoch 29/30: 100%|███████████████████████████████████| 1313/1313 [00:07<00:00, 187.30it/s]\n",
      "Epoch 30/30: 100%|███████████████████████████████████| 1313/1313 [00:06<00:00, 188.08it/s]\n"
     ]
    },
    {
     "name": "stdout",
     "output_type": "stream",
     "text": [
      "### 3. Run ###\n"
     ]
    },
    {
     "name": "stderr",
     "output_type": "stream",
     "text": [
      "Epoch 1/30: 100%|████████████████████████████████████| 1313/1313 [00:07<00:00, 185.59it/s]\n",
      "Epoch 2/30: 100%|████████████████████████████████████| 1313/1313 [00:07<00:00, 185.45it/s]\n",
      "Epoch 3/30: 100%|████████████████████████████████████| 1313/1313 [00:07<00:00, 184.51it/s]\n",
      "Epoch 4/30: 100%|████████████████████████████████████| 1313/1313 [00:07<00:00, 185.60it/s]\n",
      "Epoch 5/30: 100%|████████████████████████████████████| 1313/1313 [00:07<00:00, 186.84it/s]\n",
      "Epoch 6/30: 100%|████████████████████████████████████| 1313/1313 [00:07<00:00, 184.50it/s]\n",
      "Epoch 7/30: 100%|████████████████████████████████████| 1313/1313 [00:06<00:00, 187.62it/s]\n",
      "Epoch 8/30: 100%|████████████████████████████████████| 1313/1313 [00:07<00:00, 183.08it/s]\n",
      "Epoch 9/30: 100%|████████████████████████████████████| 1313/1313 [00:07<00:00, 187.13it/s]\n",
      "Epoch 10/30: 100%|███████████████████████████████████| 1313/1313 [00:07<00:00, 186.25it/s]\n",
      "Epoch 11/30: 100%|███████████████████████████████████| 1313/1313 [00:07<00:00, 184.95it/s]\n",
      "Epoch 12/30: 100%|███████████████████████████████████| 1313/1313 [00:07<00:00, 185.95it/s]\n",
      "Epoch 13/30: 100%|███████████████████████████████████| 1313/1313 [00:07<00:00, 186.50it/s]\n",
      "Epoch 14/30: 100%|███████████████████████████████████| 1313/1313 [00:07<00:00, 186.19it/s]\n",
      "Epoch 15/30: 100%|███████████████████████████████████| 1313/1313 [00:07<00:00, 186.78it/s]\n",
      "Epoch 16/30: 100%|███████████████████████████████████| 1313/1313 [00:07<00:00, 184.54it/s]\n",
      "Epoch 17/30: 100%|███████████████████████████████████| 1313/1313 [00:06<00:00, 194.65it/s]\n",
      "Epoch 18/30: 100%|███████████████████████████████████| 1313/1313 [00:06<00:00, 194.04it/s]\n",
      "Epoch 19/30: 100%|███████████████████████████████████| 1313/1313 [00:06<00:00, 188.53it/s]\n",
      "Epoch 20/30: 100%|███████████████████████████████████| 1313/1313 [00:06<00:00, 189.64it/s]\n",
      "Epoch 21/30: 100%|███████████████████████████████████| 1313/1313 [00:06<00:00, 191.49it/s]\n",
      "Epoch 22/30: 100%|███████████████████████████████████| 1313/1313 [00:07<00:00, 187.06it/s]\n",
      "Epoch 23/30: 100%|███████████████████████████████████| 1313/1313 [00:07<00:00, 186.93it/s]\n",
      "Epoch 24/30: 100%|███████████████████████████████████| 1313/1313 [00:07<00:00, 185.67it/s]\n",
      "Epoch 25/30: 100%|███████████████████████████████████| 1313/1313 [00:07<00:00, 186.94it/s]\n",
      "Epoch 26/30: 100%|███████████████████████████████████| 1313/1313 [00:06<00:00, 188.52it/s]\n",
      "Epoch 27/30: 100%|███████████████████████████████████| 1313/1313 [00:07<00:00, 187.26it/s]\n",
      "Epoch 28/30: 100%|███████████████████████████████████| 1313/1313 [00:07<00:00, 187.42it/s]\n",
      "Epoch 29/30: 100%|███████████████████████████████████| 1313/1313 [00:06<00:00, 188.24it/s]\n",
      "Epoch 30/30: 100%|███████████████████████████████████| 1313/1313 [00:06<00:00, 188.26it/s]\n"
     ]
    },
    {
     "name": "stdout",
     "output_type": "stream",
     "text": [
      "### 4. Run ###\n"
     ]
    },
    {
     "name": "stderr",
     "output_type": "stream",
     "text": [
      "Epoch 1/30: 100%|████████████████████████████████████| 1313/1313 [00:06<00:00, 189.39it/s]\n",
      "Epoch 2/30: 100%|████████████████████████████████████| 1313/1313 [00:07<00:00, 185.69it/s]\n",
      "Epoch 3/30: 100%|████████████████████████████████████| 1313/1313 [00:06<00:00, 188.34it/s]\n",
      "Epoch 4/30: 100%|████████████████████████████████████| 1313/1313 [00:06<00:00, 189.36it/s]\n",
      "Epoch 5/30: 100%|████████████████████████████████████| 1313/1313 [00:06<00:00, 189.33it/s]\n",
      "Epoch 6/30: 100%|████████████████████████████████████| 1313/1313 [00:06<00:00, 189.31it/s]\n",
      "Epoch 7/30: 100%|████████████████████████████████████| 1313/1313 [00:06<00:00, 190.28it/s]\n",
      "Epoch 8/30: 100%|████████████████████████████████████| 1313/1313 [00:07<00:00, 185.38it/s]\n",
      "Epoch 9/30: 100%|████████████████████████████████████| 1313/1313 [00:06<00:00, 188.75it/s]\n",
      "Epoch 10/30: 100%|███████████████████████████████████| 1313/1313 [00:06<00:00, 189.15it/s]\n",
      "Epoch 11/30: 100%|███████████████████████████████████| 1313/1313 [00:06<00:00, 187.98it/s]\n",
      "Epoch 12/30: 100%|███████████████████████████████████| 1313/1313 [00:06<00:00, 191.55it/s]\n",
      "Epoch 13/30: 100%|███████████████████████████████████| 1313/1313 [00:06<00:00, 193.69it/s]\n",
      "Epoch 14/30: 100%|███████████████████████████████████| 1313/1313 [00:06<00:00, 187.82it/s]\n",
      "Epoch 15/30: 100%|███████████████████████████████████| 1313/1313 [00:06<00:00, 189.01it/s]\n",
      "Epoch 16/30: 100%|███████████████████████████████████| 1313/1313 [00:07<00:00, 187.35it/s]\n",
      "Epoch 17/30: 100%|███████████████████████████████████| 1313/1313 [00:06<00:00, 189.97it/s]\n",
      "Epoch 18/30: 100%|███████████████████████████████████| 1313/1313 [00:06<00:00, 189.07it/s]\n",
      "Epoch 19/30: 100%|███████████████████████████████████| 1313/1313 [00:06<00:00, 188.52it/s]\n",
      "Epoch 20/30: 100%|███████████████████████████████████| 1313/1313 [00:06<00:00, 188.04it/s]\n",
      "Epoch 21/30: 100%|███████████████████████████████████| 1313/1313 [00:06<00:00, 190.59it/s]\n",
      "Epoch 22/30: 100%|███████████████████████████████████| 1313/1313 [00:06<00:00, 191.29it/s]\n",
      "Epoch 23/30: 100%|███████████████████████████████████| 1313/1313 [00:06<00:00, 192.32it/s]\n",
      "Epoch 24/30: 100%|███████████████████████████████████| 1313/1313 [00:06<00:00, 189.38it/s]\n",
      "Epoch 25/30: 100%|███████████████████████████████████| 1313/1313 [00:06<00:00, 189.97it/s]\n",
      "Epoch 26/30: 100%|███████████████████████████████████| 1313/1313 [00:06<00:00, 190.93it/s]\n",
      "Epoch 27/30: 100%|███████████████████████████████████| 1313/1313 [00:06<00:00, 188.96it/s]\n",
      "Epoch 28/30: 100%|███████████████████████████████████| 1313/1313 [00:07<00:00, 186.47it/s]\n",
      "Epoch 29/30: 100%|███████████████████████████████████| 1313/1313 [00:06<00:00, 187.88it/s]\n",
      "Epoch 30/30: 100%|███████████████████████████████████| 1313/1313 [00:06<00:00, 190.38it/s]\n"
     ]
    },
    {
     "name": "stdout",
     "output_type": "stream",
     "text": [
      "### 5. Run ###\n"
     ]
    },
    {
     "name": "stderr",
     "output_type": "stream",
     "text": [
      "Epoch 1/30: 100%|████████████████████████████████████| 1313/1313 [00:06<00:00, 188.85it/s]\n",
      "Epoch 2/30: 100%|████████████████████████████████████| 1313/1313 [00:07<00:00, 182.19it/s]\n",
      "Epoch 3/30: 100%|████████████████████████████████████| 1313/1313 [00:07<00:00, 176.71it/s]\n",
      "Epoch 4/30: 100%|████████████████████████████████████| 1313/1313 [00:07<00:00, 165.55it/s]\n",
      "Epoch 5/30: 100%|████████████████████████████████████| 1313/1313 [00:07<00:00, 166.90it/s]\n",
      "Epoch 6/30: 100%|████████████████████████████████████| 1313/1313 [00:08<00:00, 162.60it/s]\n",
      "Epoch 7/30: 100%|████████████████████████████████████| 1313/1313 [00:08<00:00, 158.16it/s]\n",
      "Epoch 8/30: 100%|████████████████████████████████████| 1313/1313 [00:08<00:00, 160.41it/s]\n",
      "Epoch 9/30: 100%|████████████████████████████████████| 1313/1313 [00:08<00:00, 160.59it/s]\n",
      "Epoch 10/30: 100%|███████████████████████████████████| 1313/1313 [00:07<00:00, 181.40it/s]\n",
      "Epoch 11/30: 100%|███████████████████████████████████| 1313/1313 [00:08<00:00, 159.95it/s]\n",
      "Epoch 12/30: 100%|███████████████████████████████████| 1313/1313 [00:07<00:00, 165.32it/s]\n",
      "Epoch 13/30: 100%|███████████████████████████████████| 1313/1313 [00:07<00:00, 165.73it/s]\n",
      "Epoch 14/30: 100%|███████████████████████████████████| 1313/1313 [00:07<00:00, 164.37it/s]\n",
      "Epoch 15/30: 100%|███████████████████████████████████| 1313/1313 [00:07<00:00, 165.23it/s]\n",
      "Epoch 16/30: 100%|███████████████████████████████████| 1313/1313 [00:07<00:00, 165.03it/s]\n",
      "Epoch 17/30: 100%|███████████████████████████████████| 1313/1313 [00:08<00:00, 162.69it/s]\n",
      "Epoch 18/30: 100%|███████████████████████████████████| 1313/1313 [00:08<00:00, 161.24it/s]\n",
      "Epoch 19/30: 100%|███████████████████████████████████| 1313/1313 [00:08<00:00, 162.47it/s]\n",
      "Epoch 20/30: 100%|███████████████████████████████████| 1313/1313 [00:08<00:00, 163.29it/s]\n",
      "Epoch 21/30: 100%|███████████████████████████████████| 1313/1313 [00:08<00:00, 163.40it/s]\n",
      "Epoch 22/30: 100%|███████████████████████████████████| 1313/1313 [00:08<00:00, 159.82it/s]\n",
      "Epoch 23/30: 100%|███████████████████████████████████| 1313/1313 [00:07<00:00, 164.94it/s]\n",
      "Epoch 24/30: 100%|███████████████████████████████████| 1313/1313 [00:08<00:00, 161.36it/s]\n",
      "Epoch 25/30: 100%|███████████████████████████████████| 1313/1313 [00:08<00:00, 161.63it/s]\n",
      "Epoch 26/30: 100%|███████████████████████████████████| 1313/1313 [00:08<00:00, 163.85it/s]\n",
      "Epoch 27/30: 100%|███████████████████████████████████| 1313/1313 [00:08<00:00, 162.68it/s]\n",
      "Epoch 28/30: 100%|███████████████████████████████████| 1313/1313 [00:08<00:00, 162.88it/s]\n",
      "Epoch 29/30: 100%|███████████████████████████████████| 1313/1313 [00:07<00:00, 165.44it/s]\n",
      "Epoch 30/30: 100%|███████████████████████████████████| 1313/1313 [00:08<00:00, 163.43it/s]\n"
     ]
    },
    {
     "data": {
      "text/plain": "<Figure size 640x480 with 1 Axes>",
      "image/png": "[encoded data removed]"
     },
     "metadata": {},
     "output_type": "display_data"
    }
   ],
   "source": [
    "model = FNN(\n",
    "    [\n",
    "        {\"in_features\": 32 * 32 * 3, \"out_features\": 512},\n",
    "        {\"in_features\": 512, \"out_features\": 256},\n",
    "        {\"in_features\": 256, \"out_features\": 128},\n",
    "        {\"in_features\": 128, \"out_features\": 10},\n",
    "    ]\n",
    ")\n",
    "model.initialize(\"normal\")\n",
    "\n",
    "config = ExperimentConfig(\n",
    "    model_name=\"CIFAR-10_FNN_NORMAL\",\n",
    "    train_loader=train_loader,\n",
    "    val_loader=val_loader,\n",
    "    test_loader=test_loader,\n",
    "    epochs=30\n",
    ")\n",
    "\n",
    "run_experiments(model, config)"
   ],
   "metadata": {
    "collapsed": false,
    "ExecuteTime": {
     "end_time": "2024-02-22T16:42:55.394302722Z",
     "start_time": "2024-02-22T16:20:24.522297246Z"
    }
   }
  },
  {
   "cell_type": "code",
   "execution_count": 5,
   "outputs": [
    {
     "name": "stdout",
     "output_type": "stream",
     "text": [
      "### Running experiment CIFAR-10_FNN_NORMAL_LAST_LAYER ###\n",
      "### 1. Run ###\n"
     ]
    },
    {
     "name": "stderr",
     "output_type": "stream",
     "text": [
      "Epoch 1/30: 100%|████████████████████████████████████| 1313/1313 [00:07<00:00, 164.88it/s]\n",
      "Epoch 2/30: 100%|████████████████████████████████████| 1313/1313 [00:07<00:00, 166.06it/s]\n",
      "Epoch 3/30: 100%|████████████████████████████████████| 1313/1313 [00:07<00:00, 165.02it/s]\n",
      "Epoch 4/30: 100%|████████████████████████████████████| 1313/1313 [00:08<00:00, 161.56it/s]\n",
      "Epoch 5/30: 100%|████████████████████████████████████| 1313/1313 [00:08<00:00, 162.71it/s]\n",
      "Epoch 6/30: 100%|████████████████████████████████████| 1313/1313 [00:08<00:00, 160.68it/s]\n",
      "Epoch 7/30: 100%|████████████████████████████████████| 1313/1313 [00:08<00:00, 161.28it/s]\n",
      "Epoch 8/30: 100%|████████████████████████████████████| 1313/1313 [00:08<00:00, 158.72it/s]\n",
      "Epoch 9/30: 100%|████████████████████████████████████| 1313/1313 [00:08<00:00, 159.98it/s]\n",
      "Epoch 10/30: 100%|███████████████████████████████████| 1313/1313 [00:08<00:00, 161.17it/s]\n",
      "Epoch 11/30: 100%|███████████████████████████████████| 1313/1313 [00:07<00:00, 167.26it/s]\n",
      "Epoch 12/30: 100%|███████████████████████████████████| 1313/1313 [00:07<00:00, 167.99it/s]\n",
      "Epoch 13/30: 100%|███████████████████████████████████| 1313/1313 [00:08<00:00, 163.91it/s]\n",
      "Epoch 14/30: 100%|███████████████████████████████████| 1313/1313 [00:08<00:00, 161.96it/s]\n",
      "Epoch 15/30: 100%|███████████████████████████████████| 1313/1313 [00:08<00:00, 162.55it/s]\n",
      "Epoch 16/30: 100%|███████████████████████████████████| 1313/1313 [00:08<00:00, 158.72it/s]\n",
      "Epoch 17/30: 100%|███████████████████████████████████| 1313/1313 [00:08<00:00, 162.66it/s]\n",
      "Epoch 18/30: 100%|███████████████████████████████████| 1313/1313 [00:08<00:00, 160.66it/s]\n",
      "Epoch 19/30: 100%|███████████████████████████████████| 1313/1313 [00:08<00:00, 161.45it/s]\n",
      "Epoch 20/30: 100%|███████████████████████████████████| 1313/1313 [00:08<00:00, 158.04it/s]\n",
      "Epoch 21/30: 100%|███████████████████████████████████| 1313/1313 [00:08<00:00, 162.88it/s]\n",
      "Epoch 22/30: 100%|███████████████████████████████████| 1313/1313 [00:08<00:00, 163.10it/s]\n",
      "Epoch 23/30: 100%|███████████████████████████████████| 1313/1313 [00:08<00:00, 160.58it/s]\n",
      "Epoch 24/30: 100%|███████████████████████████████████| 1313/1313 [00:07<00:00, 164.62it/s]\n",
      "Epoch 25/30: 100%|███████████████████████████████████| 1313/1313 [00:07<00:00, 165.09it/s]\n",
      "Epoch 26/30: 100%|███████████████████████████████████| 1313/1313 [00:07<00:00, 164.55it/s]\n",
      "Epoch 27/30: 100%|███████████████████████████████████| 1313/1313 [00:08<00:00, 161.98it/s]\n",
      "Epoch 28/30: 100%|███████████████████████████████████| 1313/1313 [00:08<00:00, 161.19it/s]\n",
      "Epoch 29/30: 100%|███████████████████████████████████| 1313/1313 [00:08<00:00, 161.39it/s]\n",
      "Epoch 30/30: 100%|███████████████████████████████████| 1313/1313 [00:07<00:00, 164.76it/s]\n"
     ]
    },
    {
     "name": "stdout",
     "output_type": "stream",
     "text": [
      "### 2. Run ###\n"
     ]
    },
    {
     "name": "stderr",
     "output_type": "stream",
     "text": [
      "Epoch 1/30: 100%|████████████████████████████████████| 1313/1313 [00:07<00:00, 165.30it/s]\n",
      "Epoch 2/30: 100%|████████████████████████████████████| 1313/1313 [00:08<00:00, 162.52it/s]\n",
      "Epoch 3/30: 100%|████████████████████████████████████| 1313/1313 [00:07<00:00, 166.86it/s]\n",
      "Epoch 4/30: 100%|████████████████████████████████████| 1313/1313 [00:07<00:00, 170.07it/s]\n",
      "Epoch 5/30: 100%|████████████████████████████████████| 1313/1313 [00:07<00:00, 165.23it/s]\n",
      "Epoch 6/30: 100%|████████████████████████████████████| 1313/1313 [00:07<00:00, 168.32it/s]\n",
      "Epoch 7/30: 100%|████████████████████████████████████| 1313/1313 [00:07<00:00, 164.62it/s]\n",
      "Epoch 8/30: 100%|████████████████████████████████████| 1313/1313 [00:07<00:00, 168.41it/s]\n",
      "Epoch 9/30: 100%|████████████████████████████████████| 1313/1313 [00:08<00:00, 163.84it/s]\n",
      "Epoch 10/30: 100%|███████████████████████████████████| 1313/1313 [00:07<00:00, 165.66it/s]\n",
      "Epoch 11/30: 100%|███████████████████████████████████| 1313/1313 [00:07<00:00, 168.37it/s]\n",
      "Epoch 12/30: 100%|███████████████████████████████████| 1313/1313 [00:08<00:00, 162.90it/s]\n",
      "Epoch 13/30: 100%|███████████████████████████████████| 1313/1313 [00:08<00:00, 161.89it/s]\n",
      "Epoch 14/30: 100%|███████████████████████████████████| 1313/1313 [00:08<00:00, 163.32it/s]\n",
      "Epoch 15/30: 100%|███████████████████████████████████| 1313/1313 [00:08<00:00, 158.07it/s]\n",
      "Epoch 16/30: 100%|███████████████████████████████████| 1313/1313 [00:08<00:00, 162.87it/s]\n",
      "Epoch 17/30: 100%|███████████████████████████████████| 1313/1313 [00:08<00:00, 163.14it/s]\n",
      "Epoch 18/30: 100%|███████████████████████████████████| 1313/1313 [00:08<00:00, 161.71it/s]\n",
      "Epoch 19/30: 100%|███████████████████████████████████| 1313/1313 [00:08<00:00, 159.35it/s]\n",
      "Epoch 20/30: 100%|███████████████████████████████████| 1313/1313 [00:08<00:00, 159.94it/s]\n",
      "Epoch 21/30: 100%|███████████████████████████████████| 1313/1313 [00:08<00:00, 160.87it/s]\n",
      "Epoch 22/30: 100%|███████████████████████████████████| 1313/1313 [00:08<00:00, 160.64it/s]\n",
      "Epoch 23/30: 100%|███████████████████████████████████| 1313/1313 [00:08<00:00, 162.57it/s]\n",
      "Epoch 24/30: 100%|███████████████████████████████████| 1313/1313 [00:07<00:00, 165.29it/s]\n",
      "Epoch 25/30: 100%|███████████████████████████████████| 1313/1313 [00:07<00:00, 172.37it/s]\n",
      "Epoch 26/30: 100%|███████████████████████████████████| 1313/1313 [00:07<00:00, 167.10it/s]\n",
      "Epoch 27/30: 100%|███████████████████████████████████| 1313/1313 [00:08<00:00, 163.42it/s]\n",
      "Epoch 28/30: 100%|███████████████████████████████████| 1313/1313 [00:07<00:00, 166.65it/s]\n",
      "Epoch 29/30: 100%|███████████████████████████████████| 1313/1313 [00:07<00:00, 166.52it/s]\n",
      "Epoch 30/30: 100%|███████████████████████████████████| 1313/1313 [00:08<00:00, 162.19it/s]\n"
     ]
    },
    {
     "name": "stdout",
     "output_type": "stream",
     "text": [
      "### 3. Run ###\n"
     ]
    },
    {
     "name": "stderr",
     "output_type": "stream",
     "text": [
      "Epoch 1/30: 100%|████████████████████████████████████| 1313/1313 [00:08<00:00, 162.55it/s]\n",
      "Epoch 2/30: 100%|████████████████████████████████████| 1313/1313 [00:07<00:00, 166.66it/s]\n",
      "Epoch 3/30: 100%|████████████████████████████████████| 1313/1313 [00:08<00:00, 152.55it/s]\n",
      "Epoch 4/30: 100%|████████████████████████████████████| 1313/1313 [00:08<00:00, 158.09it/s]\n",
      "Epoch 5/30: 100%|████████████████████████████████████| 1313/1313 [00:08<00:00, 159.68it/s]\n",
      "Epoch 6/30: 100%|████████████████████████████████████| 1313/1313 [00:08<00:00, 161.27it/s]\n",
      "Epoch 7/30: 100%|████████████████████████████████████| 1313/1313 [00:07<00:00, 164.44it/s]\n",
      "Epoch 8/30: 100%|████████████████████████████████████| 1313/1313 [00:08<00:00, 162.27it/s]\n",
      "Epoch 9/30: 100%|████████████████████████████████████| 1313/1313 [00:07<00:00, 165.20it/s]\n",
      "Epoch 10/30: 100%|███████████████████████████████████| 1313/1313 [00:08<00:00, 163.20it/s]\n",
      "Epoch 11/30: 100%|███████████████████████████████████| 1313/1313 [00:07<00:00, 165.31it/s]\n",
      "Epoch 12/30: 100%|███████████████████████████████████| 1313/1313 [00:07<00:00, 170.57it/s]\n",
      "Epoch 13/30: 100%|███████████████████████████████████| 1313/1313 [00:08<00:00, 162.80it/s]\n",
      "Epoch 14/30: 100%|███████████████████████████████████| 1313/1313 [00:07<00:00, 168.17it/s]\n",
      "Epoch 15/30: 100%|███████████████████████████████████| 1313/1313 [00:07<00:00, 166.94it/s]\n",
      "Epoch 16/30: 100%|███████████████████████████████████| 1313/1313 [00:07<00:00, 176.55it/s]\n",
      "Epoch 17/30: 100%|███████████████████████████████████| 1313/1313 [00:07<00:00, 179.12it/s]\n",
      "Epoch 18/30: 100%|███████████████████████████████████| 1313/1313 [00:07<00:00, 179.65it/s]\n",
      "Epoch 19/30: 100%|███████████████████████████████████| 1313/1313 [00:07<00:00, 184.62it/s]\n",
      "Epoch 20/30: 100%|███████████████████████████████████| 1313/1313 [00:07<00:00, 182.96it/s]\n",
      "Epoch 21/30: 100%|███████████████████████████████████| 1313/1313 [00:07<00:00, 177.88it/s]\n",
      "Epoch 22/30: 100%|███████████████████████████████████| 1313/1313 [00:07<00:00, 184.01it/s]\n",
      "Epoch 23/30: 100%|███████████████████████████████████| 1313/1313 [00:07<00:00, 180.99it/s]\n",
      "Epoch 24/30: 100%|███████████████████████████████████| 1313/1313 [00:07<00:00, 177.33it/s]\n",
      "Epoch 25/30: 100%|███████████████████████████████████| 1313/1313 [00:07<00:00, 186.60it/s]\n",
      "Epoch 26/30: 100%|███████████████████████████████████| 1313/1313 [00:07<00:00, 184.11it/s]\n",
      "Epoch 27/30: 100%|███████████████████████████████████| 1313/1313 [00:07<00:00, 181.36it/s]\n",
      "Epoch 28/30: 100%|███████████████████████████████████| 1313/1313 [00:07<00:00, 178.20it/s]\n",
      "Epoch 29/30: 100%|███████████████████████████████████| 1313/1313 [00:07<00:00, 180.49it/s]\n",
      "Epoch 30/30: 100%|███████████████████████████████████| 1313/1313 [00:07<00:00, 186.37it/s]\n"
     ]
    },
    {
     "name": "stdout",
     "output_type": "stream",
     "text": [
      "### 4. Run ###\n"
     ]
    },
    {
     "name": "stderr",
     "output_type": "stream",
     "text": [
      "Epoch 1/30: 100%|████████████████████████████████████| 1313/1313 [00:07<00:00, 183.16it/s]\n",
      "Epoch 2/30: 100%|████████████████████████████████████| 1313/1313 [00:07<00:00, 183.50it/s]\n",
      "Epoch 3/30: 100%|████████████████████████████████████| 1313/1313 [00:07<00:00, 178.59it/s]\n",
      "Epoch 4/30: 100%|████████████████████████████████████| 1313/1313 [00:07<00:00, 181.61it/s]\n",
      "Epoch 5/30: 100%|████████████████████████████████████| 1313/1313 [00:07<00:00, 179.94it/s]\n",
      "Epoch 6/30: 100%|████████████████████████████████████| 1313/1313 [00:07<00:00, 182.28it/s]\n",
      "Epoch 7/30: 100%|████████████████████████████████████| 1313/1313 [00:07<00:00, 183.31it/s]\n",
      "Epoch 8/30: 100%|████████████████████████████████████| 1313/1313 [00:07<00:00, 180.05it/s]\n",
      "Epoch 9/30: 100%|████████████████████████████████████| 1313/1313 [00:07<00:00, 185.71it/s]\n",
      "Epoch 10/30: 100%|███████████████████████████████████| 1313/1313 [00:07<00:00, 183.72it/s]\n",
      "Epoch 11/30: 100%|███████████████████████████████████| 1313/1313 [00:07<00:00, 184.77it/s]\n",
      "Epoch 12/30: 100%|███████████████████████████████████| 1313/1313 [00:07<00:00, 170.42it/s]\n",
      "Epoch 13/30: 100%|███████████████████████████████████| 1313/1313 [00:07<00:00, 178.17it/s]\n",
      "Epoch 14/30: 100%|███████████████████████████████████| 1313/1313 [00:07<00:00, 182.07it/s]\n",
      "Epoch 15/30: 100%|███████████████████████████████████| 1313/1313 [00:07<00:00, 184.94it/s]\n",
      "Epoch 16/30: 100%|███████████████████████████████████| 1313/1313 [00:07<00:00, 182.39it/s]\n",
      "Epoch 17/30: 100%|███████████████████████████████████| 1313/1313 [00:06<00:00, 188.02it/s]\n",
      "Epoch 18/30: 100%|███████████████████████████████████| 1313/1313 [00:07<00:00, 185.79it/s]\n",
      "Epoch 19/30: 100%|███████████████████████████████████| 1313/1313 [00:06<00:00, 188.85it/s]\n",
      "Epoch 20/30: 100%|███████████████████████████████████| 1313/1313 [00:07<00:00, 182.02it/s]\n",
      "Epoch 21/30: 100%|███████████████████████████████████| 1313/1313 [00:07<00:00, 175.35it/s]\n",
      "Epoch 22/30: 100%|███████████████████████████████████| 1313/1313 [00:07<00:00, 179.69it/s]\n",
      "Epoch 23/30: 100%|███████████████████████████████████| 1313/1313 [00:07<00:00, 176.55it/s]\n",
      "Epoch 24/30: 100%|███████████████████████████████████| 1313/1313 [00:07<00:00, 179.01it/s]\n",
      "Epoch 25/30: 100%|███████████████████████████████████| 1313/1313 [00:07<00:00, 180.05it/s]\n",
      "Epoch 26/30: 100%|███████████████████████████████████| 1313/1313 [00:07<00:00, 182.18it/s]\n",
      "Epoch 27/30: 100%|███████████████████████████████████| 1313/1313 [00:07<00:00, 179.18it/s]\n",
      "Epoch 28/30: 100%|███████████████████████████████████| 1313/1313 [00:07<00:00, 180.78it/s]\n",
      "Epoch 29/30: 100%|███████████████████████████████████| 1313/1313 [00:07<00:00, 184.32it/s]\n",
      "Epoch 30/30: 100%|███████████████████████████████████| 1313/1313 [00:07<00:00, 180.62it/s]\n"
     ]
    },
    {
     "name": "stdout",
     "output_type": "stream",
     "text": [
      "### 5. Run ###\n"
     ]
    },
    {
     "name": "stderr",
     "output_type": "stream",
     "text": [
      "Epoch 1/30: 100%|████████████████████████████████████| 1313/1313 [00:07<00:00, 180.43it/s]\n",
      "Epoch 2/30: 100%|████████████████████████████████████| 1313/1313 [00:07<00:00, 170.07it/s]\n",
      "Epoch 3/30: 100%|████████████████████████████████████| 1313/1313 [00:07<00:00, 185.00it/s]\n",
      "Epoch 4/30: 100%|████████████████████████████████████| 1313/1313 [00:07<00:00, 183.11it/s]\n",
      "Epoch 5/30: 100%|████████████████████████████████████| 1313/1313 [00:07<00:00, 182.19it/s]\n",
      "Epoch 6/30: 100%|████████████████████████████████████| 1313/1313 [00:07<00:00, 177.02it/s]\n",
      "Epoch 7/30: 100%|████████████████████████████████████| 1313/1313 [00:07<00:00, 178.75it/s]\n",
      "Epoch 8/30: 100%|████████████████████████████████████| 1313/1313 [00:07<00:00, 182.79it/s]\n",
      "Epoch 9/30: 100%|████████████████████████████████████| 1313/1313 [00:07<00:00, 181.00it/s]\n",
      "Epoch 10/30: 100%|███████████████████████████████████| 1313/1313 [00:07<00:00, 180.85it/s]\n",
      "Epoch 11/30: 100%|███████████████████████████████████| 1313/1313 [00:07<00:00, 181.82it/s]\n",
      "Epoch 12/30: 100%|███████████████████████████████████| 1313/1313 [00:07<00:00, 180.67it/s]\n",
      "Epoch 13/30: 100%|███████████████████████████████████| 1313/1313 [00:07<00:00, 174.85it/s]\n",
      "Epoch 14/30: 100%|███████████████████████████████████| 1313/1313 [00:06<00:00, 187.80it/s]\n",
      "Epoch 15/30: 100%|███████████████████████████████████| 1313/1313 [00:07<00:00, 178.64it/s]\n",
      "Epoch 16/30: 100%|███████████████████████████████████| 1313/1313 [00:07<00:00, 183.50it/s]\n",
      "Epoch 17/30: 100%|███████████████████████████████████| 1313/1313 [00:07<00:00, 185.89it/s]\n",
      "Epoch 18/30: 100%|███████████████████████████████████| 1313/1313 [00:07<00:00, 185.52it/s]\n",
      "Epoch 19/30: 100%|███████████████████████████████████| 1313/1313 [00:07<00:00, 179.96it/s]\n",
      "Epoch 20/30: 100%|███████████████████████████████████| 1313/1313 [00:07<00:00, 181.53it/s]\n",
      "Epoch 21/30: 100%|███████████████████████████████████| 1313/1313 [00:07<00:00, 184.12it/s]\n",
      "Epoch 22/30: 100%|███████████████████████████████████| 1313/1313 [00:07<00:00, 179.91it/s]\n",
      "Epoch 23/30: 100%|███████████████████████████████████| 1313/1313 [00:07<00:00, 183.61it/s]\n",
      "Epoch 24/30: 100%|███████████████████████████████████| 1313/1313 [00:07<00:00, 177.51it/s]\n",
      "Epoch 25/30: 100%|███████████████████████████████████| 1313/1313 [00:06<00:00, 189.41it/s]\n",
      "Epoch 26/30: 100%|███████████████████████████████████| 1313/1313 [00:07<00:00, 184.91it/s]\n",
      "Epoch 27/30: 100%|███████████████████████████████████| 1313/1313 [00:07<00:00, 182.23it/s]\n",
      "Epoch 28/30: 100%|███████████████████████████████████| 1313/1313 [00:07<00:00, 182.54it/s]\n",
      "Epoch 29/30: 100%|███████████████████████████████████| 1313/1313 [00:07<00:00, 177.81it/s]\n",
      "Epoch 30/30: 100%|███████████████████████████████████| 1313/1313 [00:07<00:00, 183.02it/s]\n"
     ]
    },
    {
     "data": {
      "text/plain": "<Figure size 640x480 with 1 Axes>",
      "image/png": "[encoded data removed]"
     },
     "metadata": {},
     "output_type": "display_data"
    }
   ],
   "source": [
    "model = FNN(\n",
    "    [\n",
    "        {\"in_features\": 32 * 32 * 3, \"out_features\": 512},\n",
    "        {\"in_features\": 512, \"out_features\": 256},\n",
    "        {\"in_features\": 256, \"out_features\": 128},\n",
    "        {\"in_features\": 128, \"out_features\": 10},\n",
    "    ]\n",
    ")\n",
    "model.initialize(\"normal\", softmax_init=True)\n",
    "\n",
    "config = ExperimentConfig(\n",
    "    model_name=\"CIFAR-10_FNN_NORMAL_LAST_LAYER\",\n",
    "    train_loader=train_loader,\n",
    "    val_loader=val_loader,\n",
    "    test_loader=test_loader,\n",
    "    epochs=30\n",
    ")\n",
    "\n",
    "run_experiments(model, config)"
   ],
   "metadata": {
    "collapsed": false,
    "ExecuteTime": {
     "end_time": "2024-02-22T17:06:45.054618538Z",
     "start_time": "2024-02-22T16:42:55.376219188Z"
    }
   }
  },
  {
   "cell_type": "code",
   "execution_count": 6,
   "outputs": [
    {
     "name": "stdout",
     "output_type": "stream",
     "text": [
      "### Running experiment CIFAR-10_FNN_NORMAL_ELU_SCALE ###\n",
      "### 1. Run ###\n"
     ]
    },
    {
     "name": "stderr",
     "output_type": "stream",
     "text": [
      "Epoch 1/30: 100%|████████████████████████████████████| 1313/1313 [00:07<00:00, 178.61it/s]\n",
      "Epoch 2/30: 100%|████████████████████████████████████| 1313/1313 [00:07<00:00, 181.92it/s]\n",
      "Epoch 3/30: 100%|████████████████████████████████████| 1313/1313 [00:07<00:00, 184.37it/s]\n",
      "Epoch 4/30: 100%|████████████████████████████████████| 1313/1313 [00:07<00:00, 182.85it/s]\n",
      "Epoch 5/30: 100%|████████████████████████████████████| 1313/1313 [00:07<00:00, 175.84it/s]\n",
      "Epoch 6/30: 100%|████████████████████████████████████| 1313/1313 [00:07<00:00, 184.63it/s]\n",
      "Epoch 7/30: 100%|████████████████████████████████████| 1313/1313 [00:07<00:00, 177.72it/s]\n",
      "Epoch 8/30: 100%|████████████████████████████████████| 1313/1313 [00:07<00:00, 183.77it/s]\n",
      "Epoch 9/30: 100%|████████████████████████████████████| 1313/1313 [00:07<00:00, 178.87it/s]\n",
      "Epoch 10/30: 100%|███████████████████████████████████| 1313/1313 [00:07<00:00, 186.71it/s]\n",
      "Epoch 11/30: 100%|███████████████████████████████████| 1313/1313 [00:07<00:00, 176.31it/s]\n",
      "Epoch 12/30: 100%|███████████████████████████████████| 1313/1313 [00:07<00:00, 180.97it/s]\n",
      "Epoch 13/30: 100%|███████████████████████████████████| 1313/1313 [00:07<00:00, 176.95it/s]\n",
      "Epoch 14/30: 100%|███████████████████████████████████| 1313/1313 [00:07<00:00, 174.71it/s]\n",
      "Epoch 15/30: 100%|███████████████████████████████████| 1313/1313 [00:07<00:00, 184.46it/s]\n",
      "Epoch 16/30: 100%|███████████████████████████████████| 1313/1313 [00:07<00:00, 179.20it/s]\n",
      "Epoch 17/30: 100%|███████████████████████████████████| 1313/1313 [00:07<00:00, 174.09it/s]\n",
      "Epoch 18/30: 100%|███████████████████████████████████| 1313/1313 [00:07<00:00, 176.37it/s]\n",
      "Epoch 19/30: 100%|███████████████████████████████████| 1313/1313 [00:07<00:00, 183.45it/s]\n",
      "Epoch 20/30: 100%|███████████████████████████████████| 1313/1313 [00:07<00:00, 178.85it/s]\n",
      "Epoch 21/30: 100%|███████████████████████████████████| 1313/1313 [00:07<00:00, 180.30it/s]\n",
      "Epoch 22/30: 100%|███████████████████████████████████| 1313/1313 [00:07<00:00, 178.05it/s]\n",
      "Epoch 23/30: 100%|███████████████████████████████████| 1313/1313 [00:07<00:00, 174.05it/s]\n",
      "Epoch 24/30: 100%|███████████████████████████████████| 1313/1313 [00:07<00:00, 183.03it/s]\n",
      "Epoch 25/30: 100%|███████████████████████████████████| 1313/1313 [00:07<00:00, 183.73it/s]\n",
      "Epoch 26/30: 100%|███████████████████████████████████| 1313/1313 [00:07<00:00, 187.15it/s]\n",
      "Epoch 27/30: 100%|███████████████████████████████████| 1313/1313 [00:07<00:00, 177.54it/s]\n",
      "Epoch 28/30: 100%|███████████████████████████████████| 1313/1313 [00:07<00:00, 174.29it/s]\n",
      "Epoch 29/30: 100%|███████████████████████████████████| 1313/1313 [00:07<00:00, 183.72it/s]\n",
      "Epoch 30/30: 100%|███████████████████████████████████| 1313/1313 [00:07<00:00, 179.69it/s]\n"
     ]
    },
    {
     "name": "stdout",
     "output_type": "stream",
     "text": [
      "### 2. Run ###\n"
     ]
    },
    {
     "name": "stderr",
     "output_type": "stream",
     "text": [
      "Epoch 1/30: 100%|████████████████████████████████████| 1313/1313 [00:07<00:00, 186.85it/s]\n",
      "Epoch 2/30: 100%|████████████████████████████████████| 1313/1313 [00:07<00:00, 176.64it/s]\n",
      "Epoch 3/30: 100%|████████████████████████████████████| 1313/1313 [00:07<00:00, 182.47it/s]\n",
      "Epoch 4/30: 100%|████████████████████████████████████| 1313/1313 [00:07<00:00, 184.96it/s]\n",
      "Epoch 5/30: 100%|████████████████████████████████████| 1313/1313 [00:07<00:00, 184.04it/s]\n",
      "Epoch 6/30: 100%|████████████████████████████████████| 1313/1313 [00:07<00:00, 175.12it/s]\n",
      "Epoch 7/30: 100%|████████████████████████████████████| 1313/1313 [00:06<00:00, 189.47it/s]\n",
      "Epoch 8/30: 100%|████████████████████████████████████| 1313/1313 [00:07<00:00, 186.07it/s]\n",
      "Epoch 9/30: 100%|████████████████████████████████████| 1313/1313 [00:07<00:00, 178.00it/s]\n",
      "Epoch 10/30: 100%|███████████████████████████████████| 1313/1313 [00:07<00:00, 175.23it/s]\n",
      "Epoch 11/30: 100%|███████████████████████████████████| 1313/1313 [00:07<00:00, 174.81it/s]\n",
      "Epoch 12/30: 100%|███████████████████████████████████| 1313/1313 [00:07<00:00, 177.10it/s]\n",
      "Epoch 13/30: 100%|███████████████████████████████████| 1313/1313 [00:07<00:00, 183.94it/s]\n",
      "Epoch 14/30: 100%|███████████████████████████████████| 1313/1313 [00:07<00:00, 180.52it/s]\n",
      "Epoch 15/30: 100%|███████████████████████████████████| 1313/1313 [00:07<00:00, 177.37it/s]\n",
      "Epoch 16/30: 100%|███████████████████████████████████| 1313/1313 [00:07<00:00, 185.72it/s]\n",
      "Epoch 17/30: 100%|███████████████████████████████████| 1313/1313 [00:07<00:00, 183.38it/s]\n",
      "Epoch 18/30: 100%|███████████████████████████████████| 1313/1313 [00:07<00:00, 180.76it/s]\n",
      "Epoch 19/30: 100%|███████████████████████████████████| 1313/1313 [00:07<00:00, 177.76it/s]\n",
      "Epoch 20/30: 100%|███████████████████████████████████| 1313/1313 [00:07<00:00, 180.41it/s]\n",
      "Epoch 21/30: 100%|███████████████████████████████████| 1313/1313 [00:07<00:00, 183.49it/s]\n",
      "Epoch 22/30: 100%|███████████████████████████████████| 1313/1313 [00:07<00:00, 182.69it/s]\n",
      "Epoch 23/30: 100%|███████████████████████████████████| 1313/1313 [00:07<00:00, 178.99it/s]\n",
      "Epoch 24/30: 100%|███████████████████████████████████| 1313/1313 [00:07<00:00, 181.38it/s]\n",
      "Epoch 25/30: 100%|███████████████████████████████████| 1313/1313 [00:07<00:00, 183.02it/s]\n",
      "Epoch 26/30: 100%|███████████████████████████████████| 1313/1313 [00:07<00:00, 180.22it/s]\n",
      "Epoch 27/30: 100%|███████████████████████████████████| 1313/1313 [00:07<00:00, 183.56it/s]\n",
      "Epoch 28/30: 100%|███████████████████████████████████| 1313/1313 [00:07<00:00, 176.01it/s]\n",
      "Epoch 29/30: 100%|███████████████████████████████████| 1313/1313 [00:07<00:00, 180.83it/s]\n",
      "Epoch 30/30: 100%|███████████████████████████████████| 1313/1313 [00:07<00:00, 183.73it/s]\n"
     ]
    },
    {
     "name": "stdout",
     "output_type": "stream",
     "text": [
      "### 3. Run ###\n"
     ]
    },
    {
     "name": "stderr",
     "output_type": "stream",
     "text": [
      "Epoch 1/30: 100%|████████████████████████████████████| 1313/1313 [00:07<00:00, 184.94it/s]\n",
      "Epoch 2/30: 100%|████████████████████████████████████| 1313/1313 [00:07<00:00, 186.66it/s]\n",
      "Epoch 3/30: 100%|████████████████████████████████████| 1313/1313 [00:07<00:00, 176.14it/s]\n",
      "Epoch 4/30: 100%|████████████████████████████████████| 1313/1313 [00:07<00:00, 177.67it/s]\n",
      "Epoch 5/30: 100%|████████████████████████████████████| 1313/1313 [00:07<00:00, 180.41it/s]\n",
      "Epoch 6/30: 100%|████████████████████████████████████| 1313/1313 [00:07<00:00, 183.42it/s]\n",
      "Epoch 7/30: 100%|████████████████████████████████████| 1313/1313 [00:07<00:00, 176.81it/s]\n",
      "Epoch 8/30: 100%|████████████████████████████████████| 1313/1313 [00:07<00:00, 179.98it/s]\n",
      "Epoch 9/30: 100%|████████████████████████████████████| 1313/1313 [00:07<00:00, 182.41it/s]\n",
      "Epoch 10/30: 100%|███████████████████████████████████| 1313/1313 [00:07<00:00, 181.22it/s]\n",
      "Epoch 11/30: 100%|███████████████████████████████████| 1313/1313 [00:07<00:00, 184.86it/s]\n",
      "Epoch 12/30: 100%|███████████████████████████████████| 1313/1313 [00:07<00:00, 178.22it/s]\n",
      "Epoch 13/30: 100%|███████████████████████████████████| 1313/1313 [00:07<00:00, 183.48it/s]\n",
      "Epoch 14/30: 100%|███████████████████████████████████| 1313/1313 [00:07<00:00, 184.27it/s]\n",
      "Epoch 15/30: 100%|███████████████████████████████████| 1313/1313 [00:07<00:00, 181.92it/s]\n",
      "Epoch 16/30: 100%|███████████████████████████████████| 1313/1313 [00:07<00:00, 176.00it/s]\n",
      "Epoch 17/30: 100%|███████████████████████████████████| 1313/1313 [00:07<00:00, 185.18it/s]\n",
      "Epoch 18/30: 100%|███████████████████████████████████| 1313/1313 [00:07<00:00, 183.70it/s]\n",
      "Epoch 19/30: 100%|███████████████████████████████████| 1313/1313 [00:07<00:00, 182.61it/s]\n",
      "Epoch 20/30: 100%|███████████████████████████████████| 1313/1313 [00:07<00:00, 184.23it/s]\n",
      "Epoch 21/30: 100%|███████████████████████████████████| 1313/1313 [00:07<00:00, 182.74it/s]\n",
      "Epoch 22/30: 100%|███████████████████████████████████| 1313/1313 [00:06<00:00, 188.35it/s]\n",
      "Epoch 23/30: 100%|███████████████████████████████████| 1313/1313 [00:07<00:00, 180.36it/s]\n",
      "Epoch 24/30: 100%|███████████████████████████████████| 1313/1313 [00:07<00:00, 182.30it/s]\n",
      "Epoch 25/30: 100%|███████████████████████████████████| 1313/1313 [00:07<00:00, 182.05it/s]\n",
      "Epoch 26/30: 100%|███████████████████████████████████| 1313/1313 [00:07<00:00, 183.23it/s]\n",
      "Epoch 27/30: 100%|███████████████████████████████████| 1313/1313 [00:07<00:00, 173.37it/s]\n",
      "Epoch 28/30: 100%|███████████████████████████████████| 1313/1313 [00:07<00:00, 173.78it/s]\n",
      "Epoch 29/30: 100%|███████████████████████████████████| 1313/1313 [00:07<00:00, 177.43it/s]\n",
      "Epoch 30/30: 100%|███████████████████████████████████| 1313/1313 [00:07<00:00, 169.45it/s]\n"
     ]
    },
    {
     "name": "stdout",
     "output_type": "stream",
     "text": [
      "### 4. Run ###\n"
     ]
    },
    {
     "name": "stderr",
     "output_type": "stream",
     "text": [
      "Epoch 1/30: 100%|████████████████████████████████████| 1313/1313 [00:07<00:00, 178.35it/s]\n",
      "Epoch 2/30: 100%|████████████████████████████████████| 1313/1313 [00:07<00:00, 181.85it/s]\n",
      "Epoch 3/30: 100%|████████████████████████████████████| 1313/1313 [00:07<00:00, 181.10it/s]\n",
      "Epoch 4/30: 100%|████████████████████████████████████| 1313/1313 [00:07<00:00, 182.53it/s]\n",
      "Epoch 5/30: 100%|████████████████████████████████████| 1313/1313 [00:07<00:00, 182.16it/s]\n",
      "Epoch 6/30: 100%|████████████████████████████████████| 1313/1313 [00:07<00:00, 181.89it/s]\n",
      "Epoch 7/30: 100%|████████████████████████████████████| 1313/1313 [00:07<00:00, 180.69it/s]\n",
      "Epoch 8/30: 100%|████████████████████████████████████| 1313/1313 [00:07<00:00, 185.08it/s]\n",
      "Epoch 9/30: 100%|████████████████████████████████████| 1313/1313 [00:07<00:00, 181.84it/s]\n",
      "Epoch 10/30: 100%|███████████████████████████████████| 1313/1313 [00:07<00:00, 185.36it/s]\n",
      "Epoch 11/30: 100%|███████████████████████████████████| 1313/1313 [00:07<00:00, 179.99it/s]\n",
      "Epoch 12/30: 100%|███████████████████████████████████| 1313/1313 [00:07<00:00, 180.29it/s]\n",
      "Epoch 13/30: 100%|███████████████████████████████████| 1313/1313 [00:07<00:00, 183.08it/s]\n",
      "Epoch 14/30: 100%|███████████████████████████████████| 1313/1313 [00:07<00:00, 183.10it/s]\n",
      "Epoch 15/30: 100%|███████████████████████████████████| 1313/1313 [00:07<00:00, 183.37it/s]\n",
      "Epoch 16/30: 100%|███████████████████████████████████| 1313/1313 [00:07<00:00, 182.29it/s]\n",
      "Epoch 17/30: 100%|███████████████████████████████████| 1313/1313 [00:07<00:00, 180.79it/s]\n",
      "Epoch 18/30: 100%|███████████████████████████████████| 1313/1313 [00:07<00:00, 182.45it/s]\n",
      "Epoch 19/30: 100%|███████████████████████████████████| 1313/1313 [00:07<00:00, 186.45it/s]\n",
      "Epoch 20/30: 100%|███████████████████████████████████| 1313/1313 [00:06<00:00, 188.86it/s]\n",
      "Epoch 21/30: 100%|███████████████████████████████████| 1313/1313 [00:07<00:00, 179.58it/s]\n",
      "Epoch 22/30: 100%|███████████████████████████████████| 1313/1313 [00:07<00:00, 180.51it/s]\n",
      "Epoch 23/30: 100%|███████████████████████████████████| 1313/1313 [00:07<00:00, 184.02it/s]\n",
      "Epoch 24/30: 100%|███████████████████████████████████| 1313/1313 [00:07<00:00, 183.55it/s]\n",
      "Epoch 25/30: 100%|███████████████████████████████████| 1313/1313 [00:07<00:00, 186.63it/s]\n",
      "Epoch 26/30: 100%|███████████████████████████████████| 1313/1313 [00:07<00:00, 179.65it/s]\n",
      "Epoch 27/30: 100%|███████████████████████████████████| 1313/1313 [00:07<00:00, 181.34it/s]\n",
      "Epoch 28/30: 100%|███████████████████████████████████| 1313/1313 [00:07<00:00, 179.86it/s]\n",
      "Epoch 29/30: 100%|███████████████████████████████████| 1313/1313 [00:07<00:00, 185.27it/s]\n",
      "Epoch 30/30: 100%|███████████████████████████████████| 1313/1313 [00:07<00:00, 175.87it/s]\n"
     ]
    },
    {
     "name": "stdout",
     "output_type": "stream",
     "text": [
      "### 5. Run ###\n"
     ]
    },
    {
     "name": "stderr",
     "output_type": "stream",
     "text": [
      "Epoch 1/30: 100%|████████████████████████████████████| 1313/1313 [00:07<00:00, 176.12it/s]\n",
      "Epoch 2/30: 100%|████████████████████████████████████| 1313/1313 [00:07<00:00, 180.31it/s]\n",
      "Epoch 3/30: 100%|████████████████████████████████████| 1313/1313 [00:07<00:00, 182.65it/s]\n",
      "Epoch 4/30: 100%|████████████████████████████████████| 1313/1313 [00:07<00:00, 181.48it/s]\n",
      "Epoch 5/30: 100%|████████████████████████████████████| 1313/1313 [00:07<00:00, 182.87it/s]\n",
      "Epoch 6/30: 100%|████████████████████████████████████| 1313/1313 [00:07<00:00, 182.78it/s]\n",
      "Epoch 7/30: 100%|████████████████████████████████████| 1313/1313 [00:07<00:00, 180.20it/s]\n",
      "Epoch 8/30: 100%|████████████████████████████████████| 1313/1313 [00:07<00:00, 180.45it/s]\n",
      "Epoch 9/30: 100%|████████████████████████████████████| 1313/1313 [00:07<00:00, 183.22it/s]\n",
      "Epoch 10/30: 100%|███████████████████████████████████| 1313/1313 [00:08<00:00, 149.90it/s]\n",
      "Epoch 11/30: 100%|███████████████████████████████████| 1313/1313 [00:07<00:00, 179.70it/s]\n",
      "Epoch 12/30: 100%|███████████████████████████████████| 1313/1313 [00:07<00:00, 181.73it/s]\n",
      "Epoch 13/30: 100%|███████████████████████████████████| 1313/1313 [00:07<00:00, 177.65it/s]\n",
      "Epoch 14/30: 100%|███████████████████████████████████| 1313/1313 [00:07<00:00, 179.67it/s]\n",
      "Epoch 15/30: 100%|███████████████████████████████████| 1313/1313 [00:07<00:00, 178.31it/s]\n",
      "Epoch 16/30: 100%|███████████████████████████████████| 1313/1313 [00:07<00:00, 182.47it/s]\n",
      "Epoch 17/30: 100%|███████████████████████████████████| 1313/1313 [00:07<00:00, 181.89it/s]\n",
      "Epoch 18/30: 100%|███████████████████████████████████| 1313/1313 [00:07<00:00, 179.78it/s]\n",
      "Epoch 19/30: 100%|███████████████████████████████████| 1313/1313 [00:07<00:00, 176.58it/s]\n",
      "Epoch 20/30: 100%|███████████████████████████████████| 1313/1313 [00:07<00:00, 183.29it/s]\n",
      "Epoch 21/30: 100%|███████████████████████████████████| 1313/1313 [00:07<00:00, 178.36it/s]\n",
      "Epoch 22/30: 100%|███████████████████████████████████| 1313/1313 [00:06<00:00, 187.81it/s]\n",
      "Epoch 23/30: 100%|███████████████████████████████████| 1313/1313 [00:07<00:00, 180.18it/s]\n",
      "Epoch 24/30: 100%|███████████████████████████████████| 1313/1313 [00:07<00:00, 185.39it/s]\n",
      "Epoch 25/30: 100%|███████████████████████████████████| 1313/1313 [00:06<00:00, 192.38it/s]\n",
      "Epoch 26/30: 100%|███████████████████████████████████| 1313/1313 [00:07<00:00, 186.49it/s]\n",
      "Epoch 27/30: 100%|███████████████████████████████████| 1313/1313 [00:07<00:00, 185.07it/s]\n",
      "Epoch 28/30: 100%|███████████████████████████████████| 1313/1313 [00:07<00:00, 176.67it/s]\n",
      "Epoch 29/30: 100%|███████████████████████████████████| 1313/1313 [00:07<00:00, 181.28it/s]\n",
      "Epoch 30/30: 100%|███████████████████████████████████| 1313/1313 [00:07<00:00, 165.48it/s]\n"
     ]
    },
    {
     "data": {
      "text/plain": "<Figure size 640x480 with 1 Axes>",
      "image/png": "[encoded data removed]"
     },
     "metadata": {},
     "output_type": "display_data"
    }
   ],
   "source": [
    "model = FNN(\n",
    "    [\n",
    "        {\"in_features\": 32 * 32 * 3, \"out_features\": 512},\n",
    "        {\"in_features\": 512, \"out_features\": 256},\n",
    "        {\"in_features\": 256, \"out_features\": 128},\n",
    "        {\"in_features\": 128, \"out_features\": 10},\n",
    "    ]\n",
    ")\n",
    "model.initialize(\"normal\", ELU_SCALE_NORMAL)\n",
    "\n",
    "config = ExperimentConfig(\n",
    "    model_name=\"CIFAR-10_FNN_NORMAL_ELU_SCALE\",\n",
    "    train_loader=train_loader,\n",
    "    val_loader=val_loader,\n",
    "    test_loader=test_loader,\n",
    "    epochs=30\n",
    ")\n",
    "\n",
    "run_experiments(model, config)"
   ],
   "metadata": {
    "collapsed": false,
    "ExecuteTime": {
     "end_time": "2024-02-22T17:29:25.233224789Z",
     "start_time": "2024-02-22T17:06:45.043329684Z"
    }
   }
  },
  {
   "cell_type": "code",
   "execution_count": 7,
   "outputs": [
    {
     "name": "stdout",
     "output_type": "stream",
     "text": [
      "### Running experiment CIFAR-10_FNN_NORMAL_IN_FEATURES ###\n",
      "### 1. Run ###\n"
     ]
    },
    {
     "name": "stderr",
     "output_type": "stream",
     "text": [
      "Epoch 1/30: 100%|████████████████████████████████████| 1313/1313 [00:07<00:00, 179.95it/s]\n",
      "Epoch 2/30: 100%|████████████████████████████████████| 1313/1313 [00:07<00:00, 180.76it/s]\n",
      "Epoch 3/30: 100%|████████████████████████████████████| 1313/1313 [00:07<00:00, 180.40it/s]\n",
      "Epoch 4/30: 100%|████████████████████████████████████| 1313/1313 [00:07<00:00, 173.04it/s]\n",
      "Epoch 5/30: 100%|████████████████████████████████████| 1313/1313 [00:07<00:00, 182.81it/s]\n",
      "Epoch 6/30: 100%|████████████████████████████████████| 1313/1313 [00:07<00:00, 182.58it/s]\n",
      "Epoch 7/30: 100%|████████████████████████████████████| 1313/1313 [00:07<00:00, 184.51it/s]\n",
      "Epoch 8/30: 100%|████████████████████████████████████| 1313/1313 [00:07<00:00, 181.10it/s]\n",
      "Epoch 9/30: 100%|████████████████████████████████████| 1313/1313 [00:07<00:00, 181.77it/s]\n",
      "Epoch 10/30: 100%|███████████████████████████████████| 1313/1313 [00:07<00:00, 179.25it/s]\n",
      "Epoch 11/30: 100%|███████████████████████████████████| 1313/1313 [00:07<00:00, 182.40it/s]\n",
      "Epoch 12/30: 100%|███████████████████████████████████| 1313/1313 [00:07<00:00, 179.82it/s]\n",
      "Epoch 13/30: 100%|███████████████████████████████████| 1313/1313 [00:07<00:00, 183.90it/s]\n",
      "Epoch 14/30: 100%|███████████████████████████████████| 1313/1313 [00:07<00:00, 185.70it/s]\n",
      "Epoch 15/30: 100%|███████████████████████████████████| 1313/1313 [00:07<00:00, 181.40it/s]\n",
      "Epoch 16/30: 100%|███████████████████████████████████| 1313/1313 [00:07<00:00, 184.74it/s]\n",
      "Epoch 17/30: 100%|███████████████████████████████████| 1313/1313 [00:07<00:00, 179.49it/s]\n",
      "Epoch 18/30: 100%|███████████████████████████████████| 1313/1313 [00:07<00:00, 186.30it/s]\n",
      "Epoch 19/30: 100%|███████████████████████████████████| 1313/1313 [00:07<00:00, 184.00it/s]\n",
      "Epoch 20/30: 100%|███████████████████████████████████| 1313/1313 [00:07<00:00, 185.34it/s]\n",
      "Epoch 21/30: 100%|███████████████████████████████████| 1313/1313 [00:07<00:00, 184.38it/s]\n",
      "Epoch 22/30: 100%|███████████████████████████████████| 1313/1313 [00:07<00:00, 178.55it/s]\n",
      "Epoch 23/30: 100%|███████████████████████████████████| 1313/1313 [00:07<00:00, 180.17it/s]\n",
      "Epoch 24/30: 100%|███████████████████████████████████| 1313/1313 [00:07<00:00, 182.03it/s]\n",
      "Epoch 25/30: 100%|███████████████████████████████████| 1313/1313 [00:07<00:00, 186.59it/s]\n",
      "Epoch 26/30: 100%|███████████████████████████████████| 1313/1313 [00:07<00:00, 179.77it/s]\n",
      "Epoch 27/30: 100%|███████████████████████████████████| 1313/1313 [00:07<00:00, 180.77it/s]\n",
      "Epoch 28/30: 100%|███████████████████████████████████| 1313/1313 [00:07<00:00, 175.65it/s]\n",
      "Epoch 29/30: 100%|███████████████████████████████████| 1313/1313 [00:07<00:00, 185.21it/s]\n",
      "Epoch 30/30: 100%|███████████████████████████████████| 1313/1313 [00:07<00:00, 175.56it/s]\n"
     ]
    },
    {
     "name": "stdout",
     "output_type": "stream",
     "text": [
      "### 2. Run ###\n"
     ]
    },
    {
     "name": "stderr",
     "output_type": "stream",
     "text": [
      "Epoch 1/30: 100%|████████████████████████████████████| 1313/1313 [00:07<00:00, 183.99it/s]\n",
      "Epoch 2/30: 100%|████████████████████████████████████| 1313/1313 [00:07<00:00, 180.40it/s]\n",
      "Epoch 3/30: 100%|████████████████████████████████████| 1313/1313 [00:07<00:00, 181.21it/s]\n",
      "Epoch 4/30: 100%|████████████████████████████████████| 1313/1313 [00:07<00:00, 184.88it/s]\n",
      "Epoch 5/30: 100%|████████████████████████████████████| 1313/1313 [00:07<00:00, 184.86it/s]\n",
      "Epoch 6/30: 100%|████████████████████████████████████| 1313/1313 [00:07<00:00, 184.73it/s]\n",
      "Epoch 7/30: 100%|████████████████████████████████████| 1313/1313 [00:07<00:00, 181.51it/s]\n",
      "Epoch 8/30: 100%|████████████████████████████████████| 1313/1313 [00:07<00:00, 186.51it/s]\n",
      "Epoch 9/30: 100%|████████████████████████████████████| 1313/1313 [00:07<00:00, 186.04it/s]\n",
      "Epoch 10/30: 100%|███████████████████████████████████| 1313/1313 [00:07<00:00, 182.91it/s]\n",
      "Epoch 11/30: 100%|███████████████████████████████████| 1313/1313 [00:07<00:00, 180.38it/s]\n",
      "Epoch 12/30: 100%|███████████████████████████████████| 1313/1313 [00:07<00:00, 170.89it/s]\n",
      "Epoch 13/30: 100%|███████████████████████████████████| 1313/1313 [00:07<00:00, 182.53it/s]\n",
      "Epoch 14/30: 100%|███████████████████████████████████| 1313/1313 [00:07<00:00, 174.72it/s]\n",
      "Epoch 15/30: 100%|███████████████████████████████████| 1313/1313 [00:07<00:00, 183.04it/s]\n",
      "Epoch 16/30: 100%|███████████████████████████████████| 1313/1313 [00:07<00:00, 177.30it/s]\n",
      "Epoch 17/30: 100%|███████████████████████████████████| 1313/1313 [00:07<00:00, 177.00it/s]\n",
      "Epoch 18/30: 100%|███████████████████████████████████| 1313/1313 [00:07<00:00, 180.37it/s]\n",
      "Epoch 19/30: 100%|███████████████████████████████████| 1313/1313 [00:07<00:00, 183.97it/s]\n",
      "Epoch 20/30: 100%|███████████████████████████████████| 1313/1313 [00:07<00:00, 184.49it/s]\n",
      "Epoch 21/30: 100%|███████████████████████████████████| 1313/1313 [00:07<00:00, 183.00it/s]\n",
      "Epoch 22/30: 100%|███████████████████████████████████| 1313/1313 [00:07<00:00, 178.32it/s]\n",
      "Epoch 23/30: 100%|███████████████████████████████████| 1313/1313 [00:07<00:00, 186.16it/s]\n",
      "Epoch 24/30: 100%|███████████████████████████████████| 1313/1313 [00:07<00:00, 185.24it/s]\n",
      "Epoch 25/30: 100%|███████████████████████████████████| 1313/1313 [00:07<00:00, 182.42it/s]\n",
      "Epoch 26/30: 100%|███████████████████████████████████| 1313/1313 [00:07<00:00, 164.24it/s]\n",
      "Epoch 27/30: 100%|███████████████████████████████████| 1313/1313 [00:07<00:00, 181.32it/s]\n",
      "Epoch 28/30: 100%|███████████████████████████████████| 1313/1313 [00:07<00:00, 175.78it/s]\n",
      "Epoch 29/30: 100%|███████████████████████████████████| 1313/1313 [00:07<00:00, 181.71it/s]\n",
      "Epoch 30/30: 100%|███████████████████████████████████| 1313/1313 [00:07<00:00, 186.04it/s]\n"
     ]
    },
    {
     "name": "stdout",
     "output_type": "stream",
     "text": [
      "### 3. Run ###\n"
     ]
    },
    {
     "name": "stderr",
     "output_type": "stream",
     "text": [
      "Epoch 1/30: 100%|████████████████████████████████████| 1313/1313 [00:07<00:00, 186.10it/s]\n",
      "Epoch 2/30: 100%|████████████████████████████████████| 1313/1313 [00:07<00:00, 179.09it/s]\n",
      "Epoch 3/30: 100%|████████████████████████████████████| 1313/1313 [00:07<00:00, 184.78it/s]\n",
      "Epoch 4/30: 100%|████████████████████████████████████| 1313/1313 [00:07<00:00, 179.66it/s]\n",
      "Epoch 5/30: 100%|████████████████████████████████████| 1313/1313 [00:07<00:00, 184.99it/s]\n",
      "Epoch 6/30: 100%|████████████████████████████████████| 1313/1313 [00:07<00:00, 183.57it/s]\n",
      "Epoch 7/30: 100%|████████████████████████████████████| 1313/1313 [00:07<00:00, 185.31it/s]\n",
      "Epoch 8/30: 100%|████████████████████████████████████| 1313/1313 [00:07<00:00, 187.56it/s]\n",
      "Epoch 9/30: 100%|████████████████████████████████████| 1313/1313 [00:07<00:00, 184.97it/s]\n",
      "Epoch 10/30: 100%|███████████████████████████████████| 1313/1313 [00:07<00:00, 185.04it/s]\n",
      "Epoch 11/30: 100%|███████████████████████████████████| 1313/1313 [00:07<00:00, 176.05it/s]\n",
      "Epoch 12/30: 100%|███████████████████████████████████| 1313/1313 [00:07<00:00, 185.64it/s]\n",
      "Epoch 13/30: 100%|███████████████████████████████████| 1313/1313 [00:07<00:00, 177.83it/s]\n",
      "Epoch 14/30: 100%|███████████████████████████████████| 1313/1313 [00:07<00:00, 184.75it/s]\n",
      "Epoch 15/30: 100%|███████████████████████████████████| 1313/1313 [00:07<00:00, 184.75it/s]\n",
      "Epoch 16/30: 100%|███████████████████████████████████| 1313/1313 [00:06<00:00, 190.80it/s]\n",
      "Epoch 17/30: 100%|███████████████████████████████████| 1313/1313 [00:07<00:00, 185.39it/s]\n",
      "Epoch 18/30: 100%|███████████████████████████████████| 1313/1313 [00:07<00:00, 178.82it/s]\n",
      "Epoch 19/30: 100%|███████████████████████████████████| 1313/1313 [00:07<00:00, 181.53it/s]\n",
      "Epoch 20/30: 100%|███████████████████████████████████| 1313/1313 [00:07<00:00, 183.81it/s]\n",
      "Epoch 21/30: 100%|███████████████████████████████████| 1313/1313 [00:06<00:00, 191.71it/s]\n",
      "Epoch 22/30: 100%|███████████████████████████████████| 1313/1313 [00:06<00:00, 190.39it/s]\n",
      "Epoch 23/30: 100%|███████████████████████████████████| 1313/1313 [00:07<00:00, 184.24it/s]\n",
      "Epoch 24/30: 100%|███████████████████████████████████| 1313/1313 [00:07<00:00, 182.17it/s]\n",
      "Epoch 25/30: 100%|███████████████████████████████████| 1313/1313 [00:07<00:00, 181.79it/s]\n",
      "Epoch 26/30: 100%|███████████████████████████████████| 1313/1313 [00:06<00:00, 189.75it/s]\n",
      "Epoch 27/30: 100%|███████████████████████████████████| 1313/1313 [00:07<00:00, 181.70it/s]\n",
      "Epoch 28/30: 100%|███████████████████████████████████| 1313/1313 [00:07<00:00, 187.21it/s]\n",
      "Epoch 29/30: 100%|███████████████████████████████████| 1313/1313 [00:07<00:00, 181.24it/s]\n",
      "Epoch 30/30: 100%|███████████████████████████████████| 1313/1313 [00:07<00:00, 183.53it/s]\n"
     ]
    },
    {
     "name": "stdout",
     "output_type": "stream",
     "text": [
      "### 4. Run ###\n"
     ]
    },
    {
     "name": "stderr",
     "output_type": "stream",
     "text": [
      "Epoch 1/30: 100%|████████████████████████████████████| 1313/1313 [00:07<00:00, 182.37it/s]\n",
      "Epoch 2/30: 100%|████████████████████████████████████| 1313/1313 [00:07<00:00, 181.16it/s]\n",
      "Epoch 3/30: 100%|████████████████████████████████████| 1313/1313 [00:07<00:00, 180.76it/s]\n",
      "Epoch 4/30: 100%|████████████████████████████████████| 1313/1313 [00:07<00:00, 179.75it/s]\n",
      "Epoch 5/30: 100%|████████████████████████████████████| 1313/1313 [00:07<00:00, 182.96it/s]\n",
      "Epoch 6/30: 100%|████████████████████████████████████| 1313/1313 [00:07<00:00, 183.20it/s]\n",
      "Epoch 7/30: 100%|████████████████████████████████████| 1313/1313 [00:07<00:00, 178.74it/s]\n",
      "Epoch 8/30: 100%|████████████████████████████████████| 1313/1313 [00:07<00:00, 180.45it/s]\n",
      "Epoch 9/30: 100%|████████████████████████████████████| 1313/1313 [00:07<00:00, 183.41it/s]\n",
      "Epoch 10/30: 100%|███████████████████████████████████| 1313/1313 [00:07<00:00, 184.14it/s]\n",
      "Epoch 11/30: 100%|███████████████████████████████████| 1313/1313 [00:07<00:00, 185.29it/s]\n",
      "Epoch 12/30: 100%|███████████████████████████████████| 1313/1313 [00:06<00:00, 192.82it/s]\n",
      "Epoch 13/30: 100%|███████████████████████████████████| 1313/1313 [00:07<00:00, 182.24it/s]\n",
      "Epoch 14/30: 100%|███████████████████████████████████| 1313/1313 [00:06<00:00, 189.95it/s]\n",
      "Epoch 15/30: 100%|███████████████████████████████████| 1313/1313 [00:07<00:00, 177.97it/s]\n",
      "Epoch 16/30: 100%|███████████████████████████████████| 1313/1313 [00:07<00:00, 182.38it/s]\n",
      "Epoch 17/30: 100%|███████████████████████████████████| 1313/1313 [00:07<00:00, 180.45it/s]\n",
      "Epoch 18/30: 100%|███████████████████████████████████| 1313/1313 [00:07<00:00, 181.02it/s]\n",
      "Epoch 19/30: 100%|███████████████████████████████████| 1313/1313 [00:07<00:00, 180.89it/s]\n",
      "Epoch 20/30: 100%|███████████████████████████████████| 1313/1313 [00:07<00:00, 185.38it/s]\n",
      "Epoch 21/30: 100%|███████████████████████████████████| 1313/1313 [00:07<00:00, 179.55it/s]\n",
      "Epoch 22/30: 100%|███████████████████████████████████| 1313/1313 [00:07<00:00, 181.42it/s]\n",
      "Epoch 23/30: 100%|███████████████████████████████████| 1313/1313 [00:06<00:00, 190.42it/s]\n",
      "Epoch 24/30: 100%|███████████████████████████████████| 1313/1313 [00:07<00:00, 179.08it/s]\n",
      "Epoch 25/30: 100%|███████████████████████████████████| 1313/1313 [00:07<00:00, 180.26it/s]\n",
      "Epoch 26/30: 100%|███████████████████████████████████| 1313/1313 [00:07<00:00, 179.72it/s]\n",
      "Epoch 27/30: 100%|███████████████████████████████████| 1313/1313 [00:07<00:00, 181.57it/s]\n",
      "Epoch 28/30: 100%|███████████████████████████████████| 1313/1313 [00:07<00:00, 183.65it/s]\n",
      "Epoch 29/30: 100%|███████████████████████████████████| 1313/1313 [00:07<00:00, 181.16it/s]\n",
      "Epoch 30/30: 100%|███████████████████████████████████| 1313/1313 [00:07<00:00, 180.86it/s]\n"
     ]
    },
    {
     "name": "stdout",
     "output_type": "stream",
     "text": [
      "### 5. Run ###\n"
     ]
    },
    {
     "name": "stderr",
     "output_type": "stream",
     "text": [
      "Epoch 1/30: 100%|████████████████████████████████████| 1313/1313 [00:07<00:00, 182.17it/s]\n",
      "Epoch 2/30: 100%|████████████████████████████████████| 1313/1313 [00:07<00:00, 176.54it/s]\n",
      "Epoch 3/30: 100%|████████████████████████████████████| 1313/1313 [00:07<00:00, 179.44it/s]\n",
      "Epoch 4/30: 100%|████████████████████████████████████| 1313/1313 [00:07<00:00, 179.74it/s]\n",
      "Epoch 5/30: 100%|████████████████████████████████████| 1313/1313 [00:07<00:00, 177.98it/s]\n",
      "Epoch 6/30: 100%|████████████████████████████████████| 1313/1313 [00:07<00:00, 180.71it/s]\n",
      "Epoch 7/30: 100%|████████████████████████████████████| 1313/1313 [00:07<00:00, 174.78it/s]\n",
      "Epoch 8/30: 100%|████████████████████████████████████| 1313/1313 [00:07<00:00, 174.49it/s]\n",
      "Epoch 9/30: 100%|████████████████████████████████████| 1313/1313 [00:07<00:00, 183.89it/s]\n",
      "Epoch 10/30: 100%|███████████████████████████████████| 1313/1313 [00:06<00:00, 188.09it/s]\n",
      "Epoch 11/30: 100%|███████████████████████████████████| 1313/1313 [00:07<00:00, 187.23it/s]\n",
      "Epoch 12/30: 100%|███████████████████████████████████| 1313/1313 [00:07<00:00, 176.78it/s]\n",
      "Epoch 13/30: 100%|███████████████████████████████████| 1313/1313 [00:07<00:00, 169.49it/s]\n",
      "Epoch 14/30: 100%|███████████████████████████████████| 1313/1313 [00:07<00:00, 175.02it/s]\n",
      "Epoch 15/30: 100%|███████████████████████████████████| 1313/1313 [00:07<00:00, 175.37it/s]\n",
      "Epoch 16/30: 100%|███████████████████████████████████| 1313/1313 [00:07<00:00, 174.63it/s]\n",
      "Epoch 17/30: 100%|███████████████████████████████████| 1313/1313 [00:07<00:00, 179.51it/s]\n",
      "Epoch 18/30: 100%|███████████████████████████████████| 1313/1313 [00:07<00:00, 174.68it/s]\n",
      "Epoch 19/30: 100%|███████████████████████████████████| 1313/1313 [00:07<00:00, 177.64it/s]\n",
      "Epoch 20/30: 100%|███████████████████████████████████| 1313/1313 [00:07<00:00, 180.47it/s]\n",
      "Epoch 21/30: 100%|███████████████████████████████████| 1313/1313 [00:07<00:00, 182.42it/s]\n",
      "Epoch 22/30: 100%|███████████████████████████████████| 1313/1313 [00:07<00:00, 179.57it/s]\n",
      "Epoch 23/30: 100%|███████████████████████████████████| 1313/1313 [00:07<00:00, 172.04it/s]\n",
      "Epoch 24/30: 100%|███████████████████████████████████| 1313/1313 [00:07<00:00, 186.71it/s]\n",
      "Epoch 25/30: 100%|███████████████████████████████████| 1313/1313 [00:07<00:00, 180.60it/s]\n",
      "Epoch 26/30: 100%|███████████████████████████████████| 1313/1313 [00:07<00:00, 175.16it/s]\n",
      "Epoch 27/30: 100%|███████████████████████████████████| 1313/1313 [00:07<00:00, 177.78it/s]\n",
      "Epoch 28/30: 100%|███████████████████████████████████| 1313/1313 [00:07<00:00, 173.11it/s]\n",
      "Epoch 29/30: 100%|███████████████████████████████████| 1313/1313 [00:07<00:00, 166.92it/s]\n",
      "Epoch 30/30: 100%|███████████████████████████████████| 1313/1313 [00:07<00:00, 178.06it/s]\n"
     ]
    },
    {
     "data": {
      "text/plain": "<Figure size 640x480 with 1 Axes>",
      "image/png": "[encoded data removed]"
     },
     "metadata": {},
     "output_type": "display_data"
    }
   ],
   "source": [
    "model = FNN(\n",
    "    [\n",
    "        {\"in_features\": 32 * 32 * 3, \"out_features\": 512},\n",
    "        {\"in_features\": 512, \"out_features\": 256},\n",
    "        {\"in_features\": 256, \"out_features\": 128},\n",
    "        {\"in_features\": 128, \"out_features\": 10},\n",
    "    ]\n",
    ")\n",
    "model.initialize(\"normal_in_features\")\n",
    "\n",
    "config = ExperimentConfig(\n",
    "    model_name=\"CIFAR-10_FNN_NORMAL_IN_FEATURES\",\n",
    "    train_loader=train_loader,\n",
    "    val_loader=val_loader,\n",
    "    test_loader=test_loader,\n",
    "    epochs=30\n",
    ")\n",
    "\n",
    "run_experiments(model, config)"
   ],
   "metadata": {
    "collapsed": false,
    "ExecuteTime": {
     "end_time": "2024-02-22T17:52:02.771169326Z",
     "start_time": "2024-02-22T17:29:25.219386989Z"
    }
   }
  },
  {
   "cell_type": "code",
   "execution_count": 8,
   "outputs": [
    {
     "name": "stdout",
     "output_type": "stream",
     "text": [
      "### Running experiment CIFAR-10_FNN_NORMAL_IN_FEATURES_LAST_LAYER ###\n",
      "### 1. Run ###\n"
     ]
    },
    {
     "name": "stderr",
     "output_type": "stream",
     "text": [
      "Epoch 1/30: 100%|████████████████████████████████████| 1313/1313 [00:07<00:00, 173.70it/s]\n",
      "Epoch 2/30: 100%|████████████████████████████████████| 1313/1313 [00:07<00:00, 185.24it/s]\n",
      "Epoch 3/30: 100%|████████████████████████████████████| 1313/1313 [00:07<00:00, 182.00it/s]\n",
      "Epoch 4/30: 100%|████████████████████████████████████| 1313/1313 [00:07<00:00, 183.14it/s]\n",
      "Epoch 5/30: 100%|████████████████████████████████████| 1313/1313 [00:07<00:00, 177.83it/s]\n",
      "Epoch 6/30: 100%|████████████████████████████████████| 1313/1313 [00:07<00:00, 179.04it/s]\n",
      "Epoch 7/30: 100%|████████████████████████████████████| 1313/1313 [00:07<00:00, 176.71it/s]\n",
      "Epoch 8/30: 100%|████████████████████████████████████| 1313/1313 [00:07<00:00, 182.53it/s]\n",
      "Epoch 9/30: 100%|████████████████████████████████████| 1313/1313 [00:07<00:00, 178.68it/s]\n",
      "Epoch 10/30: 100%|███████████████████████████████████| 1313/1313 [00:07<00:00, 172.63it/s]\n",
      "Epoch 11/30: 100%|███████████████████████████████████| 1313/1313 [00:07<00:00, 182.27it/s]\n",
      "Epoch 12/30: 100%|███████████████████████████████████| 1313/1313 [00:06<00:00, 187.72it/s]\n",
      "Epoch 13/30: 100%|███████████████████████████████████| 1313/1313 [00:06<00:00, 189.77it/s]\n",
      "Epoch 14/30: 100%|███████████████████████████████████| 1313/1313 [00:06<00:00, 189.69it/s]\n",
      "Epoch 15/30: 100%|███████████████████████████████████| 1313/1313 [00:07<00:00, 187.41it/s]\n",
      "Epoch 16/30: 100%|███████████████████████████████████| 1313/1313 [00:06<00:00, 188.68it/s]\n",
      "Epoch 17/30: 100%|███████████████████████████████████| 1313/1313 [00:07<00:00, 186.34it/s]\n",
      "Epoch 18/30: 100%|███████████████████████████████████| 1313/1313 [00:06<00:00, 189.42it/s]\n",
      "Epoch 19/30: 100%|███████████████████████████████████| 1313/1313 [00:06<00:00, 188.16it/s]\n",
      "Epoch 20/30: 100%|███████████████████████████████████| 1313/1313 [00:07<00:00, 185.57it/s]\n",
      "Epoch 21/30: 100%|███████████████████████████████████| 1313/1313 [00:06<00:00, 189.83it/s]\n",
      "Epoch 22/30: 100%|███████████████████████████████████| 1313/1313 [00:06<00:00, 188.46it/s]\n",
      "Epoch 23/30: 100%|███████████████████████████████████| 1313/1313 [00:06<00:00, 187.81it/s]\n",
      "Epoch 24/30: 100%|███████████████████████████████████| 1313/1313 [00:07<00:00, 185.55it/s]\n",
      "Epoch 25/30: 100%|███████████████████████████████████| 1313/1313 [00:07<00:00, 167.36it/s]\n",
      "Epoch 26/30: 100%|███████████████████████████████████| 1313/1313 [00:07<00:00, 180.49it/s]\n",
      "Epoch 27/30: 100%|███████████████████████████████████| 1313/1313 [00:07<00:00, 175.38it/s]\n",
      "Epoch 28/30: 100%|███████████████████████████████████| 1313/1313 [00:08<00:00, 162.37it/s]\n",
      "Epoch 29/30: 100%|███████████████████████████████████| 1313/1313 [00:08<00:00, 153.61it/s]\n",
      "Epoch 30/30: 100%|███████████████████████████████████| 1313/1313 [00:08<00:00, 155.99it/s]\n"
     ]
    },
    {
     "name": "stdout",
     "output_type": "stream",
     "text": [
      "### 2. Run ###\n"
     ]
    },
    {
     "name": "stderr",
     "output_type": "stream",
     "text": [
      "Epoch 1/30: 100%|████████████████████████████████████| 1313/1313 [00:08<00:00, 157.20it/s]\n",
      "Epoch 2/30: 100%|████████████████████████████████████| 1313/1313 [00:08<00:00, 155.72it/s]\n",
      "Epoch 3/30: 100%|████████████████████████████████████| 1313/1313 [00:08<00:00, 154.08it/s]\n",
      "Epoch 4/30: 100%|████████████████████████████████████| 1313/1313 [00:08<00:00, 154.17it/s]\n",
      "Epoch 5/30: 100%|████████████████████████████████████| 1313/1313 [00:08<00:00, 154.94it/s]\n",
      "Epoch 6/30: 100%|████████████████████████████████████| 1313/1313 [00:08<00:00, 158.14it/s]\n",
      "Epoch 7/30: 100%|████████████████████████████████████| 1313/1313 [00:07<00:00, 165.36it/s]\n",
      "Epoch 8/30: 100%|████████████████████████████████████| 1313/1313 [00:07<00:00, 166.94it/s]\n",
      "Epoch 9/30: 100%|████████████████████████████████████| 1313/1313 [00:08<00:00, 161.91it/s]\n",
      "Epoch 10/30: 100%|███████████████████████████████████| 1313/1313 [00:08<00:00, 162.37it/s]\n",
      "Epoch 11/30: 100%|███████████████████████████████████| 1313/1313 [00:07<00:00, 166.39it/s]\n",
      "Epoch 12/30: 100%|███████████████████████████████████| 1313/1313 [00:08<00:00, 162.04it/s]\n",
      "Epoch 13/30: 100%|███████████████████████████████████| 1313/1313 [00:08<00:00, 163.43it/s]\n",
      "Epoch 14/30: 100%|███████████████████████████████████| 1313/1313 [00:07<00:00, 166.99it/s]\n",
      "Epoch 15/30: 100%|███████████████████████████████████| 1313/1313 [00:07<00:00, 167.31it/s]\n",
      "Epoch 16/30: 100%|███████████████████████████████████| 1313/1313 [00:08<00:00, 162.37it/s]\n",
      "Epoch 17/30: 100%|███████████████████████████████████| 1313/1313 [00:07<00:00, 165.13it/s]\n",
      "Epoch 18/30: 100%|███████████████████████████████████| 1313/1313 [00:07<00:00, 164.82it/s]\n",
      "Epoch 19/30: 100%|███████████████████████████████████| 1313/1313 [00:08<00:00, 163.84it/s]\n",
      "Epoch 20/30: 100%|███████████████████████████████████| 1313/1313 [00:07<00:00, 166.01it/s]\n",
      "Epoch 21/30: 100%|███████████████████████████████████| 1313/1313 [00:08<00:00, 163.42it/s]\n",
      "Epoch 22/30: 100%|███████████████████████████████████| 1313/1313 [00:07<00:00, 166.13it/s]\n",
      "Epoch 23/30: 100%|███████████████████████████████████| 1313/1313 [00:07<00:00, 167.75it/s]\n",
      "Epoch 24/30: 100%|███████████████████████████████████| 1313/1313 [00:07<00:00, 164.30it/s]\n",
      "Epoch 25/30: 100%|███████████████████████████████████| 1313/1313 [00:07<00:00, 166.07it/s]\n",
      "Epoch 26/30: 100%|███████████████████████████████████| 1313/1313 [00:07<00:00, 168.05it/s]\n",
      "Epoch 27/30: 100%|███████████████████████████████████| 1313/1313 [00:08<00:00, 163.40it/s]\n",
      "Epoch 28/30: 100%|███████████████████████████████████| 1313/1313 [00:07<00:00, 165.30it/s]\n",
      "Epoch 29/30: 100%|███████████████████████████████████| 1313/1313 [00:08<00:00, 164.02it/s]\n",
      "Epoch 30/30: 100%|███████████████████████████████████| 1313/1313 [00:07<00:00, 164.35it/s]\n"
     ]
    },
    {
     "name": "stdout",
     "output_type": "stream",
     "text": [
      "### 3. Run ###\n"
     ]
    },
    {
     "name": "stderr",
     "output_type": "stream",
     "text": [
      "Epoch 1/30:  35%|█████████████                        | 465/1313 [00:02<00:05, 161.70it/s]"
     ]
    }
   ],
   "source": [
    "model = FNN(\n",
    "    [\n",
    "        {\"in_features\": 32 * 32 * 3, \"out_features\": 512},\n",
    "        {\"in_features\": 512, \"out_features\": 256},\n",
    "        {\"in_features\": 256, \"out_features\": 128},\n",
    "        {\"in_features\": 128, \"out_features\": 10},\n",
    "    ]\n",
    ")\n",
    "model.initialize(\"normal_in_features\", softmax_init=True)\n",
    "\n",
    "config = ExperimentConfig(\n",
    "    model_name=\"CIFAR-10_FNN_NORMAL_IN_FEATURES_LAST_LAYER\",\n",
    "    train_loader=train_loader,\n",
    "    val_loader=val_loader,\n",
    "    test_loader=test_loader,\n",
    "    epochs=30\n",
    ")\n",
    "\n",
    "run_experiments(model, config)"
   ],
   "metadata": {
    "collapsed": false,
    "ExecuteTime": {
     "end_time": "2024-02-22T18:16:27.944806060Z",
     "start_time": "2024-02-22T17:52:02.758137059Z"
    }
   }
  },
  {
   "cell_type": "code",
   "outputs": [],
   "source": [
    "model = FNN(\n",
    "    [\n",
    "        {\"in_features\": 32 * 32 * 3, \"out_features\": 512},\n",
    "        {\"in_features\": 512, \"out_features\": 256},\n",
    "        {\"in_features\": 256, \"out_features\": 128},\n",
    "        {\"in_features\": 128, \"out_features\": 10},\n",
    "    ]\n",
    ")\n",
    "model.initialize(\"normal\", mean=-1.0)\n",
    "\n",
    "config = ExperimentConfig(\n",
    "    model_name=\"CIFAR-10_FNN_NORMAL_MEAN_NEG\",\n",
    "    train_loader=train_loader,\n",
    "    val_loader=val_loader,\n",
    "    test_loader=test_loader,\n",
    "    epochs=30\n",
    ")\n",
    "\n",
    "run_experiments(model, config)"
   ],
   "metadata": {
    "collapsed": false
   },
   "execution_count": 9
  },
  {
   "cell_type": "code",
   "outputs": [],
   "source": [
    "model = FNN(\n",
    "    [\n",
    "        {\"in_features\": 32 * 32 * 3, \"out_features\": 512},\n",
    "        {\"in_features\": 512, \"out_features\": 256},\n",
    "        {\"in_features\": 256, \"out_features\": 128},\n",
    "        {\"in_features\": 128, \"out_features\": 10},\n",
    "    ]\n",
    ")\n",
    "model.initialize(\"normal\", mean=1.0)\n",
    "\n",
    "config = ExperimentConfig(\n",
    "    model_name=\"CIFAR-10_FNN_NORMAL_MEAN_POS\",\n",
    "    train_loader=train_loader,\n",
    "    val_loader=val_loader,\n",
    "    test_loader=test_loader,\n",
    "    epochs=30\n",
    ")\n",
    "\n",
    "run_experiments(model, config)"
   ],
   "metadata": {
    "collapsed": false
   },
   "execution_count": 10
  },
  {
   "cell_type": "code",
   "outputs": [],
   "source": [
    "model = FNN(\n",
    "    [\n",
    "        {\"in_features\": 32 * 32 * 3, \"out_features\": 512},\n",
    "        {\"in_features\": 512, \"out_features\": 256},\n",
    "        {\"in_features\": 256, \"out_features\": 128},\n",
    "        {\"in_features\": 128, \"out_features\": 10},\n",
    "    ]\n",
    ")\n",
    "model.initialize(\"normal\", mean=-5.0)\n",
    "\n",
    "config = ExperimentConfig(\n",
    "    model_name=\"CIFAR-10_FNN_NORMAL_MEAN_NEG_HIGH\",\n",
    "    train_loader=train_loader,\n",
    "    val_loader=val_loader,\n",
    "    test_loader=test_loader,\n",
    "    epochs=30\n",
    ")\n",
    "\n",
    "run_experiments(model, config)"
   ],
   "metadata": {
    "collapsed": false
   },
   "execution_count": 11
  },
  {
   "cell_type": "code",
   "outputs": [],
   "source": [
    "model = FNN(\n",
    "    [\n",
    "        {\"in_features\": 32 * 32 * 3, \"out_features\": 512},\n",
    "        {\"in_features\": 512, \"out_features\": 256},\n",
    "        {\"in_features\": 256, \"out_features\": 128},\n",
    "        {\"in_features\": 128, \"out_features\": 10},\n",
    "    ]\n",
    ")\n",
    "model.initialize(\"normal\", mean=5.0)\n",
    "\n",
    "config = ExperimentConfig(\n",
    "    model_name=\"CIFAR-10_FNN_NORMAL_MEAN_POS_HIGH\",\n",
    "    train_loader=train_loader,\n",
    "    val_loader=val_loader,\n",
    "    test_loader=test_loader,\n",
    "    epochs=30\n",
    ")\n",
    "\n",
    "run_experiments(model, config)"
   ],
   "metadata": {
    "collapsed": false
   },
   "execution_count": 12
  },
  {
   "cell_type": "code",
   "outputs": [],
   "source": [
    "model = FNN(\n",
    "    [\n",
    "        {\"in_features\": 32 * 32 * 3, \"out_features\": 512},\n",
    "        {\"in_features\": 512, \"out_features\": 256},\n",
    "        {\"in_features\": 256, \"out_features\": 128},\n",
    "        {\"in_features\": 128, \"out_features\": 10},\n",
    "    ]\n",
    ")\n",
    "model.initialize(\"normal\", mean=-50.0)\n",
    "\n",
    "config = ExperimentConfig(\n",
    "    model_name=\"CIFAR-10_FNN_NORMAL_MEAN_NEG_OVER\",\n",
    "    train_loader=train_loader,\n",
    "    val_loader=val_loader,\n",
    "    test_loader=test_loader,\n",
    "    epochs=30\n",
    ")\n",
    "\n",
    "run_experiments(model, config)"
   ],
   "metadata": {
    "collapsed": false
   },
   "execution_count": 13
  },
  {
   "cell_type": "code",
   "outputs": [],
   "source": [
    "model = FNN(\n",
    "    [\n",
    "        {\"in_features\": 32 * 32 * 3, \"out_features\": 512},\n",
    "        {\"in_features\": 512, \"out_features\": 256},\n",
    "        {\"in_features\": 256, \"out_features\": 128},\n",
    "        {\"in_features\": 128, \"out_features\": 10},\n",
    "    ]\n",
    ")\n",
    "model.initialize(\"normal\", mean=50.0)\n",
    "\n",
    "config = ExperimentConfig(\n",
    "    model_name=\"CIFAR-10_FNN_NORMAL_MEAN_POS_OVER\",\n",
    "    train_loader=train_loader,\n",
    "    val_loader=val_loader,\n",
    "    test_loader=test_loader,\n",
    "    epochs=30\n",
    ")\n",
    "\n",
    "run_experiments(model, config)"
   ],
   "metadata": {
    "collapsed": false
   },
   "execution_count": 14
  },
  {
   "cell_type": "code",
   "outputs": [],
   "source": [
    "model = FNN(\n",
    "    [\n",
    "        {\"in_features\": 32 * 32 * 3, \"out_features\": 512},\n",
    "        {\"in_features\": 512, \"out_features\": 256},\n",
    "        {\"in_features\": 256, \"out_features\": 128},\n",
    "        {\"in_features\": 128, \"out_features\": 10},\n",
    "    ]\n",
    ")\n",
    "model.initialize(\"normal\", scale_factor=0.1)\n",
    "\n",
    "config = ExperimentConfig(\n",
    "    model_name=\"CIFAR-10_FNN_NORMAL_0.1_STD\",\n",
    "    train_loader=train_loader,\n",
    "    val_loader=val_loader,\n",
    "    test_loader=test_loader,\n",
    "    epochs=30\n",
    ")\n",
    "\n",
    "run_experiments(model, config)"
   ],
   "metadata": {
    "collapsed": false
   },
   "execution_count": 15
  },
  {
   "cell_type": "code",
   "outputs": [],
   "source": [
    "model = FNN(\n",
    "    [\n",
    "        {\"in_features\": 32 * 32 * 3, \"out_features\": 512},\n",
    "        {\"in_features\": 512, \"out_features\": 256},\n",
    "        {\"in_features\": 256, \"out_features\": 128},\n",
    "        {\"in_features\": 128, \"out_features\": 10},\n",
    "    ]\n",
    ")\n",
    "model.initialize(\"normal\", scale_factor=0.5)\n",
    "\n",
    "config = ExperimentConfig(\n",
    "    model_name=\"CIFAR-10_FNN_NORMAL_0.5_STD\",\n",
    "    train_loader=train_loader,\n",
    "    val_loader=val_loader,\n",
    "    test_loader=test_loader,\n",
    "    epochs=30\n",
    ")\n",
    "run_experiments(model, config)"
   ],
   "metadata": {
    "collapsed": false
   },
   "execution_count": 16
  },
  {
   "cell_type": "code",
   "outputs": [],
   "source": [
    "model = FNN(\n",
    "    [\n",
    "        {\"in_features\": 32 * 32 * 3, \"out_features\": 512},\n",
    "        {\"in_features\": 512, \"out_features\": 256},\n",
    "        {\"in_features\": 256, \"out_features\": 128},\n",
    "        {\"in_features\": 128, \"out_features\": 10},\n",
    "    ]\n",
    ")\n",
    "model.initialize(\"normal\", scale_factor=2.0)\n",
    "\n",
    "config = ExperimentConfig(\n",
    "    model_name=\"CIFAR-10_FNN_NORMAL_2.0_STD\",\n",
    "    train_loader=train_loader,\n",
    "    val_loader=val_loader,\n",
    "    test_loader=test_loader,\n",
    "    epochs=30\n",
    ")\n",
    "\n",
    "run_experiments(model, config)"
   ],
   "metadata": {
    "collapsed": false
   },
   "execution_count": 17
  },
  {
   "cell_type": "markdown",
   "source": [
    "#### 3.1.1 Finding The Point Of Break"
   ],
   "metadata": {
    "collapsed": false
   }
  },
  {
   "cell_type": "code",
   "execution_count": null,
   "outputs": [],
   "source": [
    "factor_range = range(10, 301, 10)\n",
    "\n",
    "for factor in factor_range:\n",
    "    torch.manual_seed(R_SEED)\n",
    "    random.seed(R_SEED)\n",
    "    np.random.seed(R_SEED)\n",
    "\n",
    "    model = FNN(\n",
    "        [\n",
    "            {\"in_features\": 32 * 32 * 3, \"out_features\": 512},\n",
    "            {\"in_features\": 512, \"out_features\": 256},\n",
    "            {\"in_features\": 256, \"out_features\": 128},\n",
    "            {\"in_features\": 128, \"out_features\": 10},\n",
    "        ]\n",
    "    )\n",
    "    model.initialize(mode=\"normal\", scale_factor=factor)\n",
    "    writer = SummaryWriter(f\"./results/CIFAR-10_FNN_NORMAL_1_{factor}\")\n",
    "    trainer = Trainer(model=model, lr=0.001, writer=writer)\n",
    "\n",
    "    trainer.train(train_loader=train_loader, test_loader=test_loader, num_epochs=30, train_summary=False)"
   ],
   "metadata": {
    "collapsed": false
   }
  },
  {
   "cell_type": "code",
   "execution_count": null,
   "outputs": [],
   "source": [
    "factor_range = range(10, 301, 10)\n",
    "\n",
    "for factor in factor_range:\n",
    "    torch.manual_seed(R_SEED)\n",
    "    random.seed(R_SEED)\n",
    "    np.random.seed(R_SEED)\n",
    "\n",
    "    model = FNN(\n",
    "        [\n",
    "            {\"in_features\": 32 * 32 * 3, \"out_features\": 512},\n",
    "            {\"in_features\": 512, \"out_features\": 256},\n",
    "            {\"in_features\": 256, \"out_features\": 256},\n",
    "            {\"in_features\": 256, \"out_features\": 128},\n",
    "            {\"in_features\": 128, \"out_features\": 128},\n",
    "            {\"in_features\": 128, \"out_features\": 10},\n",
    "        ]\n",
    "    )\n",
    "    model.initialize(mode=\"normal\", scale_factor=factor)\n",
    "    writer = SummaryWriter(f\"./results/CIFAR-10_FNN_NORMAL_2_{factor}\")\n",
    "    trainer = Trainer(model=model, lr=0.001, writer=writer)\n",
    "\n",
    "    trainer.train(train_loader=train_loader, test_loader=test_loader, num_epochs=30, train_summary=False)"
   ],
   "metadata": {
    "collapsed": false
   }
  },
  {
   "cell_type": "code",
   "execution_count": null,
   "outputs": [],
   "source": [
    "train_loader, val_loader = get_cifar10_loader(train=True, batch_size=8)\n",
    "test_loader = get_cifar10_loader(train=False, batch_size=8)"
   ],
   "metadata": {
    "collapsed": false
   }
  },
  {
   "cell_type": "code",
   "execution_count": null,
   "outputs": [],
   "source": [
    "factor_range = range(10, 301, 10)\n",
    "\n",
    "for factor in factor_range:\n",
    "    torch.manual_seed(R_SEED)\n",
    "    random.seed(R_SEED)\n",
    "    np.random.seed(R_SEED)\n",
    "\n",
    "    model = FNN(\n",
    "        [\n",
    "            {\"in_features\": 32 * 32 * 3, \"out_features\": 512},\n",
    "            {\"in_features\": 512, \"out_features\": 256},\n",
    "            {\"in_features\": 256, \"out_features\": 128},\n",
    "            {\"in_features\": 128, \"out_features\": 10},\n",
    "        ]\n",
    "    )\n",
    "    model.initialize(mode=\"normal\", scale_factor=factor)\n",
    "    writer = SummaryWriter(f\"./results/CIFAR-10_FNN_NORMAL_3_{factor}\")\n",
    "    trainer = Trainer(model=model, lr=0.001, writer=writer)\n",
    "\n",
    "    trainer.train(train_loader=train_loader, test_loader=test_loader, num_epochs=30, train_summary=False)"
   ],
   "metadata": {
    "collapsed": false
   }
  },
  {
   "cell_type": "code",
   "execution_count": null,
   "outputs": [],
   "source": [
    "factor_range = range(10, 301, 10)\n",
    "\n",
    "for factor in factor_range:\n",
    "    torch.manual_seed(R_SEED)\n",
    "    random.seed(R_SEED)\n",
    "    np.random.seed(R_SEED)\n",
    "\n",
    "    model = FNN(\n",
    "        [\n",
    "            {\"in_features\": 32 * 32 * 3, \"out_features\": 512},\n",
    "            {\"in_features\": 512, \"out_features\": 256},\n",
    "            {\"in_features\": 256, \"out_features\": 256},\n",
    "            {\"in_features\": 256, \"out_features\": 128},\n",
    "            {\"in_features\": 128, \"out_features\": 128},\n",
    "            {\"in_features\": 128, \"out_features\": 10},\n",
    "        ]\n",
    "    )\n",
    "    model.initialize(mode=\"normal\", scale_factor=factor)\n",
    "    writer = SummaryWriter(f\"./results/CIFAR-10_FNN_NORMAL_4_{factor}\")\n",
    "    trainer = Trainer(model=model, lr=0.001, writer=writer)\n",
    "\n",
    "    trainer.train(train_loader=train_loader, test_loader=test_loader, num_epochs=30, train_summary=False)"
   ],
   "metadata": {
    "collapsed": false
   }
  },
  {
   "cell_type": "code",
   "execution_count": null,
   "outputs": [],
   "source": [
    "factors = [10, 100, 1000, 10_000, 100_000, 1_000_000]\n",
    "\n",
    "for factor in factors:\n",
    "    torch.manual_seed(R_SEED)\n",
    "    random.seed(R_SEED)\n",
    "    np.random.seed(R_SEED)\n",
    "\n",
    "    factor = 1 / factor\n",
    "\n",
    "    model = FNN(\n",
    "        [\n",
    "            {\"in_features\": 32 * 32 * 3, \"out_features\": 512},\n",
    "            {\"in_features\": 512, \"out_features\": 256},\n",
    "            {\"in_features\": 256, \"out_features\": 128},\n",
    "            {\"in_features\": 128, \"out_features\": 10},\n",
    "        ]\n",
    "    )\n",
    "    model.initialize(mode=\"normal\", scale_factor=factor)\n",
    "    writer = SummaryWriter(f\"./results/CIFAR-10_FNN_NORMAL_DOWN_{factor}\")\n",
    "    trainer = Trainer(model=model, lr=0.001, writer=writer)\n",
    "\n",
    "    trainer.train(train_loader=train_loader, test_loader=test_loader, num_epochs=30, train_summary=False)"
   ],
   "metadata": {
    "collapsed": false
   }
  },
  {
   "cell_type": "markdown",
   "source": [
    "### 3.2 Uniform Distribution"
   ],
   "metadata": {
    "collapsed": false
   }
  },
  {
   "cell_type": "code",
   "execution_count": 18,
   "outputs": [],
   "source": [
    "train_loader, val_loader = get_cifar10_loader(train=True, batch_size=32)\n",
    "test_loader = get_cifar10_loader(train=False, batch_size=32)"
   ],
   "metadata": {
    "collapsed": false
   }
  },
  {
   "cell_type": "markdown",
   "source": [
    "#### 3.2.1 Zero To One Pre-Activations"
   ],
   "metadata": {
    "collapsed": false
   }
  },
  {
   "cell_type": "code",
   "execution_count": 24,
   "outputs": [],
   "source": [
    "model = FNN(\n",
    "    [\n",
    "        {\"in_features\": 32 * 32 * 3, \"out_features\": 512},\n",
    "        {\"in_features\": 512, \"out_features\": 256},\n",
    "        {\"in_features\": 256, \"out_features\": 128},\n",
    "        {\"in_features\": 128, \"out_features\": 10},\n",
    "    ]\n",
    ")\n",
    "model.initialize(mode=\"uniform\", a=0, b=1)\n",
    "\n",
    "config = ExperimentConfig(\n",
    "    model_name=\"CIFAR-10_FNN_UNIFORM_0-1\",\n",
    "    train_loader=train_loader,\n",
    "    val_loader=val_loader,\n",
    "    test_loader=test_loader,\n",
    "    epochs=30\n",
    ")\n",
    "\n",
    "run_experiments(model, config)"
   ],
   "metadata": {
    "collapsed": false
   }
  },
  {
   "cell_type": "markdown",
   "source": [
    "#### 3.2.2 Unit Variance And Zero Mean Pre-Activations"
   ],
   "metadata": {
    "collapsed": false
   }
  },
  {
   "cell_type": "code",
   "execution_count": 25,
   "outputs": [],
   "source": [
    "model = FNN(\n",
    "    [\n",
    "        {\"in_features\": 32 * 32 * 3, \"out_features\": 512},\n",
    "        {\"in_features\": 512, \"out_features\": 256},\n",
    "        {\"in_features\": 256, \"out_features\": 128},\n",
    "        {\"in_features\": 128, \"out_features\": 10},\n",
    "    ]\n",
    ")\n",
    "model.initialize(mode=\"uniform\", a=-math.sqrt(3), b=math.sqrt(3))\n",
    "\n",
    "config = ExperimentConfig(\n",
    "    model_name=\"CIFAR-10_FNN_UNIFORM_PRE_ACT\",\n",
    "    train_loader=train_loader,\n",
    "    val_loader=val_loader,\n",
    "    test_loader=test_loader,\n",
    "    epochs=30\n",
    ")\n",
    "\n",
    "run_experiments(model, config)"
   ],
   "metadata": {
    "collapsed": false
   }
  },
  {
   "cell_type": "code",
   "execution_count": 26,
   "outputs": [],
   "source": [
    "model = FNN(\n",
    "    [\n",
    "        {\"in_features\": 32 * 32 * 3, \"out_features\": 512},\n",
    "        {\"in_features\": 512, \"out_features\": 256},\n",
    "        {\"in_features\": 256, \"out_features\": 128},\n",
    "        {\"in_features\": 128, \"out_features\": 10},\n",
    "    ]\n",
    ")\n",
    "model.initialize(mode=\"deterministic\", a=-1.73, b=1.73)\n",
    "\n",
    "config = ExperimentConfig(\n",
    "    model_name=\"CIFAR-10_FNN_UNIFORM_PRE_ACT_DET\",\n",
    "    train_loader=train_loader,\n",
    "    val_loader=val_loader,\n",
    "    test_loader=test_loader,\n",
    "    epochs=30\n",
    ")\n",
    "\n",
    "run_experiments(model, config)"
   ],
   "metadata": {
    "collapsed": false
   }
  },
  {
   "cell_type": "markdown",
   "source": [
    "#### 3.2.3 Unit Variance and Zero Mean Activations"
   ],
   "metadata": {
    "collapsed": false
   }
  },
  {
   "cell_type": "code",
   "execution_count": 27,
   "outputs": [],
   "source": [
    "model = FNN(\n",
    "    [\n",
    "        {\"in_features\": 32 * 32 * 3, \"out_features\": 512},\n",
    "        {\"in_features\": 512, \"out_features\": 256},\n",
    "        {\"in_features\": 256, \"out_features\": 128},\n",
    "        {\"in_features\": 128, \"out_features\": 10},\n",
    "    ]\n",
    ")\n",
    "model.initialize(mode=\"uniform\", a=-3.437, b=2.222)\n",
    "\n",
    "config = ExperimentConfig(\n",
    "    model_name=\"CIFAR-10_FNN_UNIFORM_UNIT_VAR_ZERO_MEAN\",\n",
    "    train_loader=train_loader,\n",
    "    val_loader=val_loader,\n",
    "    test_loader=test_loader,\n",
    "    epochs=30\n",
    ")\n",
    "\n",
    "run_experiments(model, config)"
   ],
   "metadata": {
    "collapsed": false
   }
  },
  {
   "cell_type": "code",
   "execution_count": 28,
   "outputs": [],
   "source": [
    "model = FNN(\n",
    "    [\n",
    "        {\"in_features\": 32 * 32 * 3, \"out_features\": 512},\n",
    "        {\"in_features\": 512, \"out_features\": 256},\n",
    "        {\"in_features\": 256, \"out_features\": 128},\n",
    "        {\"in_features\": 128, \"out_features\": 10},\n",
    "    ]\n",
    ")\n",
    "model.initialize(mode=\"deterministic\", a=-3.437, b=2.222)\n",
    "\n",
    "config = ExperimentConfig(\n",
    "    model_name=\"CIFAR-10_FNN_UNIFORM_UNIT_VAR_ZERO_MEAN_DET\",\n",
    "    train_loader=train_loader,\n",
    "    val_loader=val_loader,\n",
    "    test_loader=test_loader,\n",
    "    epochs=30\n",
    ")\n",
    "\n",
    "run_experiments(model, config)"
   ],
   "metadata": {
    "collapsed": false
   }
  },
  {
   "cell_type": "markdown",
   "source": [
    "#### 3.2.5 Comparison"
   ],
   "metadata": {
    "collapsed": false
   }
  },
  {
   "cell_type": "markdown",
   "source": [
    "### 3.3 Compare Our Approach to Others"
   ],
   "metadata": {
    "collapsed": false
   }
  },
  {
   "cell_type": "code",
   "execution_count": null,
   "outputs": [],
   "source": [
    "def objective(trial):\n",
    "    torch.manual_seed(R_SEED)\n",
    "    random.seed(R_SEED)\n",
    "    np.random.seed(R_SEED)\n",
    "\n",
    "    params = {\n",
    "        \"learning_rate\": trial.suggest_float(\"learning_rate\", 1e-5, 1e-1, log=True),\n",
    "        \"optimizer\": trial.suggest_categorical(\"optimizer\", [Adam, RMSprop, SGD]),\n",
    "        \"batch_size\": trial.suggest_int(\"batch_size\", 4, 64, 2),\n",
    "\n",
    "    }\n",
    "\n",
    "    train_loader, val_loader = get_cifar10_loader(train=True, batch_size=params[\"batch_size\"])\n",
    "    test_loader = get_cifar10_loader(train=False, batch_size=params[\"batch_size\"])\n",
    "\n",
    "    model = FNN(\n",
    "        [\n",
    "            {\"in_features\": 32 * 32 * 3, \"out_features\": 512},\n",
    "            {\"in_features\": 512, \"out_features\": 256},\n",
    "            {\"in_features\": 256, \"out_features\": 128},\n",
    "            {\"in_features\": 128, \"out_features\": 10},\n",
    "        ]\n",
    "    )\n",
    "\n",
    "    writer = SummaryWriter(\"./results/CIFAR_FNN_TRIAL\")\n",
    "    trainer = Trainer(model=model, lr=params[\"learning_rate\"], optimizer=params[\"optimizer\"], writer=writer)\n",
    "    accuracy = trainer.train(train_loader=train_loader, test_loader=test_loader, num_epochs=15, trial=trial,\n",
    "                             train_summary=False)\n",
    "\n",
    "    return accuracy\n",
    "\n",
    "\n",
    "study = optuna.create_study(direction=\"maximize\", sampler=optuna.samplers.TPESampler())\n",
    "study.optimize(objective, n_trials=28)\n",
    "\n",
    "joblib.dump(study, os.path.join(\"results\", \"optuna\", \"cifar_fnn.pkl\"))"
   ],
   "metadata": {
    "collapsed": false
   }
  },
  {
   "cell_type": "code",
   "execution_count": null,
   "outputs": [],
   "source": [
    "study = joblib.load(os.path.join(\"results\", \"optuna\", \"cifar_fnn.pkl\"), 'r')\n",
    "\n",
    "for key, value in study.best_trial.params.items():\n",
    "    print(\"{}: {}\".format(key, value))\n",
    "print(f\"final accuracy: {study.best_trial.value}\")\n",
    "\n",
    "optuna.visualization.plot_parallel_coordinate(study)"
   ],
   "metadata": {
    "collapsed": false
   }
  },
  {
   "cell_type": "code",
   "execution_count": null,
   "outputs": [],
   "source": [
    "def objective(trial):\n",
    "    torch.manual_seed(R_SEED)\n",
    "    random.seed(R_SEED)\n",
    "    np.random.seed(R_SEED)\n",
    "\n",
    "    params = {\n",
    "        \"learning_rate\": trial.suggest_float(\"learning_rate\", 1e-5, 1e-1, log=True),\n",
    "        \"optimizer\": trial.suggest_categorical(\"optimizer\", [Adam, RMSprop, SGD]),\n",
    "        \"batch_size\": trial.suggest_int(\"batch_size\", 4, 64, 2),\n",
    "\n",
    "    }\n",
    "\n",
    "    train_loader, val_loader = get_cifar10_loader(train=True, batch_size=params[\"batch_size\"])\n",
    "    test_loader = get_cifar10_loader(train=False, batch_size=params[\"batch_size\"])\n",
    "\n",
    "    model = FNN(\n",
    "        [\n",
    "            {\"in_features\": 32 * 32 * 3, \"out_features\": 512},\n",
    "            {\"in_features\": 512, \"out_features\": 256},\n",
    "            {\"in_features\": 256, \"out_features\": 128},\n",
    "            {\"in_features\": 128, \"out_features\": 10},\n",
    "        ]\n",
    "    )\n",
    "    model.initialize(\"normal\", softmax_init=True)\n",
    "\n",
    "    writer = SummaryWriter(\"./results/CIFAR_FNN_TRIAL_NORMAL\")\n",
    "    trainer = Trainer(model=model, lr=params[\"learning_rate\"], optimizer=params[\"optimizer\"], writer=writer)\n",
    "    accuracy = trainer.train(train_loader=train_loader, test_loader=test_loader, num_epochs=15, trial=trial,\n",
    "                             train_summary=False)\n",
    "\n",
    "    return accuracy\n",
    "\n",
    "\n",
    "study = optuna.create_study(direction=\"maximize\", sampler=optuna.samplers.TPESampler())\n",
    "study.optimize(objective, n_trials=28)\n",
    "\n",
    "joblib.dump(study, os.path.join(\"results\", \"optuna\", \"cifar_fnn_normal.pkl\"))"
   ],
   "metadata": {
    "collapsed": false
   }
  },
  {
   "cell_type": "code",
   "execution_count": null,
   "outputs": [],
   "source": [
    "optuna.visualization.plot_parallel_coordinate(study)\n",
    "study = joblib.load(os.path.join(\"results\", \"optuna\", \"cifar_fnn_normal.pkl\"), 'r')\n",
    "\n",
    "for key, value in study.best_trial.params.items():\n",
    "    print(\"{}: {}\".format(key, value))\n",
    "print(f\"final accuracy: {study.best_trial.value}\")\n",
    "\n",
    "optuna.visualization.plot_parallel_coordinate(study)"
   ],
   "metadata": {
    "collapsed": false
   }
  },
  {
   "cell_type": "code",
   "execution_count": null,
   "outputs": [],
   "source": [
    "def objective(trial):\n",
    "    torch.manual_seed(R_SEED)\n",
    "    random.seed(R_SEED)\n",
    "    np.random.seed(R_SEED)\n",
    "\n",
    "    params = {\n",
    "        \"learning_rate\": trial.suggest_float(\"learning_rate\", 1e-5, 1e-1, log=True),\n",
    "        \"optimizer\": trial.suggest_categorical(\"optimizer\", [Adam, RMSprop, SGD]),\n",
    "        \"batch_size\": trial.suggest_int(\"batch_size\", 4, 64, 2),\n",
    "\n",
    "    }\n",
    "\n",
    "    train_loader, val_loader = get_cifar10_loader(train=True, batch_size=params[\"batch_size\"])\n",
    "    test_loader = get_cifar10_loader(train=False, batch_size=params[\"batch_size\"])\n",
    "\n",
    "    model = FNN(\n",
    "        [\n",
    "            {\"in_features\": 32 * 32 * 3, \"out_features\": 512},\n",
    "            {\"in_features\": 512, \"out_features\": 256},\n",
    "            {\"in_features\": 256, \"out_features\": 128},\n",
    "            {\"in_features\": 128, \"out_features\": 10},\n",
    "        ]\n",
    "    )\n",
    "    model.initialize(\"uniform\", a=0, b=1)\n",
    "\n",
    "    writer = SummaryWriter(\"./results/CIFAR_FNN_TRIAL_UNIFORM\")\n",
    "    trainer = Trainer(model=model, lr=params[\"learning_rate\"], optimizer=params[\"optimizer\"], writer=writer)\n",
    "    accuracy = trainer.train(train_loader=train_loader, test_loader=test_loader, num_epochs=15, trial=trial,\n",
    "                             train_summary=False)\n",
    "\n",
    "    return accuracy\n",
    "\n",
    "\n",
    "study = optuna.create_study(direction=\"maximize\", sampler=optuna.samplers.TPESampler())\n",
    "study.optimize(objective, n_trials=28)\n",
    "\n",
    "joblib.dump(study, os.path.join(\"results\", \"optuna\", \"cifar_fnn_uniform.pkl\"))"
   ],
   "metadata": {
    "collapsed": false
   }
  },
  {
   "cell_type": "code",
   "execution_count": null,
   "outputs": [],
   "source": [
    "optuna.visualization.plot_parallel_coordinate(study)\n",
    "study = joblib.load(os.path.join(\"results\", \"optuna\", \"cifar_fnn_uniform.pkl\"), 'r')\n",
    "\n",
    "for key, value in study.best_trial.params.items():\n",
    "    print(\"{}: {}\".format(key, value))\n",
    "print(f\"final accuracy: {study.best_trial.value}\")\n",
    "\n",
    "optuna.visualization.plot_parallel_coordinate(study)"
   ],
   "metadata": {
    "collapsed": false
   }
  },
  {
   "cell_type": "markdown",
   "source": [
    "## 4 CIFAR-10 CNN"
   ],
   "metadata": {
    "collapsed": false
   }
  },
  {
   "cell_type": "code",
   "execution_count": 2,
   "outputs": [
    {
     "name": "stdout",
     "output_type": "stream",
     "text": [
      "Files already downloaded and verified\n",
      "Files already downloaded and verified\n"
     ]
    }
   ],
   "source": [
    "train_loader, val_loader = get_cifar10_loader(train=True, batch_size=32, flatten=False)\n",
    "test_loader = get_cifar10_loader(train=False, batch_size=32, flatten=False)"
   ],
   "metadata": {
    "collapsed": false,
    "ExecuteTime": {
     "end_time": "2024-02-10T04:22:58.947483267Z",
     "start_time": "2024-02-10T04:22:57.703336483Z"
    }
   }
  },
  {
   "cell_type": "code",
   "execution_count": null,
   "outputs": [],
   "source": [
    "model = CIFARCNN()\n",
    "\n",
    "config = ExperimentConfig(\n",
    "    model_name=\"CIFAR-10_CNN\",\n",
    "    train_loader=train_loader,\n",
    "    val_loader=val_loader,\n",
    "    test_loader=test_loader,\n",
    "    epochs=30\n",
    ")\n",
    "\n",
    "run_experiments(model, config)"
   ],
   "metadata": {
    "collapsed": false
   }
  },
  {
   "cell_type": "markdown",
   "source": [
    "### 4.1 Normal Distribution"
   ],
   "metadata": {
    "collapsed": false
   }
  },
  {
   "cell_type": "code",
   "execution_count": null,
   "outputs": [],
   "source": [
    "model = CIFARCNN()\n",
    "model.initialize(\"normal\")\n",
    "\n",
    "config = ExperimentConfig(\n",
    "    model_name=\"CIFAR-10_CNN_NORMAL\",\n",
    "    train_loader=train_loader,\n",
    "    val_loader=val_loader,\n",
    "    test_loader=test_loader,\n",
    "    epochs=30\n",
    ")\n",
    "\n",
    "run_experiments(model, config)"
   ],
   "metadata": {
    "collapsed": false
   }
  },
  {
   "cell_type": "code",
   "execution_count": null,
   "outputs": [],
   "source": [
    "model = CIFARCNN()\n",
    "model.initialize(\"normal\", softmax_init=True)\n",
    "\n",
    "config = ExperimentConfig(\n",
    "    model_name=\"CIFAR-10_CNN_NORMAL_LAST_LAYER\",\n",
    "    train_loader=train_loader,\n",
    "    val_loader=val_loader,\n",
    "    test_loader=test_loader,\n",
    "    epochs=30\n",
    ")\n",
    "\n",
    "run_experiments(model, config)"
   ],
   "metadata": {
    "collapsed": false
   }
  },
  {
   "cell_type": "code",
   "execution_count": null,
   "outputs": [],
   "source": [
    "model = CIFARCNN()\n",
    "model.initialize(\"normal\", ELU_SCALE_NORMAL)\n",
    "\n",
    "config = ExperimentConfig(\n",
    "    model_name=\"CIFAR-10_CNN_NORMAL_ELU_SCALE\",\n",
    "    train_loader=train_loader,\n",
    "    val_loader=val_loader,\n",
    "    test_loader=test_loader,\n",
    "    epochs=30\n",
    ")\n",
    "\n",
    "run_experiments(model, config)"
   ],
   "metadata": {
    "collapsed": false
   }
  },
  {
   "cell_type": "code",
   "execution_count": null,
   "outputs": [],
   "source": [
    "model = CIFARCNN()\n",
    "model.initialize(\"normal_in_features\")\n",
    "\n",
    "config = ExperimentConfig(\n",
    "    model_name=\"CIFAR-10_CNN_NORMAL_IN_FEATURES\",\n",
    "    train_loader=train_loader,\n",
    "    val_loader=val_loader,\n",
    "    test_loader=test_loader,\n",
    "    epochs=30\n",
    ")\n",
    "\n",
    "run_experiments(model, config)"
   ],
   "metadata": {
    "collapsed": false
   }
  },
  {
   "cell_type": "code",
   "outputs": [],
   "source": [
    "model = CIFARCNN()\n",
    "model.initialize(\"normal\", mean=-1.0)\n",
    "\n",
    "config = ExperimentConfig(\n",
    "    model_name=\"CIFAR-10_CNN_NORMAL_MEAN_NEG\",\n",
    "    train_loader=train_loader,\n",
    "    val_loader=val_loader,\n",
    "    test_loader=test_loader,\n",
    "    epochs=30\n",
    ")\n",
    "\n",
    "run_experiments(model, config)"
   ],
   "metadata": {
    "collapsed": false
   },
   "execution_count": null
  },
  {
   "cell_type": "code",
   "outputs": [],
   "source": [
    "model = CIFARCNN()\n",
    "model.initialize(\"normal\", mean=1.0)\n",
    "\n",
    "config = ExperimentConfig(\n",
    "    model_name=\"CIFAR-10_CNN_NORMAL_MEAN_POS\",\n",
    "    train_loader=train_loader,\n",
    "    val_loader=val_loader,\n",
    "    test_loader=test_loader,\n",
    "    epochs=30\n",
    ")\n",
    "\n",
    "run_experiments(model, config)"
   ],
   "metadata": {
    "collapsed": false
   },
   "execution_count": null
  },
  {
   "cell_type": "code",
   "outputs": [],
   "source": [
    "model = CIFARCNN()\n",
    "model.initialize(\"normal\", mean=-5.0)\n",
    "\n",
    "config = ExperimentConfig(\n",
    "    model_name=\"CIFAR-10_CNN_NORMAL_MEAN_NEG_HIGH\",\n",
    "    train_loader=train_loader,\n",
    "    val_loader=val_loader,\n",
    "    test_loader=test_loader,\n",
    "    epochs=30\n",
    ")\n",
    "\n",
    "run_experiments(model, config)"
   ],
   "metadata": {
    "collapsed": false
   },
   "execution_count": null
  },
  {
   "cell_type": "code",
   "outputs": [],
   "source": [
    "model = CIFARCNN()\n",
    "model.initialize(\"normal\", mean=5.0)\n",
    "\n",
    "config = ExperimentConfig(\n",
    "    model_name=\"CIFAR-10_CNN_NORMAL_MEAN_POS_HIGH\",\n",
    "    train_loader=train_loader,\n",
    "    val_loader=val_loader,\n",
    "    test_loader=test_loader,\n",
    "    epochs=30\n",
    ")\n",
    "\n",
    "run_experiments(model, config)"
   ],
   "metadata": {
    "collapsed": false
   },
   "execution_count": null
  },
  {
   "cell_type": "code",
   "outputs": [],
   "source": [
    "model = CIFARCNN()\n",
    "model.initialize(\"normal\", mean=-50.0)\n",
    "\n",
    "config = ExperimentConfig(\n",
    "    model_name=\"CIFAR-10_CNN_NORMAL_MEAN_NEG_OVER\",\n",
    "    train_loader=train_loader,\n",
    "    val_loader=val_loader,\n",
    "    test_loader=test_loader,\n",
    "    epochs=30\n",
    ")\n",
    "\n",
    "run_experiments(model, config)"
   ],
   "metadata": {
    "collapsed": false
   },
   "execution_count": null
  },
  {
   "cell_type": "code",
   "outputs": [],
   "source": [
    "model = CIFARCNN()\n",
    "model.initialize(\"normal\", mean=50.0)\n",
    "\n",
    "config = ExperimentConfig(\n",
    "    model_name=\"CIFAR-10_CNN_NORMAL_MEAN_POS_OVER\",\n",
    "    train_loader=train_loader,\n",
    "    val_loader=val_loader,\n",
    "    test_loader=test_loader,\n",
    "    epochs=30\n",
    ")\n",
    "\n",
    "run_experiments(model, config)"
   ],
   "metadata": {
    "collapsed": false
   },
   "execution_count": null
  },
  {
   "cell_type": "code",
   "outputs": [],
   "source": [
    "model = CIFARCNN()\n",
    "model.initialize(\"normal\", scale_factor=0.1)\n",
    "\n",
    "config = ExperimentConfig(\n",
    "    model_name=\"CIFAR-10_CNN_NORMAL_0.1_STD\",\n",
    "    train_loader=train_loader,\n",
    "    val_loader=val_loader,\n",
    "    test_loader=test_loader,\n",
    "    epochs=30\n",
    ")\n",
    "\n",
    "run_experiments(model, config)"
   ],
   "metadata": {
    "collapsed": false
   },
   "execution_count": null
  },
  {
   "cell_type": "code",
   "outputs": [],
   "source": [
    "model = CIFARCNN()\n",
    "model.initialize(\"normal\", scale_factor=0.5)\n",
    "\n",
    "config = ExperimentConfig(\n",
    "    model_name=\"CIFAR-10_CNN_NORMAL_0.5_STD\",\n",
    "    train_loader=train_loader,\n",
    "    val_loader=val_loader,\n",
    "    test_loader=test_loader,\n",
    "    epochs=30\n",
    ")\n",
    "\n",
    "run_experiments(model, config)"
   ],
   "metadata": {
    "collapsed": false
   },
   "execution_count": null
  },
  {
   "cell_type": "code",
   "outputs": [],
   "source": [
    "model = CIFARCNN()\n",
    "model.initialize(\"normal\", scale_factor=2.0)\n",
    "\n",
    "config = ExperimentConfig(\n",
    "    model_name=\"CIFAR-10_CNN_NORMAL_2.0_STD\",\n",
    "    train_loader=train_loader,\n",
    "    val_loader=val_loader,\n",
    "    test_loader=test_loader,\n",
    "    epochs=30\n",
    ")\n",
    "\n",
    "run_experiments(model, config)"
   ],
   "metadata": {
    "collapsed": false
   },
   "execution_count": null
  },
  {
   "cell_type": "code",
   "execution_count": null,
   "outputs": [],
   "source": [
    "model = CIFARCNN()\n",
    "model.initialize(\"normal_in_features\", softmax_init=True)\n",
    "\n",
    "config = ExperimentConfig(\n",
    "    model_name=\"CIFAR-10_CNN_NORMAL_IN_FEATURES_LAST_LAYER\",\n",
    "    train_loader=train_loader,\n",
    "    val_loader=val_loader,\n",
    "    test_loader=test_loader,\n",
    "    epochs=30\n",
    ")\n",
    "\n",
    "run_experiments(model, config)"
   ],
   "metadata": {
    "collapsed": false
   }
  },
  {
   "cell_type": "markdown",
   "source": [
    "### RESNET"
   ],
   "metadata": {
    "collapsed": false
   }
  },
  {
   "cell_type": "code",
   "outputs": [],
   "source": [
    "model = ResNet50()\n",
    "\n",
    "config = ExperimentConfig(\n",
    "    model_name=\"CIFAR-10_RESNET\",\n",
    "    train_loader=train_loader,\n",
    "    val_loader=val_loader,\n",
    "    test_loader=test_loader,\n",
    "    epochs=40\n",
    ")\n",
    "\n",
    "run_experiments(model, config)"
   ],
   "metadata": {
    "collapsed": false
   },
   "execution_count": null
  },
  {
   "cell_type": "code",
   "outputs": [
    {
     "name": "stdout",
     "output_type": "stream",
     "text": [
      "### Running experiment CIFAR-10_RESNET_NORMAL ###\n",
      "### 1. Run ###\n"
     ]
    },
    {
     "name": "stderr",
     "output_type": "stream",
     "text": [
      "Epoch 1/40: 100%|█████████████████████████████████████| 1313/1313 [01:43<00:00, 12.67it/s]\n",
      "Epoch 2/40: 100%|█████████████████████████████████████| 1313/1313 [01:41<00:00, 12.93it/s]\n",
      "Epoch 3/40: 100%|█████████████████████████████████████| 1313/1313 [01:42<00:00, 12.82it/s]\n",
      "Epoch 4/40: 100%|█████████████████████████████████████| 1313/1313 [01:39<00:00, 13.13it/s]\n",
      "Epoch 5/40: 100%|█████████████████████████████████████| 1313/1313 [01:41<00:00, 12.92it/s]\n",
      "Epoch 6/40: 100%|█████████████████████████████████████| 1313/1313 [01:41<00:00, 12.99it/s]\n",
      "Epoch 7/40: 100%|█████████████████████████████████████| 1313/1313 [01:40<00:00, 13.05it/s]\n",
      "Epoch 8/40: 100%|█████████████████████████████████████| 1313/1313 [01:35<00:00, 13.70it/s]\n",
      "Epoch 9/40: 100%|█████████████████████████████████████| 1313/1313 [01:36<00:00, 13.67it/s]\n",
      "Epoch 10/40: 100%|████████████████████████████████████| 1313/1313 [01:36<00:00, 13.64it/s]\n",
      "Epoch 11/40: 100%|████████████████████████████████████| 1313/1313 [01:37<00:00, 13.53it/s]\n",
      "Epoch 12/40: 100%|████████████████████████████████████| 1313/1313 [01:38<00:00, 13.31it/s]\n",
      "Epoch 13/40: 100%|████████████████████████████████████| 1313/1313 [01:38<00:00, 13.30it/s]\n",
      "Epoch 14/40: 100%|████████████████████████████████████| 1313/1313 [01:34<00:00, 13.87it/s]\n",
      "Epoch 15/40: 100%|████████████████████████████████████| 1313/1313 [01:34<00:00, 13.90it/s]\n",
      "Epoch 16/40: 100%|████████████████████████████████████| 1313/1313 [01:34<00:00, 13.89it/s]\n",
      "Epoch 17/40: 100%|████████████████████████████████████| 1313/1313 [01:35<00:00, 13.77it/s]\n",
      "Epoch 18/40: 100%|████████████████████████████████████| 1313/1313 [01:35<00:00, 13.68it/s]\n",
      "Epoch 19/40: 100%|████████████████████████████████████| 1313/1313 [01:36<00:00, 13.56it/s]\n",
      "Epoch 20/40: 100%|████████████████████████████████████| 1313/1313 [01:37<00:00, 13.49it/s]\n",
      "Epoch 21/40: 100%|████████████████████████████████████| 1313/1313 [01:34<00:00, 13.86it/s]\n",
      "Epoch 22/40: 100%|████████████████████████████████████| 1313/1313 [01:35<00:00, 13.74it/s]\n",
      "Epoch 23/40: 100%|████████████████████████████████████| 1313/1313 [01:35<00:00, 13.70it/s]\n",
      "Epoch 24/40: 100%|████████████████████████████████████| 1313/1313 [01:38<00:00, 13.30it/s]\n",
      "Epoch 25/40: 100%|████████████████████████████████████| 1313/1313 [01:34<00:00, 13.85it/s]\n",
      "Epoch 26/40: 100%|████████████████████████████████████| 1313/1313 [01:30<00:00, 14.52it/s]\n",
      "Epoch 27/40: 100%|████████████████████████████████████| 1313/1313 [01:37<00:00, 13.48it/s]\n",
      "Epoch 28/40: 100%|████████████████████████████████████| 1313/1313 [01:39<00:00, 13.22it/s]\n",
      "Epoch 29/40: 100%|████████████████████████████████████| 1313/1313 [01:37<00:00, 13.41it/s]\n",
      "Epoch 30/40: 100%|████████████████████████████████████| 1313/1313 [01:32<00:00, 14.17it/s]\n",
      "Epoch 31/40: 100%|████████████████████████████████████| 1313/1313 [01:31<00:00, 14.35it/s]\n",
      "Epoch 32/40: 100%|████████████████████████████████████| 1313/1313 [01:35<00:00, 13.72it/s]\n",
      "Epoch 33/40: 100%|████████████████████████████████████| 1313/1313 [01:35<00:00, 13.75it/s]\n",
      "Epoch 34/40: 100%|████████████████████████████████████| 1313/1313 [01:41<00:00, 12.96it/s]\n",
      "Epoch 35/40: 100%|████████████████████████████████████| 1313/1313 [01:35<00:00, 13.74it/s]\n",
      "Epoch 36/40: 100%|████████████████████████████████████| 1313/1313 [01:32<00:00, 14.14it/s]\n",
      "Epoch 37/40: 100%|████████████████████████████████████| 1313/1313 [01:36<00:00, 13.64it/s]\n",
      "Epoch 38/40: 100%|████████████████████████████████████| 1313/1313 [01:36<00:00, 13.65it/s]\n",
      "Epoch 39/40: 100%|████████████████████████████████████| 1313/1313 [01:36<00:00, 13.66it/s]\n",
      "Epoch 40/40: 100%|████████████████████████████████████| 1313/1313 [01:36<00:00, 13.66it/s]\n"
     ]
    },
    {
     "name": "stdout",
     "output_type": "stream",
     "text": [
      "### 2. Run ###\n"
     ]
    },
    {
     "name": "stderr",
     "output_type": "stream",
     "text": [
      "Epoch 1/40: 100%|█████████████████████████████████████| 1313/1313 [01:33<00:00, 13.97it/s]\n",
      "Epoch 2/40: 100%|█████████████████████████████████████| 1313/1313 [01:36<00:00, 13.61it/s]\n",
      "Epoch 3/40: 100%|█████████████████████████████████████| 1313/1313 [01:36<00:00, 13.62it/s]\n",
      "Epoch 4/40: 100%|█████████████████████████████████████| 1313/1313 [01:35<00:00, 13.70it/s]\n",
      "Epoch 5/40: 100%|█████████████████████████████████████| 1313/1313 [01:38<00:00, 13.28it/s]\n",
      "Epoch 6/40: 100%|█████████████████████████████████████| 1313/1313 [01:40<00:00, 13.08it/s]\n",
      "Epoch 7/40: 100%|█████████████████████████████████████| 1313/1313 [01:35<00:00, 13.74it/s]\n",
      "Epoch 8/40: 100%|█████████████████████████████████████| 1313/1313 [01:35<00:00, 13.71it/s]\n",
      "Epoch 9/40: 100%|█████████████████████████████████████| 1313/1313 [01:35<00:00, 13.69it/s]\n",
      "Epoch 10/40: 100%|████████████████████████████████████| 1313/1313 [01:36<00:00, 13.60it/s]\n",
      "Epoch 11/40: 100%|████████████████████████████████████| 1313/1313 [01:34<00:00, 13.95it/s]\n",
      "Epoch 12/40: 100%|████████████████████████████████████| 1313/1313 [01:37<00:00, 13.43it/s]\n",
      "Epoch 13/40: 100%|████████████████████████████████████| 1313/1313 [01:38<00:00, 13.38it/s]\n",
      "Epoch 14/40: 100%|████████████████████████████████████| 1313/1313 [01:37<00:00, 13.53it/s]\n",
      "Epoch 15/40: 100%|████████████████████████████████████| 1313/1313 [01:32<00:00, 14.19it/s]\n",
      "Epoch 16/40: 100%|████████████████████████████████████| 1313/1313 [01:30<00:00, 14.51it/s]\n",
      "Epoch 17/40: 100%|████████████████████████████████████| 1313/1313 [01:30<00:00, 14.52it/s]\n",
      "Epoch 18/40: 100%|████████████████████████████████████| 1313/1313 [01:29<00:00, 14.66it/s]\n",
      "Epoch 19/40: 100%|████████████████████████████████████| 1313/1313 [01:28<00:00, 14.82it/s]\n",
      "Epoch 20/40: 100%|████████████████████████████████████| 1313/1313 [01:28<00:00, 14.83it/s]\n",
      "Epoch 21/40: 100%|████████████████████████████████████| 1313/1313 [01:28<00:00, 14.83it/s]\n",
      "Epoch 22/40: 100%|████████████████████████████████████| 1313/1313 [01:28<00:00, 14.82it/s]\n",
      "Epoch 23/40: 100%|████████████████████████████████████| 1313/1313 [01:28<00:00, 14.84it/s]\n",
      "Epoch 24/40: 100%|████████████████████████████████████| 1313/1313 [01:28<00:00, 14.82it/s]\n",
      "Epoch 25/40: 100%|████████████████████████████████████| 1313/1313 [01:28<00:00, 14.83it/s]\n",
      "Epoch 26/40: 100%|████████████████████████████████████| 1313/1313 [01:28<00:00, 14.82it/s]\n",
      "Epoch 27/40: 100%|████████████████████████████████████| 1313/1313 [01:28<00:00, 14.81it/s]\n",
      "Epoch 28/40: 100%|████████████████████████████████████| 1313/1313 [01:28<00:00, 14.82it/s]\n",
      "Epoch 29/40: 100%|████████████████████████████████████| 1313/1313 [01:28<00:00, 14.82it/s]\n",
      "Epoch 30/40: 100%|████████████████████████████████████| 1313/1313 [01:28<00:00, 14.84it/s]\n",
      "Epoch 31/40: 100%|████████████████████████████████████| 1313/1313 [01:28<00:00, 14.82it/s]\n",
      "Epoch 32/40: 100%|████████████████████████████████████| 1313/1313 [01:28<00:00, 14.84it/s]\n",
      "Epoch 33/40: 100%|████████████████████████████████████| 1313/1313 [01:28<00:00, 14.83it/s]\n",
      "Epoch 34/40: 100%|████████████████████████████████████| 1313/1313 [01:28<00:00, 14.84it/s]\n",
      "Epoch 35/40: 100%|████████████████████████████████████| 1313/1313 [01:28<00:00, 14.81it/s]\n",
      "Epoch 36/40: 100%|████████████████████████████████████| 1313/1313 [01:28<00:00, 14.83it/s]\n",
      "Epoch 37/40: 100%|████████████████████████████████████| 1313/1313 [01:28<00:00, 14.84it/s]\n",
      "Epoch 38/40: 100%|████████████████████████████████████| 1313/1313 [01:28<00:00, 14.81it/s]\n",
      "Epoch 39/40: 100%|████████████████████████████████████| 1313/1313 [01:28<00:00, 14.85it/s]\n",
      "Epoch 40/40: 100%|████████████████████████████████████| 1313/1313 [01:28<00:00, 14.83it/s]\n"
     ]
    },
    {
     "name": "stdout",
     "output_type": "stream",
     "text": [
      "### 3. Run ###\n"
     ]
    },
    {
     "name": "stderr",
     "output_type": "stream",
     "text": [
      "Epoch 1/40: 100%|█████████████████████████████████████| 1313/1313 [01:28<00:00, 14.84it/s]\n",
      "Epoch 2/40: 100%|█████████████████████████████████████| 1313/1313 [01:28<00:00, 14.83it/s]\n",
      "Epoch 3/40: 100%|█████████████████████████████████████| 1313/1313 [01:28<00:00, 14.81it/s]\n",
      "Epoch 4/40: 100%|█████████████████████████████████████| 1313/1313 [01:28<00:00, 14.83it/s]\n",
      "Epoch 5/40: 100%|█████████████████████████████████████| 1313/1313 [01:28<00:00, 14.84it/s]\n",
      "Epoch 6/40: 100%|█████████████████████████████████████| 1313/1313 [01:28<00:00, 14.82it/s]\n",
      "Epoch 7/40: 100%|█████████████████████████████████████| 1313/1313 [01:28<00:00, 14.82it/s]\n",
      "Epoch 8/40: 100%|█████████████████████████████████████| 1313/1313 [01:28<00:00, 14.83it/s]\n",
      "Epoch 9/40: 100%|█████████████████████████████████████| 1313/1313 [01:28<00:00, 14.81it/s]\n",
      "Epoch 10/40: 100%|████████████████████████████████████| 1313/1313 [01:28<00:00, 14.84it/s]\n",
      "Epoch 11/40: 100%|████████████████████████████████████| 1313/1313 [01:28<00:00, 14.83it/s]\n",
      "Epoch 12/40: 100%|████████████████████████████████████| 1313/1313 [01:28<00:00, 14.84it/s]\n",
      "Epoch 13/40: 100%|████████████████████████████████████| 1313/1313 [01:28<00:00, 14.83it/s]\n",
      "Epoch 14/40: 100%|████████████████████████████████████| 1313/1313 [01:28<00:00, 14.82it/s]\n",
      "Epoch 15/40: 100%|████████████████████████████████████| 1313/1313 [01:28<00:00, 14.84it/s]\n",
      "Epoch 16/40: 100%|████████████████████████████████████| 1313/1313 [01:28<00:00, 14.83it/s]\n",
      "Epoch 17/40: 100%|████████████████████████████████████| 1313/1313 [01:28<00:00, 14.83it/s]\n",
      "Epoch 18/40: 100%|████████████████████████████████████| 1313/1313 [01:28<00:00, 14.82it/s]\n",
      "Epoch 19/40: 100%|████████████████████████████████████| 1313/1313 [01:28<00:00, 14.84it/s]\n",
      "Epoch 20/40: 100%|████████████████████████████████████| 1313/1313 [01:28<00:00, 14.85it/s]\n",
      "Epoch 21/40: 100%|████████████████████████████████████| 1313/1313 [01:28<00:00, 14.84it/s]\n",
      "Epoch 22/40: 100%|████████████████████████████████████| 1313/1313 [01:28<00:00, 14.82it/s]\n",
      "Epoch 23/40: 100%|████████████████████████████████████| 1313/1313 [01:28<00:00, 14.82it/s]\n",
      "Epoch 24/40: 100%|████████████████████████████████████| 1313/1313 [01:28<00:00, 14.83it/s]\n",
      "Epoch 25/40: 100%|████████████████████████████████████| 1313/1313 [01:28<00:00, 14.83it/s]\n",
      "Epoch 26/40: 100%|████████████████████████████████████| 1313/1313 [01:36<00:00, 13.66it/s]\n",
      "Epoch 27/40: 100%|████████████████████████████████████| 1313/1313 [01:41<00:00, 12.88it/s]\n",
      "Epoch 28/40: 100%|████████████████████████████████████| 1313/1313 [01:39<00:00, 13.17it/s]\n",
      "Epoch 29/40: 100%|████████████████████████████████████| 1313/1313 [01:39<00:00, 13.14it/s]\n",
      "Epoch 30/40: 100%|████████████████████████████████████| 1313/1313 [01:39<00:00, 13.23it/s]\n",
      "Epoch 31/40: 100%|████████████████████████████████████| 1313/1313 [01:39<00:00, 13.18it/s]\n",
      "Epoch 32/40: 100%|████████████████████████████████████| 1313/1313 [01:39<00:00, 13.15it/s]\n",
      "Epoch 33/40: 100%|████████████████████████████████████| 1313/1313 [01:39<00:00, 13.19it/s]\n",
      "Epoch 34/40: 100%|████████████████████████████████████| 1313/1313 [01:40<00:00, 13.11it/s]\n",
      "Epoch 35/40:  84%|██████████████████████████████▍     | 1109/1313 [01:24<00:15, 13.31it/s]"
     ]
    }
   ],
   "source": [
    "model = ResNet50()\n",
    "model.initialize(\"normal\")\n",
    "\n",
    "config = ExperimentConfig(\n",
    "    model_name=\"CIFAR-10_RESNET_NORMAL\",\n",
    "    train_loader=train_loader,\n",
    "    val_loader=val_loader,\n",
    "    test_loader=test_loader,\n",
    "    epochs=40\n",
    ")\n",
    "\n",
    "run_experiments(model, config)"
   ],
   "metadata": {
    "collapsed": false,
    "ExecuteTime": {
     "end_time": "2024-02-10T09:54:20.150716710Z",
     "start_time": "2024-02-10T04:23:32.429602211Z"
    }
   },
   "execution_count": 3
  },
  {
   "cell_type": "code",
   "outputs": [],
   "source": [
    "model = ResNet50()\n",
    "model.initialize(\"normal\", ELU_SCALE_NORMAL)\n",
    "\n",
    "config = ExperimentConfig(\n",
    "    model_name=\"CIFAR-10_RESNET_NORMAL_ELU_SCALE\",\n",
    "    train_loader=train_loader,\n",
    "    val_loader=val_loader,\n",
    "    test_loader=test_loader,\n",
    "    epochs=40\n",
    ")\n",
    "\n",
    "run_experiments(model, config)"
   ],
   "metadata": {
    "collapsed": false
   },
   "execution_count": 4
  },
  {
   "cell_type": "code",
   "outputs": [],
   "source": [
    "model = ResNet50()\n",
    "model.initialize(mode=\"uniform\", a=0, b=1)\n",
    "\n",
    "config = ExperimentConfig(\n",
    "    model_name=\"CIFAR-10_RESNET_UNIFORM_0-1\",\n",
    "    train_loader=train_loader,\n",
    "    val_loader=val_loader,\n",
    "    test_loader=test_loader,\n",
    "    epochs=40\n",
    ")\n",
    "\n",
    "run_experiments(model, config)"
   ],
   "metadata": {
    "collapsed": false
   },
   "execution_count": 5
  },
  {
   "cell_type": "code",
   "outputs": [],
   "source": [
    "model = ResNet50()\n",
    "model.initialize(mode=\"uniform\", a=-math.sqrt(3), b=math.sqrt(3))\n",
    "\n",
    "config = ExperimentConfig(\n",
    "    model_name=\"CIFAR-10_RESNET_UNIFORM_PRE_ACT\",\n",
    "    train_loader=train_loader,\n",
    "    val_loader=val_loader,\n",
    "    test_loader=test_loader,\n",
    "    epochs=40\n",
    ")\n",
    "\n",
    "run_experiments(model, config)"
   ],
   "metadata": {
    "collapsed": false
   },
   "execution_count": 6
  },
  {
   "cell_type": "code",
   "outputs": [],
   "source": [
    "model = ResNet50()\n",
    "model.initialize(mode=\"deterministic\", a=-1.73, b=1.73)\n",
    "\n",
    "config = ExperimentConfig(\n",
    "    model_name=\"CIFAR-10_RESNET_UNIFORM_PRE_ACT_DET\",\n",
    "    train_loader=train_loader,\n",
    "    val_loader=val_loader,\n",
    "    test_loader=test_loader,\n",
    "    epochs=40\n",
    ")\n",
    "\n",
    "run_experiments(model, config)"
   ],
   "metadata": {
    "collapsed": false
   },
   "execution_count": 7
  },
  {
   "cell_type": "code",
   "outputs": [],
   "source": [
    "model = ResNet50()\n",
    "model.initialize(mode=\"uniform\", a=-3.437, b=2.222)\n",
    "\n",
    "config = ExperimentConfig(\n",
    "    model_name=\"CIFAR-10_RESNET_UNIFORM_UNIT_VAR_ZERO_MEAN\",\n",
    "    train_loader=train_loader,\n",
    "    val_loader=val_loader,\n",
    "    test_loader=test_loader,\n",
    "    epochs=40\n",
    ")\n",
    "\n",
    "run_experiments(model, config)"
   ],
   "metadata": {
    "collapsed": false
   },
   "execution_count": 8
  },
  {
   "cell_type": "code",
   "outputs": [],
   "source": [
    "model = ResNet50()\n",
    "model.initialize(mode=\"deterministic\", a=-3.437, b=2.222)\n",
    "\n",
    "config = ExperimentConfig(\n",
    "    model_name=\"CIFAR-10_RESNET_UNIFORM_UNIT_VAR_ZERO_MEAN_DET\",\n",
    "    train_loader=train_loader,\n",
    "    val_loader=val_loader,\n",
    "    test_loader=test_loader,\n",
    "    epochs=40\n",
    ")\n",
    "\n",
    "run_experiments(model, config)"
   ],
   "metadata": {
    "collapsed": false
   },
   "execution_count": 9
  },
  {
   "cell_type": "markdown",
   "source": [
    "#### 4.1.1 Finding The Point of Break"
   ],
   "metadata": {
    "collapsed": false
   }
  },
  {
   "cell_type": "code",
   "execution_count": null,
   "outputs": [],
   "source": [
    "factor_range = range(10, 301, 10)\n",
    "\n",
    "for factor in factor_range:\n",
    "    torch.manual_seed(R_SEED)\n",
    "    random.seed(R_SEED)\n",
    "    np.random.seed(R_SEED)\n",
    "\n",
    "    model = CIFARCNN()\n",
    "    model.initialize(mode=\"normal\", scale_factor=factor)\n",
    "    writer = SummaryWriter(f\"./results/CIFAR-10_CNN_NORMAL_1_{factor}\")\n",
    "    trainer = Trainer(model=model, lr=0.001, writer=writer)\n",
    "\n",
    "    trainer.train(train_loader=train_loader, test_loader=test_loader, num_epochs=30, train_summary=False)"
   ],
   "metadata": {
    "collapsed": false
   }
  },
  {
   "cell_type": "code",
   "execution_count": null,
   "outputs": [],
   "source": [
    "factors = [10, 100, 1000, 10_000, 100_000, 1_000_000]\n",
    "\n",
    "for factor in factors:\n",
    "    torch.manual_seed(R_SEED)\n",
    "    random.seed(R_SEED)\n",
    "    np.random.seed(R_SEED)\n",
    "\n",
    "    factor = 1 / factor\n",
    "\n",
    "    model = CIFARCNN()\n",
    "    model.initialize(mode=\"normal\", scale_factor=factor)\n",
    "    writer = SummaryWriter(f\"./results/CIFAR-10_CNN_NORMAL_DOWN_{factor}\")\n",
    "    trainer = Trainer(model=model, lr=0.001, writer=writer)\n",
    "\n",
    "    trainer.train(train_loader=train_loader, test_loader=test_loader, num_epochs=30, train_summary=False)"
   ],
   "metadata": {
    "collapsed": false
   }
  },
  {
   "cell_type": "markdown",
   "source": [
    "### 4.2 Uniform Distribution"
   ],
   "metadata": {
    "collapsed": false
   }
  },
  {
   "cell_type": "code",
   "execution_count": null,
   "outputs": [],
   "source": [
    "train_loader, val_loader = get_cifar10_loader(train=True, batch_size=32, flatten=False)\n",
    "test_loader = get_cifar10_loader(train=False, batch_size=32, flatten=False)"
   ],
   "metadata": {
    "collapsed": false
   }
  },
  {
   "cell_type": "markdown",
   "source": [
    "#### 4.2.1 Zero To One Pre-Activations"
   ],
   "metadata": {
    "collapsed": false
   }
  },
  {
   "cell_type": "code",
   "execution_count": null,
   "outputs": [],
   "source": [
    "model = CIFARCNN()\n",
    "model.initialize(mode=\"uniform\", a=0, b=1)\n",
    "\n",
    "config = ExperimentConfig(\n",
    "    model_name=\"CIFAR-10_CNN_UNIFORM_0-1\",\n",
    "    train_loader=train_loader,\n",
    "    val_loader=val_loader,\n",
    "    test_loader=test_loader,\n",
    "    epochs=30\n",
    ")\n",
    "\n",
    "run_experiments(model, config)"
   ],
   "metadata": {
    "collapsed": false
   }
  },
  {
   "cell_type": "markdown",
   "source": [
    "#### 4.2.2 Unit Variance And Zero Mean Pre-Activations"
   ],
   "metadata": {
    "collapsed": false
   }
  },
  {
   "cell_type": "code",
   "execution_count": null,
   "outputs": [],
   "source": [
    "model = CIFARCNN()\n",
    "model.initialize(mode=\"uniform\", a=-math.sqrt(3), b=math.sqrt(3))\n",
    "\n",
    "config = ExperimentConfig(\n",
    "    model_name=\"CIFAR-10_CNN_UNIFORM_PRE_ACT\",\n",
    "    train_loader=train_loader,\n",
    "    val_loader=val_loader,\n",
    "    test_loader=test_loader,\n",
    "    epochs=30\n",
    ")\n",
    "\n",
    "run_experiments(model, config)"
   ],
   "metadata": {
    "collapsed": false
   }
  },
  {
   "cell_type": "code",
   "execution_count": null,
   "outputs": [],
   "source": [
    "model = CIFARCNN()\n",
    "model.initialize(mode=\"deterministic\", a=-1.73, b=1.73)\n",
    "\n",
    "config = ExperimentConfig(\n",
    "    model_name=\"CIFAR-10_CNN_UNIFORM_PRE_ACT_DET\",\n",
    "    train_loader=train_loader,\n",
    "    val_loader=val_loader,\n",
    "    test_loader=test_loader,\n",
    "    epochs=30\n",
    ")\n",
    "\n",
    "run_experiments(model, config)"
   ],
   "metadata": {
    "collapsed": false
   }
  },
  {
   "cell_type": "markdown",
   "source": [
    "#### 4.2.3 Unit Variance and Zero Mean Activations"
   ],
   "metadata": {
    "collapsed": false
   }
  },
  {
   "cell_type": "code",
   "execution_count": null,
   "outputs": [],
   "source": [
    "model = CIFARCNN()\n",
    "model.initialize(mode=\"uniform\", a=-3.437, b=2.222)\n",
    "\n",
    "config = ExperimentConfig(\n",
    "    model_name=\"CIFAR-10_CNN_UNIFORM_UNIT_VAR_ZERO_MEAN\",\n",
    "    train_loader=train_loader,\n",
    "    val_loader=val_loader,\n",
    "    test_loader=test_loader,\n",
    "    epochs=30\n",
    ")\n",
    "\n",
    "run_experiments(model, config)"
   ],
   "metadata": {
    "collapsed": false
   }
  },
  {
   "cell_type": "code",
   "execution_count": null,
   "outputs": [],
   "source": [
    "model = CIFARCNN()\n",
    "model.initialize(mode=\"deterministic\", a=-3.437, b=2.222)\n",
    "\n",
    "config = ExperimentConfig(\n",
    "    model_name=\"CIFAR-10_CNN_UNIFORM_UNIT_VAR_ZERO_MEAN_DET\",\n",
    "    train_loader=train_loader,\n",
    "    val_loader=val_loader,\n",
    "    test_loader=test_loader,\n",
    "    epochs=30\n",
    ")\n",
    "\n",
    "run_experiments(model, config)"
   ],
   "metadata": {
    "collapsed": false
   }
  },
  {
   "cell_type": "markdown",
   "source": [
    "#### 4.2.5 Comparison"
   ],
   "metadata": {
    "collapsed": false
   }
  },
  {
   "cell_type": "markdown",
   "source": [
    "### 4.3 Compare Our Approach To Others"
   ],
   "metadata": {
    "collapsed": false
   }
  },
  {
   "cell_type": "code",
   "execution_count": null,
   "outputs": [],
   "source": [
    "def objective(trial):\n",
    "    torch.manual_seed(R_SEED)\n",
    "    random.seed(R_SEED)\n",
    "    np.random.seed(R_SEED)\n",
    "\n",
    "    params = {\n",
    "        \"learning_rate\": trial.suggest_float(\"learning_rate\", 1e-5, 1e-1, log=True),\n",
    "        \"optimizer\": trial.suggest_categorical(\"optimizer\", [Adam, RMSprop, SGD]),\n",
    "        \"batch_size\": trial.suggest_int(\"batch_size\", 4, 64, 2),\n",
    "\n",
    "    }\n",
    "\n",
    "    train_loader, val_loader = get_cifar10_loader(train=True, batch_size=params[\"batch_size\"], flatten=False)\n",
    "    test_loader = get_cifar10_loader(train=False, batch_size=params[\"batch_size\"], flatten=False)\n",
    "\n",
    "    model = CIFARCNN()\n",
    "\n",
    "    writer = SummaryWriter(\"./results/CIFAR_CNN_TRIAL\")\n",
    "    trainer = Trainer(model=model, lr=params[\"learning_rate\"], optimizer=params[\"optimizer\"], writer=writer)\n",
    "    accuracy = trainer.train(train_loader=train_loader, test_loader=test_loader, num_epochs=15, trial=trial,\n",
    "                             train_summary=False)\n",
    "\n",
    "    return accuracy\n",
    "\n",
    "\n",
    "study = optuna.create_study(direction=\"maximize\", sampler=optuna.samplers.TPESampler())\n",
    "study.optimize(objective, n_trials=28)\n",
    "\n",
    "joblib.dump(study, os.path.join(\"results\", \"optuna\", \"cifar_cnn.pkl\"))"
   ],
   "metadata": {
    "collapsed": false
   }
  },
  {
   "cell_type": "code",
   "execution_count": null,
   "outputs": [],
   "source": [
    "optuna.visualization.plot_parallel_coordinate(study)\n",
    "study = joblib.load(os.path.join(\"results\", \"optuna\", \"cifar_cnn.pkl\"), 'r')\n",
    "\n",
    "for key, value in study.best_trial.params.items():\n",
    "    print(\"{}: {}\".format(key, value))\n",
    "print(f\"final accuracy: {study.best_trial.value}\")\n",
    "\n",
    "optuna.visualization.plot_parallel_coordinate(study)"
   ],
   "metadata": {
    "collapsed": false
   }
  },
  {
   "cell_type": "code",
   "execution_count": null,
   "outputs": [],
   "source": [
    "def objective(trial):\n",
    "    torch.manual_seed(R_SEED)\n",
    "    random.seed(R_SEED)\n",
    "    np.random.seed(R_SEED)\n",
    "\n",
    "    params = {\n",
    "        \"learning_rate\": trial.suggest_float(\"learning_rate\", 1e-5, 1e-1, log=True),\n",
    "        \"optimizer\": trial.suggest_categorical(\"optimizer\", [Adam, RMSprop, SGD]),\n",
    "        \"batch_size\": trial.suggest_int(\"batch_size\", 4, 64, 2),\n",
    "\n",
    "    }\n",
    "\n",
    "    train_loader, val_loader = get_cifar10_loader(train=True, batch_size=params[\"batch_size\"], flatten=False)\n",
    "    test_loader = get_cifar10_loader(train=False, batch_size=params[\"batch_size\"], flatten=False)\n",
    "\n",
    "    model = CIFARCNN()\n",
    "    model.initialize(\"normal_in_features\")\n",
    "\n",
    "    writer = SummaryWriter(\"./results/CIFAR_CNN_TRIAL_NORMAL\")\n",
    "    trainer = Trainer(model=model, lr=params[\"learning_rate\"], optimizer=params[\"optimizer\"], writer=writer)\n",
    "    accuracy = trainer.train(train_loader=train_loader, test_loader=test_loader, num_epochs=15, trial=trial,\n",
    "                             train_summary=False)\n",
    "\n",
    "    return accuracy\n",
    "\n",
    "\n",
    "study = optuna.create_study(direction=\"maximize\", sampler=optuna.samplers.TPESampler())\n",
    "study.optimize(objective, n_trials=28)\n",
    "\n",
    "joblib.dump(study, os.path.join(\"results\", \"optuna\", \"cifar_cnn_normal.pkl\"))"
   ],
   "metadata": {
    "collapsed": false
   }
  },
  {
   "cell_type": "code",
   "execution_count": null,
   "outputs": [],
   "source": [
    "optuna.visualization.plot_parallel_coordinate(study)\n",
    "study = joblib.load(os.path.join(\"results\", \"optuna\", \"cifar_cnn_normal.pkl\"), 'r')\n",
    "\n",
    "for key, value in study.best_trial.params.items():\n",
    "    print(\"{}: {}\".format(key, value))\n",
    "print(f\"final accuracy: {study.best_trial.value}\")\n",
    "\n",
    "optuna.visualization.plot_parallel_coordinate(study)"
   ],
   "metadata": {
    "collapsed": false
   }
  },
  {
   "cell_type": "code",
   "execution_count": null,
   "outputs": [],
   "source": [
    "def objective(trial):\n",
    "    torch.manual_seed(R_SEED)\n",
    "    random.seed(R_SEED)\n",
    "    np.random.seed(R_SEED)\n",
    "\n",
    "    params = {\n",
    "        \"learning_rate\": trial.suggest_float(\"learning_rate\", 1e-5, 1e-1, log=True),\n",
    "        \"optimizer\": trial.suggest_categorical(\"optimizer\", [Adam, RMSprop, SGD]),\n",
    "        \"batch_size\": trial.suggest_int(\"batch_size\", 4, 64, 2),\n",
    "\n",
    "    }\n",
    "\n",
    "    train_loader, val_loader = get_cifar10_loader(train=True, batch_size=params[\"batch_size\"], flatten=False)\n",
    "    test_loader = get_cifar10_loader(train=False, batch_size=params[\"batch_size\"], flatten=False)\n",
    "\n",
    "    model = CIFARCNN()\n",
    "    model.initialize('uniform', a=0, b=1)\n",
    "\n",
    "    writer = SummaryWriter(\"./results/CIFAR_CNN_TRIAL_UNIFORM\")\n",
    "    trainer = Trainer(model=model, lr=params[\"learning_rate\"], optimizer=params[\"optimizer\"], writer=writer)\n",
    "    accuracy = trainer.train(train_loader=train_loader, test_loader=test_loader, num_epochs=15, trial=trial,\n",
    "                             train_summary=False)\n",
    "\n",
    "    return accuracy\n",
    "\n",
    "\n",
    "study = optuna.create_study(direction=\"maximize\", sampler=optuna.samplers.TPESampler())\n",
    "study.optimize(objective, n_trials=28)\n",
    "\n",
    "joblib.dump(study, os.path.join(\"results\", \"optuna\", \"cifar_cnn_uniform.pkl\"))"
   ],
   "metadata": {
    "collapsed": false
   }
  },
  {
   "cell_type": "code",
   "execution_count": null,
   "outputs": [],
   "source": [
    "optuna.visualization.plot_parallel_coordinate(study)\n",
    "study = joblib.load(os.path.join(\"results\", \"optuna\", \"cifar_cnn_uniform.pkl\"), 'r')\n",
    "\n",
    "for key, value in study.best_trial.params.items():\n",
    "    print(\"{}: {}\".format(key, value))\n",
    "print(f\"final accuracy: {study.best_trial.value}\")\n",
    "\n",
    "optuna.visualization.plot_parallel_coordinate(study)"
   ],
   "metadata": {
    "collapsed": false
   }
  },
  {
   "metadata": {},
   "cell_type": "code",
   "outputs": [],
   "execution_count": null,
   "source": ""
  }
 ],
 "metadata": {
  "kernelspec": {
   "display_name": "Python 3",
   "language": "python",
   "name": "python3"
  },
  "language_info": {
   "codemirror_mode": {
    "name": "ipython",
    "version": 2
   },
   "file_extension": ".py",
   "mimetype": "text/x-python",
   "name": "python",
   "nbconvert_exporter": "python",
   "pygments_lexer": "ipython2",
   "version": "2.7.6"
  }
 },
 "nbformat": 4,
 "nbformat_minor": 0
}
