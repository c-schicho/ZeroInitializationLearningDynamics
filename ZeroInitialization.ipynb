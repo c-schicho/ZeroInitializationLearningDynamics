{
 "cells": [
  {
   "cell_type": "code",
   "execution_count": null,
   "metadata": {
    "collapsed": true
   },
   "outputs": [],
   "source": [
    "from torch.utils.tensorboard import SummaryWriter\n",
    "\n",
    "from data import get_mnist_loader\n",
    "from models import FNN\n",
    "from train import Trainer"
   ]
  },
  {
   "cell_type": "code",
   "execution_count": null,
   "outputs": [],
   "source": [
    "train_loader, val_loader = get_mnist_loader(train=True, batch_size=32)\n",
    "test_loader = get_mnist_loader(train=False, batch_size=32)"
   ],
   "metadata": {
    "collapsed": false
   }
  },
  {
   "cell_type": "code",
   "execution_count": null,
   "outputs": [],
   "source": [
    "model = FNN(layer_features=[28 * 28, 500, 10])\n",
    "writer = SummaryWriter(\"./results/FNN\")\n",
    "trainer = Trainer(model=model, lr=0.001, writer=writer)\n",
    "\n",
    "trainer.train(train_loader=train_loader, num_epochs=1)"
   ],
   "metadata": {
    "collapsed": false
   }
  },
  {
   "cell_type": "code",
   "execution_count": null,
   "outputs": [],
   "source": [
    "model = FNN(layer_features=[28 * 28, 500, 10])\n",
    "model.initialize(mode=\"normal\")\n",
    "writer = SummaryWriter(\"./results/FNN_NORMAL\")\n",
    "trainer = Trainer(model=model, lr=0.001, writer=writer)\n",
    "\n",
    "trainer.train(train_loader=train_loader, num_epochs=1)"
   ],
   "metadata": {
    "collapsed": false
   }
  },
  {
   "cell_type": "code",
   "execution_count": null,
   "outputs": [],
   "source": [],
   "metadata": {
    "collapsed": false
   }
  }
 ],
 "metadata": {
  "kernelspec": {
   "display_name": "Python 3",
   "language": "python",
   "name": "python3"
  },
  "language_info": {
   "codemirror_mode": {
    "name": "ipython",
    "version": 2
   },
   "file_extension": ".py",
   "mimetype": "text/x-python",
   "name": "python",
   "nbconvert_exporter": "python",
   "pygments_lexer": "ipython2",
   "version": "2.7.6"
  }
 },
 "nbformat": 4,
 "nbformat_minor": 0
}
